{
 "cells": [
  {
   "cell_type": "markdown",
   "metadata": {},
   "source": [
    "# Starbucks Capstone Challenge\n",
    "\n",
    "### Introduction\n",
    "\n",
    "This data set contains simulated data that mimics customer behavior on the Starbucks rewards mobile app. Once every few days, Starbucks sends out an offer to users of the mobile app. An offer can be merely an advertisement for a drink or an actual offer such as a discount or BOGO (buy one get one free). Some users might not receive any offer during certain weeks. \n",
    "\n",
    "Not all users receive the same offer, and that is the challenge to solve with this data set.\n",
    "\n",
    "Your task is to combine transaction, demographic and offer data to determine which demographic groups respond best to which offer type. This data set is a simplified version of the real Starbucks app because the underlying simulator only has one product whereas Starbucks actually sells dozens of products.\n",
    "\n",
    "Every offer has a validity period before the offer expires. As an example, a BOGO offer might be valid for only 5 days. You'll see in the data set that informational offers have a validity period even though these ads are merely providing information about a product; for example, if an informational offer has 7 days of validity, you can assume the customer is feeling the influence of the offer for 7 days after receiving the advertisement.\n",
    "\n",
    "You'll be given transactional data showing user purchases made on the app including the timestamp of purchase and the amount of money spent on a purchase. This transactional data also has a record for each offer that a user receives as well as a record for when a user actually views the offer. There are also records for when a user completes an offer. \n",
    "\n",
    "Keep in mind as well that someone using the app might make a purchase through the app without having received an offer or seen an offer.\n",
    "\n",
    "### Example\n",
    "\n",
    "To give an example, a user could receive a discount offer buy 10 dollars get 2 off on Monday. The offer is valid for 10 days from receipt. If the customer accumulates at least 10 dollars in purchases during the validity period, the customer completes the offer.\n",
    "\n",
    "However, there are a few things to watch out for in this data set. Customers do not opt into the offers that they receive; in other words, a user can receive an offer, never actually view the offer, and still complete the offer. For example, a user might receive the \"buy 10 dollars get 2 dollars off offer\", but the user never opens the offer during the 10 day validity period. The customer spends 15 dollars during those ten days. There will be an offer completion record in the data set; however, the customer was not influenced by the offer because the customer never viewed the offer.\n",
    "\n",
    "### Cleaning\n",
    "\n",
    "This makes data cleaning especially important and tricky.\n",
    "\n",
    "You'll also want to take into account that some demographic groups will make purchases even if they don't receive an offer. From a business perspective, if a customer is going to make a 10 dollar purchase without an offer anyway, you wouldn't want to send a buy 10 dollars get 2 dollars off offer. You'll want to try to assess what a certain demographic group will buy when not receiving any offers.\n",
    "\n",
    "### Final Advice\n",
    "\n",
    "Because this is a capstone project, you are free to analyze the data any way you see fit. For example, you could build a machine learning model that predicts how much someone will spend based on demographics and offer type. Or you could build a model that predicts whether or not someone will respond to an offer. Or, you don't need to build a machine learning model at all. You could develop a set of heuristics that determine what offer you should send to each customer (i.e., 75 percent of women customers who were 35 years old responded to offer A vs 40 percent from the same demographic to offer B, so send offer A)."
   ]
  },
  {
   "cell_type": "markdown",
   "metadata": {},
   "source": [
    "# Data Sets\n",
    "\n",
    "The data is contained in three files:\n",
    "\n",
    "* portfolio.json - containing offer ids and meta data about each offer (duration, type, etc.)\n",
    "* profile.json - demographic data for each customer\n",
    "* transcript.json - records for transactions, offers received, offers viewed, and offers completed\n",
    "\n",
    "Here is the schema and explanation of each variable in the files:\n",
    "\n",
    "**portfolio.json**\n",
    "* id (string) - offer id\n",
    "* offer_type (string) - type of offer ie BOGO, discount, informational\n",
    "* difficulty (int) - minimum required spend to complete an offer\n",
    "* reward (int) - reward given for completing an offer\n",
    "* duration (int) - time for offer to be open, in days\n",
    "* channels (list of strings)\n",
    "\n",
    "**profile.json**\n",
    "* age (int) - age of the customer \n",
    "* became_member_on (int) - date when customer created an app account\n",
    "* gender (str) - gender of the customer (note some entries contain 'O' for other rather than M or F)\n",
    "* id (str) - customer id\n",
    "* income (float) - customer's income\n",
    "\n",
    "**transcript.json**\n",
    "* event (str) - record description (ie transaction, offer received, offer viewed, etc.)\n",
    "* person (str) - customer id\n",
    "* time (int) - time in hours since start of test. The data begins at time t=0\n",
    "* value - (dict of strings) - either an offer id or transaction amount depending on the record\n",
    "\n",
    "**Note:** If you are using the workspace, you will need to go to the terminal and run the command `conda update pandas` before reading in the files. This is because the version of pandas in the workspace cannot read in the transcript.json file correctly, but the newest version of pandas can. You can access the termnal from the orange icon in the top left of this notebook.  \n",
    "\n",
    "You can see how to access the terminal and how the install works using the two images below.  First you need to access the terminal:\n",
    "\n",
    "<img src=\"pic1.png\"/>\n",
    "\n",
    "Then you will want to run the above command:\n",
    "\n",
    "<img src=\"pic2.png\"/>\n",
    "\n",
    "Finally, when you enter back into the notebook (use the jupyter icon again), you should be able to run the below cell without any errors."
   ]
  },
  {
   "cell_type": "code",
   "execution_count": 2,
   "metadata": {},
   "outputs": [],
   "source": [
    "import pandas as pd\n",
    "import numpy as np\n",
    "import math\n",
    "import json\n",
    "% matplotlib inline\n",
    "\n",
    "# read in the json files\n",
    "portfolio = pd.read_json('data/portfolio.json', orient='records', lines=True)\n",
    "profile = pd.read_json('data/profile.json', orient='records', lines=True)\n",
    "transcript = pd.read_json('data/transcript.json', orient='records', lines=True)"
   ]
  },
  {
   "cell_type": "markdown",
   "metadata": {},
   "source": [
    "First, we need to import the libraries"
   ]
  },
  {
   "cell_type": "code",
   "execution_count": 3,
   "metadata": {},
   "outputs": [],
   "source": [
    "import pandas as pd\n",
    "import numpy as np\n",
    "import math\n",
    "import json\n",
    "import datetime\n",
    "from ast import literal_eval\n",
    "\n",
    "from sklearn.model_selection import train_test_split\n",
    "from sklearn.ensemble import RandomForestClassifier\n",
    "from sklearn.multioutput import MultiOutputClassifier\n",
    "from sklearn.pipeline import Pipeline\n",
    "from sklearn.preprocessing import StandardScaler\n",
    "from sklearn.metrics import classification_report\n",
    "from sklearn.model_selection import GridSearchCV\n",
    "\n",
    "import matplotlib.pyplot as plt\n",
    "import seaborn as sns"
   ]
  },
  {
   "cell_type": "markdown",
   "metadata": {},
   "source": [
    "# Data exploration"
   ]
  },
  {
   "cell_type": "markdown",
   "metadata": {},
   "source": [
    "## Portfolio file"
   ]
  },
  {
   "cell_type": "code",
   "execution_count": 4,
   "metadata": {},
   "outputs": [
    {
     "data": {
      "text/html": [
       "<div>\n",
       "<style scoped>\n",
       "    .dataframe tbody tr th:only-of-type {\n",
       "        vertical-align: middle;\n",
       "    }\n",
       "\n",
       "    .dataframe tbody tr th {\n",
       "        vertical-align: top;\n",
       "    }\n",
       "\n",
       "    .dataframe thead th {\n",
       "        text-align: right;\n",
       "    }\n",
       "</style>\n",
       "<table border=\"1\" class=\"dataframe\">\n",
       "  <thead>\n",
       "    <tr style=\"text-align: right;\">\n",
       "      <th></th>\n",
       "      <th>channels</th>\n",
       "      <th>difficulty</th>\n",
       "      <th>duration</th>\n",
       "      <th>id</th>\n",
       "      <th>offer_type</th>\n",
       "      <th>reward</th>\n",
       "    </tr>\n",
       "  </thead>\n",
       "  <tbody>\n",
       "    <tr>\n",
       "      <th>0</th>\n",
       "      <td>[email, mobile, social]</td>\n",
       "      <td>10</td>\n",
       "      <td>7</td>\n",
       "      <td>ae264e3637204a6fb9bb56bc8210ddfd</td>\n",
       "      <td>bogo</td>\n",
       "      <td>10</td>\n",
       "    </tr>\n",
       "  </tbody>\n",
       "</table>\n",
       "</div>"
      ],
      "text/plain": [
       "                  channels  difficulty  duration  \\\n",
       "0  [email, mobile, social]          10         7   \n",
       "\n",
       "                                 id offer_type  reward  \n",
       "0  ae264e3637204a6fb9bb56bc8210ddfd       bogo      10  "
      ]
     },
     "execution_count": 4,
     "metadata": {},
     "output_type": "execute_result"
    }
   ],
   "source": [
    "portfolio.head(1)"
   ]
  },
  {
   "cell_type": "code",
   "execution_count": 5,
   "metadata": {},
   "outputs": [
    {
     "name": "stdout",
     "output_type": "stream",
     "text": [
      "<class 'pandas.core.frame.DataFrame'>\n",
      "RangeIndex: 10 entries, 0 to 9\n",
      "Data columns (total 6 columns):\n",
      "channels      10 non-null object\n",
      "difficulty    10 non-null int64\n",
      "duration      10 non-null int64\n",
      "id            10 non-null object\n",
      "offer_type    10 non-null object\n",
      "reward        10 non-null int64\n",
      "dtypes: int64(3), object(3)\n",
      "memory usage: 560.0+ bytes\n"
     ]
    }
   ],
   "source": [
    "portfolio.info()"
   ]
  },
  {
   "cell_type": "code",
   "execution_count": 6,
   "metadata": {},
   "outputs": [
    {
     "data": {
      "text/plain": [
       "channels      0\n",
       "difficulty    0\n",
       "duration      0\n",
       "id            0\n",
       "offer_type    0\n",
       "reward        0\n",
       "dtype: int64"
      ]
     },
     "execution_count": 6,
     "metadata": {},
     "output_type": "execute_result"
    }
   ],
   "source": [
    "portfolio.isnull().sum()"
   ]
  },
  {
   "cell_type": "markdown",
   "metadata": {},
   "source": [
    " We check the number of unique offers"
   ]
  },
  {
   "cell_type": "code",
   "execution_count": 7,
   "metadata": {},
   "outputs": [
    {
     "data": {
      "text/plain": [
       "10"
      ]
     },
     "execution_count": 7,
     "metadata": {},
     "output_type": "execute_result"
    }
   ],
   "source": [
    "portfolio.id.nunique()"
   ]
  },
  {
   "cell_type": "code",
   "execution_count": 8,
   "metadata": {},
   "outputs": [
    {
     "data": {
      "text/plain": [
       "offer_type\n",
       "bogo             4\n",
       "discount         4\n",
       "informational    2\n",
       "Name: id, dtype: int64"
      ]
     },
     "execution_count": 8,
     "metadata": {},
     "output_type": "execute_result"
    }
   ],
   "source": [
    "portfolio.groupby('offer_type')['id'].count()"
   ]
  },
  {
   "cell_type": "markdown",
   "metadata": {},
   "source": [
    "We can see that we have 10 differents ids distributed in: \n",
    "\n",
    "* 4 bogo\n",
    "* 4 discount\n",
    "* 2 informational"
   ]
  },
  {
   "cell_type": "markdown",
   "metadata": {},
   "source": [
    "The column of **channels** is a list, so we have to expand it get  categorical variables in the dataset."
   ]
  },
  {
   "cell_type": "markdown",
   "metadata": {},
   "source": [
    "## Profile file"
   ]
  },
  {
   "cell_type": "code",
   "execution_count": 9,
   "metadata": {},
   "outputs": [
    {
     "data": {
      "text/html": [
       "<div>\n",
       "<style scoped>\n",
       "    .dataframe tbody tr th:only-of-type {\n",
       "        vertical-align: middle;\n",
       "    }\n",
       "\n",
       "    .dataframe tbody tr th {\n",
       "        vertical-align: top;\n",
       "    }\n",
       "\n",
       "    .dataframe thead th {\n",
       "        text-align: right;\n",
       "    }\n",
       "</style>\n",
       "<table border=\"1\" class=\"dataframe\">\n",
       "  <thead>\n",
       "    <tr style=\"text-align: right;\">\n",
       "      <th></th>\n",
       "      <th>age</th>\n",
       "      <th>became_member_on</th>\n",
       "      <th>gender</th>\n",
       "      <th>id</th>\n",
       "      <th>income</th>\n",
       "    </tr>\n",
       "  </thead>\n",
       "  <tbody>\n",
       "    <tr>\n",
       "      <th>0</th>\n",
       "      <td>118</td>\n",
       "      <td>20170212</td>\n",
       "      <td>None</td>\n",
       "      <td>68be06ca386d4c31939f3a4f0e3dd783</td>\n",
       "      <td>NaN</td>\n",
       "    </tr>\n",
       "  </tbody>\n",
       "</table>\n",
       "</div>"
      ],
      "text/plain": [
       "   age  became_member_on gender                                id  income\n",
       "0  118          20170212   None  68be06ca386d4c31939f3a4f0e3dd783     NaN"
      ]
     },
     "execution_count": 9,
     "metadata": {},
     "output_type": "execute_result"
    }
   ],
   "source": [
    "profile.head(1)"
   ]
  },
  {
   "cell_type": "code",
   "execution_count": 10,
   "metadata": {},
   "outputs": [
    {
     "name": "stdout",
     "output_type": "stream",
     "text": [
      "<class 'pandas.core.frame.DataFrame'>\n",
      "RangeIndex: 17000 entries, 0 to 16999\n",
      "Data columns (total 5 columns):\n",
      "age                 17000 non-null int64\n",
      "became_member_on    17000 non-null int64\n",
      "gender              14825 non-null object\n",
      "id                  17000 non-null object\n",
      "income              14825 non-null float64\n",
      "dtypes: float64(1), int64(2), object(2)\n",
      "memory usage: 664.1+ KB\n"
     ]
    }
   ],
   "source": [
    "profile.info()"
   ]
  },
  {
   "cell_type": "code",
   "execution_count": 11,
   "metadata": {},
   "outputs": [
    {
     "data": {
      "text/plain": [
       "age                    0\n",
       "became_member_on       0\n",
       "gender              2175\n",
       "id                     0\n",
       "income              2175\n",
       "dtype: int64"
      ]
     },
     "execution_count": 11,
     "metadata": {},
     "output_type": "execute_result"
    }
   ],
   "source": [
    "profile.isnull().sum()"
   ]
  },
  {
   "cell_type": "markdown",
   "metadata": {},
   "source": [
    "The number of null values in **gender** and **income** are the same"
   ]
  },
  {
   "cell_type": "code",
   "execution_count": 12,
   "metadata": {},
   "outputs": [
    {
     "data": {
      "text/plain": [
       "17000"
      ]
     },
     "execution_count": 12,
     "metadata": {},
     "output_type": "execute_result"
    }
   ],
   "source": [
    "profile['id'].nunique()"
   ]
  },
  {
   "cell_type": "markdown",
   "metadata": {},
   "source": [
    "We check distribution of gender column"
   ]
  },
  {
   "cell_type": "code",
   "execution_count": 13,
   "metadata": {},
   "outputs": [
    {
     "data": {
      "text/plain": [
       "<matplotlib.axes._subplots.AxesSubplot at 0x7fdd19d2fcf8>"
      ]
     },
     "execution_count": 13,
     "metadata": {},
     "output_type": "execute_result"
    },
    {
     "data": {
      "image/png": "[encoded data removed]",
      "text/plain": [
       "<matplotlib.figure.Figure at 0x7fdd19d2f630>"
      ]
     },
     "metadata": {
      "needs_background": "light"
     },
     "output_type": "display_data"
    }
   ],
   "source": [
    "profile.gender.hist()"
   ]
  },
  {
   "cell_type": "markdown",
   "metadata": {},
   "source": [
    "We check distribution of age column"
   ]
  },
  {
   "cell_type": "code",
   "execution_count": 14,
   "metadata": {},
   "outputs": [
    {
     "data": {
      "text/plain": [
       "<matplotlib.axes._subplots.AxesSubplot at 0x7fdd19ce5d30>"
      ]
     },
     "execution_count": 14,
     "metadata": {},
     "output_type": "execute_result"
    },
    {
     "data": {
      "image/png": "[encoded data removed]",
      "text/plain": [
       "<matplotlib.figure.Figure at 0x7fdd19d36e80>"
      ]
     },
     "metadata": {
      "needs_background": "light"
     },
     "output_type": "display_data"
    }
   ],
   "source": [
    "profile.age.hist()"
   ]
  },
  {
   "cell_type": "markdown",
   "metadata": {},
   "source": [
    "We check the value of age=118"
   ]
  },
  {
   "cell_type": "markdown",
   "metadata": {},
   "source": [
    "We can see the percentage of this:"
   ]
  },
  {
   "cell_type": "code",
   "execution_count": 15,
   "metadata": {},
   "outputs": [
    {
     "name": "stdout",
     "output_type": "stream",
     "text": [
      "12.7941176471 %\n"
     ]
    }
   ],
   "source": [
    "print(profile[profile['age']==118]['age'].count() / profile.shape[0]*100, '%')"
   ]
  },
  {
   "cell_type": "markdown",
   "metadata": {},
   "source": [
    "We can see the total:"
   ]
  },
  {
   "cell_type": "code",
   "execution_count": 16,
   "metadata": {},
   "outputs": [
    {
     "name": "stdout",
     "output_type": "stream",
     "text": [
      "age                 2175\n",
      "became_member_on    2175\n",
      "gender                 0\n",
      "id                  2175\n",
      "income                 0\n",
      "dtype: int64\n"
     ]
    }
   ],
   "source": [
    "print(profile[profile['age']==118].count())"
   ]
  },
  {
   "cell_type": "markdown",
   "metadata": {},
   "source": [
    "Now, we see that the 2175 is the same values of the **gender** and **income** when the value is null:"
   ]
  },
  {
   "cell_type": "code",
   "execution_count": 17,
   "metadata": {},
   "outputs": [
    {
     "data": {
      "text/plain": [
       "2175"
      ]
     },
     "execution_count": 17,
     "metadata": {},
     "output_type": "execute_result"
    }
   ],
   "source": [
    "profile.gender.isnull().sum()"
   ]
  },
  {
   "cell_type": "code",
   "execution_count": 18,
   "metadata": {},
   "outputs": [
    {
     "data": {
      "text/plain": [
       "2175"
      ]
     },
     "execution_count": 18,
     "metadata": {},
     "output_type": "execute_result"
    }
   ],
   "source": [
    "profile.income.isnull().sum()"
   ]
  },
  {
   "cell_type": "code",
   "execution_count": 19,
   "metadata": {},
   "outputs": [
    {
     "data": {
      "text/html": [
       "<div>\n",
       "<style scoped>\n",
       "    .dataframe tbody tr th:only-of-type {\n",
       "        vertical-align: middle;\n",
       "    }\n",
       "\n",
       "    .dataframe tbody tr th {\n",
       "        vertical-align: top;\n",
       "    }\n",
       "\n",
       "    .dataframe thead th {\n",
       "        text-align: right;\n",
       "    }\n",
       "</style>\n",
       "<table border=\"1\" class=\"dataframe\">\n",
       "  <thead>\n",
       "    <tr style=\"text-align: right;\">\n",
       "      <th></th>\n",
       "      <th>gender</th>\n",
       "      <th>income</th>\n",
       "      <th>age</th>\n",
       "    </tr>\n",
       "  </thead>\n",
       "  <tbody>\n",
       "    <tr>\n",
       "      <th>0</th>\n",
       "      <td>None</td>\n",
       "      <td>NaN</td>\n",
       "      <td>118</td>\n",
       "    </tr>\n",
       "    <tr>\n",
       "      <th>2</th>\n",
       "      <td>None</td>\n",
       "      <td>NaN</td>\n",
       "      <td>118</td>\n",
       "    </tr>\n",
       "    <tr>\n",
       "      <th>4</th>\n",
       "      <td>None</td>\n",
       "      <td>NaN</td>\n",
       "      <td>118</td>\n",
       "    </tr>\n",
       "    <tr>\n",
       "      <th>6</th>\n",
       "      <td>None</td>\n",
       "      <td>NaN</td>\n",
       "      <td>118</td>\n",
       "    </tr>\n",
       "    <tr>\n",
       "      <th>7</th>\n",
       "      <td>None</td>\n",
       "      <td>NaN</td>\n",
       "      <td>118</td>\n",
       "    </tr>\n",
       "  </tbody>\n",
       "</table>\n",
       "</div>"
      ],
      "text/plain": [
       "  gender  income  age\n",
       "0   None     NaN  118\n",
       "2   None     NaN  118\n",
       "4   None     NaN  118\n",
       "6   None     NaN  118\n",
       "7   None     NaN  118"
      ]
     },
     "execution_count": 19,
     "metadata": {},
     "output_type": "execute_result"
    }
   ],
   "source": [
    "profile[['gender','income','age']][profile['age']==118].head()"
   ]
  },
  {
   "cell_type": "markdown",
   "metadata": {},
   "source": [
    "# transcript file"
   ]
  },
  {
   "cell_type": "code",
   "execution_count": 20,
   "metadata": {},
   "outputs": [
    {
     "data": {
      "text/html": [
       "<div>\n",
       "<style scoped>\n",
       "    .dataframe tbody tr th:only-of-type {\n",
       "        vertical-align: middle;\n",
       "    }\n",
       "\n",
       "    .dataframe tbody tr th {\n",
       "        vertical-align: top;\n",
       "    }\n",
       "\n",
       "    .dataframe thead th {\n",
       "        text-align: right;\n",
       "    }\n",
       "</style>\n",
       "<table border=\"1\" class=\"dataframe\">\n",
       "  <thead>\n",
       "    <tr style=\"text-align: right;\">\n",
       "      <th></th>\n",
       "      <th>event</th>\n",
       "      <th>person</th>\n",
       "      <th>time</th>\n",
       "      <th>value</th>\n",
       "    </tr>\n",
       "  </thead>\n",
       "  <tbody>\n",
       "    <tr>\n",
       "      <th>0</th>\n",
       "      <td>offer received</td>\n",
       "      <td>78afa995795e4d85b5d9ceeca43f5fef</td>\n",
       "      <td>0</td>\n",
       "      <td>{'offer id': '9b98b8c7a33c4b65b9aebfe6a799e6d9'}</td>\n",
       "    </tr>\n",
       "  </tbody>\n",
       "</table>\n",
       "</div>"
      ],
      "text/plain": [
       "            event                            person  time  \\\n",
       "0  offer received  78afa995795e4d85b5d9ceeca43f5fef     0   \n",
       "\n",
       "                                              value  \n",
       "0  {'offer id': '9b98b8c7a33c4b65b9aebfe6a799e6d9'}  "
      ]
     },
     "execution_count": 20,
     "metadata": {},
     "output_type": "execute_result"
    }
   ],
   "source": [
    "transcript.head(1)"
   ]
  },
  {
   "cell_type": "code",
   "execution_count": 21,
   "metadata": {},
   "outputs": [
    {
     "name": "stdout",
     "output_type": "stream",
     "text": [
      "<class 'pandas.core.frame.DataFrame'>\n",
      "RangeIndex: 306534 entries, 0 to 306533\n",
      "Data columns (total 4 columns):\n",
      "event     306534 non-null object\n",
      "person    306534 non-null object\n",
      "time      306534 non-null int64\n",
      "value     306534 non-null object\n",
      "dtypes: int64(1), object(3)\n",
      "memory usage: 9.4+ MB\n"
     ]
    }
   ],
   "source": [
    "transcript.info()"
   ]
  },
  {
   "cell_type": "code",
   "execution_count": 22,
   "metadata": {},
   "outputs": [
    {
     "data": {
      "text/plain": [
       "event     0\n",
       "person    0\n",
       "time      0\n",
       "value     0\n",
       "dtype: int64"
      ]
     },
     "execution_count": 22,
     "metadata": {},
     "output_type": "execute_result"
    }
   ],
   "source": [
    "transcript.isnull().sum()"
   ]
  },
  {
   "cell_type": "markdown",
   "metadata": {},
   "source": [
    "We check the unique people:"
   ]
  },
  {
   "cell_type": "code",
   "execution_count": 23,
   "metadata": {},
   "outputs": [
    {
     "data": {
      "text/plain": [
       "17000"
      ]
     },
     "execution_count": 23,
     "metadata": {},
     "output_type": "execute_result"
    }
   ],
   "source": [
    "transcript['person'].nunique()"
   ]
  },
  {
   "cell_type": "markdown",
   "metadata": {},
   "source": [
    "# Data cleaning"
   ]
  },
  {
   "cell_type": "markdown",
   "metadata": {},
   "source": [
    "## Portfolio file"
   ]
  },
  {
   "cell_type": "code",
   "execution_count": 24,
   "metadata": {},
   "outputs": [],
   "source": [
    "def clean_portfolio (df_portfolio):\n",
    "\n",
    "    # We need a copy of the original df\n",
    "    portfolio = df_portfolio.copy()\n",
    "    \n",
    "    # We need to rename 'id' to 'offer_id'\n",
    "    portfolio.rename(columns={'id':'offer_id'}, inplace=True)\n",
    "     \n",
    "    # We need to convert the 'duration' to hours\n",
    "    portfolio['duration'] = portfolio['duration'] * 24\n",
    "    \n",
    "    # We need to assign more readable offer ids\n",
    "    #portfolio['offer_id'] = portfolio['offer_id'].map(offer_mapping)\n",
    "    \n",
    "    # We need to explode 'channels' and remove 'channels'\n",
    "    portfolio['web'] = portfolio['channels'].astype(str).str.contains('web').astype(int)\n",
    "    portfolio['email'] = portfolio['channels'].astype(str).str.contains('email').astype(int)\n",
    "    portfolio['mobile'] = portfolio['channels'].astype(str).str.contains('mobile').astype(int)\n",
    "    portfolio['social'] = portfolio['channels'].astype(str).str.contains('social').astype(int)\n",
    "    portfolio.drop(columns='channels', inplace=True)\n",
    "    \n",
    "    return portfolio"
   ]
  },
  {
   "cell_type": "code",
   "execution_count": 25,
   "metadata": {},
   "outputs": [],
   "source": [
    "portfolio = clean_portfolio(portfolio)"
   ]
  },
  {
   "cell_type": "code",
   "execution_count": 26,
   "metadata": {},
   "outputs": [
    {
     "data": {
      "text/html": [
       "<div>\n",
       "<style scoped>\n",
       "    .dataframe tbody tr th:only-of-type {\n",
       "        vertical-align: middle;\n",
       "    }\n",
       "\n",
       "    .dataframe tbody tr th {\n",
       "        vertical-align: top;\n",
       "    }\n",
       "\n",
       "    .dataframe thead th {\n",
       "        text-align: right;\n",
       "    }\n",
       "</style>\n",
       "<table border=\"1\" class=\"dataframe\">\n",
       "  <thead>\n",
       "    <tr style=\"text-align: right;\">\n",
       "      <th></th>\n",
       "      <th>difficulty</th>\n",
       "      <th>duration</th>\n",
       "      <th>offer_id</th>\n",
       "      <th>offer_type</th>\n",
       "      <th>reward</th>\n",
       "      <th>web</th>\n",
       "      <th>email</th>\n",
       "      <th>mobile</th>\n",
       "      <th>social</th>\n",
       "    </tr>\n",
       "  </thead>\n",
       "  <tbody>\n",
       "    <tr>\n",
       "      <th>0</th>\n",
       "      <td>10</td>\n",
       "      <td>168</td>\n",
       "      <td>ae264e3637204a6fb9bb56bc8210ddfd</td>\n",
       "      <td>bogo</td>\n",
       "      <td>10</td>\n",
       "      <td>0</td>\n",
       "      <td>1</td>\n",
       "      <td>1</td>\n",
       "      <td>1</td>\n",
       "    </tr>\n",
       "    <tr>\n",
       "      <th>1</th>\n",
       "      <td>10</td>\n",
       "      <td>120</td>\n",
       "      <td>4d5c57ea9a6940dd891ad53e9dbe8da0</td>\n",
       "      <td>bogo</td>\n",
       "      <td>10</td>\n",
       "      <td>1</td>\n",
       "      <td>1</td>\n",
       "      <td>1</td>\n",
       "      <td>1</td>\n",
       "    </tr>\n",
       "    <tr>\n",
       "      <th>2</th>\n",
       "      <td>0</td>\n",
       "      <td>96</td>\n",
       "      <td>3f207df678b143eea3cee63160fa8bed</td>\n",
       "      <td>informational</td>\n",
       "      <td>0</td>\n",
       "      <td>1</td>\n",
       "      <td>1</td>\n",
       "      <td>1</td>\n",
       "      <td>0</td>\n",
       "    </tr>\n",
       "    <tr>\n",
       "      <th>3</th>\n",
       "      <td>5</td>\n",
       "      <td>168</td>\n",
       "      <td>9b98b8c7a33c4b65b9aebfe6a799e6d9</td>\n",
       "      <td>bogo</td>\n",
       "      <td>5</td>\n",
       "      <td>1</td>\n",
       "      <td>1</td>\n",
       "      <td>1</td>\n",
       "      <td>0</td>\n",
       "    </tr>\n",
       "    <tr>\n",
       "      <th>4</th>\n",
       "      <td>20</td>\n",
       "      <td>240</td>\n",
       "      <td>0b1e1539f2cc45b7b9fa7c272da2e1d7</td>\n",
       "      <td>discount</td>\n",
       "      <td>5</td>\n",
       "      <td>1</td>\n",
       "      <td>1</td>\n",
       "      <td>0</td>\n",
       "      <td>0</td>\n",
       "    </tr>\n",
       "  </tbody>\n",
       "</table>\n",
       "</div>"
      ],
      "text/plain": [
       "   difficulty  duration                          offer_id     offer_type  \\\n",
       "0          10       168  ae264e3637204a6fb9bb56bc8210ddfd           bogo   \n",
       "1          10       120  4d5c57ea9a6940dd891ad53e9dbe8da0           bogo   \n",
       "2           0        96  3f207df678b143eea3cee63160fa8bed  informational   \n",
       "3           5       168  9b98b8c7a33c4b65b9aebfe6a799e6d9           bogo   \n",
       "4          20       240  0b1e1539f2cc45b7b9fa7c272da2e1d7       discount   \n",
       "\n",
       "   reward  web  email  mobile  social  \n",
       "0      10    0      1       1       1  \n",
       "1      10    1      1       1       1  \n",
       "2       0    1      1       1       0  \n",
       "3       5    1      1       1       0  \n",
       "4       5    1      1       0       0  "
      ]
     },
     "execution_count": 26,
     "metadata": {},
     "output_type": "execute_result"
    }
   ],
   "source": [
    "portfolio.head()"
   ]
  },
  {
   "cell_type": "markdown",
   "metadata": {},
   "source": [
    "## Profile file"
   ]
  },
  {
   "cell_type": "code",
   "execution_count": 27,
   "metadata": {},
   "outputs": [],
   "source": [
    "def clean_profile (df_profile):\n",
    "\n",
    "    # We need a copy of the original df\n",
    "    profile = df_profile.copy()\n",
    "    \n",
    "    # We need to rename 'id' to 'person_id'\n",
    "    profile.rename(columns={'id':'person_id'}, inplace=True)\n",
    "    \n",
    "    # Remove null values. In oor case, customers with age 118\n",
    "    age_118 = profile[profile['age'] == 118]\n",
    "    profile.drop(index=age_118.index, inplace=True) \n",
    "    \n",
    "    # Assign each person the corresponding pseudonym\n",
    "    #profile['person_id'] = profile.apply(lambda x : id_df.loc[x.person_id], axis=1)\n",
    "    \n",
    "    # We need to replace 'became_member_on' with 'member_since' and set the format\n",
    "    profile['member_since'] = pd.to_datetime(profile['became_member_on'], format='%Y%m%d')\n",
    "    profile['member_since'] = pd.DatetimeIndex(profile['member_since']).year\n",
    "    profile.drop(columns=['became_member_on'], inplace=True)\n",
    "    \n",
    "    # To have an easy manage, we assig:\n",
    "    \n",
    "    # age ranges (10-19, 20-20, etc) \n",
    "    labels = ['10-19','20-29', '30-39', '40-49', '50-59','60-69', '70-79', '80-89', '90-99', '100-109']\n",
    "    profile['age_range'] = pd.cut(profile['age'], bins=range(10,120,10), right=False, labels=labels)\n",
    "    \n",
    "    # income ranges (30-39, 40-49, etc)\n",
    "    profile['income_range'] = pd.cut(profile['income'], bins=range(30000,140000,10000), right=False,labels=['30-39K','40-49K', '50-59K', '60-69K', '70-79K','80-89K', '90-99K','100-109K', '110-119K', '>=120K'])\n",
    "    \n",
    "    return profile"
   ]
  },
  {
   "cell_type": "code",
   "execution_count": 28,
   "metadata": {},
   "outputs": [],
   "source": [
    "profile = clean_profile(profile)"
   ]
  },
  {
   "cell_type": "code",
   "execution_count": 29,
   "metadata": {},
   "outputs": [
    {
     "data": {
      "text/html": [
       "<div>\n",
       "<style scoped>\n",
       "    .dataframe tbody tr th:only-of-type {\n",
       "        vertical-align: middle;\n",
       "    }\n",
       "\n",
       "    .dataframe tbody tr th {\n",
       "        vertical-align: top;\n",
       "    }\n",
       "\n",
       "    .dataframe thead th {\n",
       "        text-align: right;\n",
       "    }\n",
       "</style>\n",
       "<table border=\"1\" class=\"dataframe\">\n",
       "  <thead>\n",
       "    <tr style=\"text-align: right;\">\n",
       "      <th></th>\n",
       "      <th>age</th>\n",
       "      <th>gender</th>\n",
       "      <th>person_id</th>\n",
       "      <th>income</th>\n",
       "      <th>member_since</th>\n",
       "      <th>age_range</th>\n",
       "      <th>income_range</th>\n",
       "    </tr>\n",
       "  </thead>\n",
       "  <tbody>\n",
       "    <tr>\n",
       "      <th>1</th>\n",
       "      <td>55</td>\n",
       "      <td>F</td>\n",
       "      <td>0610b486422d4921ae7d2bf64640c50b</td>\n",
       "      <td>112000.0</td>\n",
       "      <td>2017</td>\n",
       "      <td>50-59</td>\n",
       "      <td>110-119K</td>\n",
       "    </tr>\n",
       "  </tbody>\n",
       "</table>\n",
       "</div>"
      ],
      "text/plain": [
       "   age gender                         person_id    income  member_since  \\\n",
       "1   55      F  0610b486422d4921ae7d2bf64640c50b  112000.0          2017   \n",
       "\n",
       "  age_range income_range  \n",
       "1     50-59     110-119K  "
      ]
     },
     "execution_count": 29,
     "metadata": {},
     "output_type": "execute_result"
    }
   ],
   "source": [
    "profile.head(1)"
   ]
  },
  {
   "cell_type": "code",
   "execution_count": 30,
   "metadata": {},
   "outputs": [
    {
     "data": {
      "text/plain": [
       "<matplotlib.axes._subplots.AxesSubplot at 0x7fdd19952ba8>"
      ]
     },
     "execution_count": 30,
     "metadata": {},
     "output_type": "execute_result"
    },
    {
     "data": {
      "image/png": "[encoded data removed]",
      "text/plain": [
       "<matplotlib.figure.Figure at 0x7fdd198ebba8>"
      ]
     },
     "metadata": {
      "needs_background": "light"
     },
     "output_type": "display_data"
    }
   ],
   "source": [
    "profile[profile['age']!=118]['age'].hist()"
   ]
  },
  {
   "cell_type": "markdown",
   "metadata": {},
   "source": [
    "Mean of the age:"
   ]
  },
  {
   "cell_type": "code",
   "execution_count": 31,
   "metadata": {},
   "outputs": [
    {
     "data": {
      "text/plain": [
       "54.393524451939292"
      ]
     },
     "execution_count": 31,
     "metadata": {},
     "output_type": "execute_result"
    }
   ],
   "source": [
    "profile['age'].mean()"
   ]
  },
  {
   "cell_type": "markdown",
   "metadata": {},
   "source": [
    "Mean of the income:"
   ]
  },
  {
   "cell_type": "code",
   "execution_count": 32,
   "metadata": {},
   "outputs": [
    {
     "data": {
      "text/plain": [
       "65404.991568296799"
      ]
     },
     "execution_count": 32,
     "metadata": {},
     "output_type": "execute_result"
    }
   ],
   "source": [
    "profile['income'].mean()"
   ]
  },
  {
   "cell_type": "markdown",
   "metadata": {},
   "source": [
    "We can not do the mean of gender, because is a string, but we can group them by the mean of the age or income:"
   ]
  },
  {
   "cell_type": "code",
   "execution_count": 33,
   "metadata": {},
   "outputs": [
    {
     "data": {
      "text/html": [
       "<div>\n",
       "<style scoped>\n",
       "    .dataframe tbody tr th:only-of-type {\n",
       "        vertical-align: middle;\n",
       "    }\n",
       "\n",
       "    .dataframe tbody tr th {\n",
       "        vertical-align: top;\n",
       "    }\n",
       "\n",
       "    .dataframe thead th {\n",
       "        text-align: right;\n",
       "    }\n",
       "</style>\n",
       "<table border=\"1\" class=\"dataframe\">\n",
       "  <thead>\n",
       "    <tr style=\"text-align: right;\">\n",
       "      <th></th>\n",
       "      <th>age</th>\n",
       "    </tr>\n",
       "    <tr>\n",
       "      <th>gender</th>\n",
       "      <th></th>\n",
       "    </tr>\n",
       "  </thead>\n",
       "  <tbody>\n",
       "    <tr>\n",
       "      <th>F</th>\n",
       "      <td>57.544950</td>\n",
       "    </tr>\n",
       "    <tr>\n",
       "      <th>M</th>\n",
       "      <td>52.116690</td>\n",
       "    </tr>\n",
       "    <tr>\n",
       "      <th>O</th>\n",
       "      <td>54.400943</td>\n",
       "    </tr>\n",
       "  </tbody>\n",
       "</table>\n",
       "</div>"
      ],
      "text/plain": [
       "              age\n",
       "gender           \n",
       "F       57.544950\n",
       "M       52.116690\n",
       "O       54.400943"
      ]
     },
     "execution_count": 33,
     "metadata": {},
     "output_type": "execute_result"
    }
   ],
   "source": [
    "pd.DataFrame(profile.groupby(['gender']).mean()['age'])"
   ]
  },
  {
   "cell_type": "code",
   "execution_count": 34,
   "metadata": {},
   "outputs": [
    {
     "data": {
      "text/html": [
       "<div>\n",
       "<style scoped>\n",
       "    .dataframe tbody tr th:only-of-type {\n",
       "        vertical-align: middle;\n",
       "    }\n",
       "\n",
       "    .dataframe tbody tr th {\n",
       "        vertical-align: top;\n",
       "    }\n",
       "\n",
       "    .dataframe thead th {\n",
       "        text-align: right;\n",
       "    }\n",
       "</style>\n",
       "<table border=\"1\" class=\"dataframe\">\n",
       "  <thead>\n",
       "    <tr style=\"text-align: right;\">\n",
       "      <th></th>\n",
       "      <th>income</th>\n",
       "    </tr>\n",
       "    <tr>\n",
       "      <th>gender</th>\n",
       "      <th></th>\n",
       "    </tr>\n",
       "  </thead>\n",
       "  <tbody>\n",
       "    <tr>\n",
       "      <th>F</th>\n",
       "      <td>71306.412139</td>\n",
       "    </tr>\n",
       "    <tr>\n",
       "      <th>M</th>\n",
       "      <td>61194.601603</td>\n",
       "    </tr>\n",
       "    <tr>\n",
       "      <th>O</th>\n",
       "      <td>63287.735849</td>\n",
       "    </tr>\n",
       "  </tbody>\n",
       "</table>\n",
       "</div>"
      ],
      "text/plain": [
       "              income\n",
       "gender              \n",
       "F       71306.412139\n",
       "M       61194.601603\n",
       "O       63287.735849"
      ]
     },
     "execution_count": 34,
     "metadata": {},
     "output_type": "execute_result"
    }
   ],
   "source": [
    "pd.DataFrame(profile.groupby(['gender']).mean()['income']) "
   ]
  },
  {
   "cell_type": "markdown",
   "metadata": {},
   "source": [
    "## Transcript"
   ]
  },
  {
   "cell_type": "code",
   "execution_count": 35,
   "metadata": {},
   "outputs": [],
   "source": [
    "def clean_transcript (df_transcript):\n",
    "\n",
    "    \n",
    "    # We need a copy of the original df\n",
    "    transcript = df_transcript.copy()\n",
    "    \n",
    "    # We need to rename 'id' to 'person_id'\n",
    "    transcript.rename(columns={'person':'person_id'}, inplace=True)\n",
    "    \n",
    "    # We need to replace 'offer id' to 'offer_id' in the 'value' column\n",
    "    transcript['value'] = transcript['value'].astype(str).replace({'offer id': 'offer_id'}, regex=True)\n",
    "    \n",
    "    # We need to convert 'value' column to actual dict\n",
    "    transcript['value'] = transcript['value'].apply(literal_eval)\n",
    "    \n",
    "    # We need to split the 'value' column into colums ('offer_id','reward' and 'amount')\n",
    "    transcript = transcript.join(pd.DataFrame(transcript.pop('value').values.tolist()))\n",
    "    \n",
    "    # We need to fill the NAN as a NONE \n",
    "    transcript[['offer_id', 'amount', 'reward']] = transcript[['offer_id', 'amount', 'reward']].fillna('none')\n",
    "    \n",
    "    # We need to replace NONE to 0\n",
    "    transcript['amount'].replace('none', 0, inplace=True)\n",
    "    transcript['reward'].replace('none', 0, inplace=True)\n",
    "    \n",
    "    # Replace 'offer_id' by the corresponding pseudonym\n",
    "    #transcript['offer_id'] = transcript['offer_id'].map(offer_mapping)\n",
    "    \n",
    "    # Replace 'person_id' by the corresponding pseudonym\n",
    "    #transcript['person_id'] = transcript.apply(lambda x : id_df.loc[x.person_id], axis=1)\n",
    "    \n",
    "    return transcript    "
   ]
  },
  {
   "cell_type": "code",
   "execution_count": 36,
   "metadata": {},
   "outputs": [],
   "source": [
    "transcript = clean_transcript(transcript)"
   ]
  },
  {
   "cell_type": "code",
   "execution_count": 37,
   "metadata": {},
   "outputs": [
    {
     "data": {
      "text/html": [
       "<div>\n",
       "<style scoped>\n",
       "    .dataframe tbody tr th:only-of-type {\n",
       "        vertical-align: middle;\n",
       "    }\n",
       "\n",
       "    .dataframe tbody tr th {\n",
       "        vertical-align: top;\n",
       "    }\n",
       "\n",
       "    .dataframe thead th {\n",
       "        text-align: right;\n",
       "    }\n",
       "</style>\n",
       "<table border=\"1\" class=\"dataframe\">\n",
       "  <thead>\n",
       "    <tr style=\"text-align: right;\">\n",
       "      <th></th>\n",
       "      <th>event</th>\n",
       "      <th>person_id</th>\n",
       "      <th>time</th>\n",
       "      <th>amount</th>\n",
       "      <th>offer_id</th>\n",
       "      <th>reward</th>\n",
       "    </tr>\n",
       "  </thead>\n",
       "  <tbody>\n",
       "    <tr>\n",
       "      <th>0</th>\n",
       "      <td>offer received</td>\n",
       "      <td>78afa995795e4d85b5d9ceeca43f5fef</td>\n",
       "      <td>0</td>\n",
       "      <td>0.0</td>\n",
       "      <td>9b98b8c7a33c4b65b9aebfe6a799e6d9</td>\n",
       "      <td>0.0</td>\n",
       "    </tr>\n",
       "  </tbody>\n",
       "</table>\n",
       "</div>"
      ],
      "text/plain": [
       "            event                         person_id  time  amount  \\\n",
       "0  offer received  78afa995795e4d85b5d9ceeca43f5fef     0     0.0   \n",
       "\n",
       "                           offer_id  reward  \n",
       "0  9b98b8c7a33c4b65b9aebfe6a799e6d9     0.0  "
      ]
     },
     "execution_count": 37,
     "metadata": {},
     "output_type": "execute_result"
    }
   ],
   "source": [
    "transcript.head(1)"
   ]
  },
  {
   "cell_type": "markdown",
   "metadata": {},
   "source": [
    "# join portfolio, profile and transcript "
   ]
  },
  {
   "cell_type": "markdown",
   "metadata": {},
   "source": [
    "We need to join all the files to get the complete information. In this case we use 'merge':"
   ]
  },
  {
   "cell_type": "code",
   "execution_count": 38,
   "metadata": {},
   "outputs": [],
   "source": [
    "transcript_portfolio = transcript.merge(portfolio, on='offer_id', how='left')"
   ]
  },
  {
   "cell_type": "code",
   "execution_count": 39,
   "metadata": {},
   "outputs": [
    {
     "data": {
      "text/html": [
       "<div>\n",
       "<style scoped>\n",
       "    .dataframe tbody tr th:only-of-type {\n",
       "        vertical-align: middle;\n",
       "    }\n",
       "\n",
       "    .dataframe tbody tr th {\n",
       "        vertical-align: top;\n",
       "    }\n",
       "\n",
       "    .dataframe thead th {\n",
       "        text-align: right;\n",
       "    }\n",
       "</style>\n",
       "<table border=\"1\" class=\"dataframe\">\n",
       "  <thead>\n",
       "    <tr style=\"text-align: right;\">\n",
       "      <th></th>\n",
       "      <th>event</th>\n",
       "      <th>person_id</th>\n",
       "      <th>time</th>\n",
       "      <th>amount</th>\n",
       "      <th>offer_id</th>\n",
       "      <th>reward_x</th>\n",
       "      <th>difficulty</th>\n",
       "      <th>duration</th>\n",
       "      <th>offer_type</th>\n",
       "      <th>reward_y</th>\n",
       "      <th>web</th>\n",
       "      <th>email</th>\n",
       "      <th>mobile</th>\n",
       "      <th>social</th>\n",
       "    </tr>\n",
       "  </thead>\n",
       "  <tbody>\n",
       "    <tr>\n",
       "      <th>0</th>\n",
       "      <td>offer received</td>\n",
       "      <td>78afa995795e4d85b5d9ceeca43f5fef</td>\n",
       "      <td>0</td>\n",
       "      <td>0.0</td>\n",
       "      <td>9b98b8c7a33c4b65b9aebfe6a799e6d9</td>\n",
       "      <td>0.0</td>\n",
       "      <td>5.0</td>\n",
       "      <td>168.0</td>\n",
       "      <td>bogo</td>\n",
       "      <td>5.0</td>\n",
       "      <td>1.0</td>\n",
       "      <td>1.0</td>\n",
       "      <td>1.0</td>\n",
       "      <td>0.0</td>\n",
       "    </tr>\n",
       "  </tbody>\n",
       "</table>\n",
       "</div>"
      ],
      "text/plain": [
       "            event                         person_id  time  amount  \\\n",
       "0  offer received  78afa995795e4d85b5d9ceeca43f5fef     0     0.0   \n",
       "\n",
       "                           offer_id  reward_x  difficulty  duration  \\\n",
       "0  9b98b8c7a33c4b65b9aebfe6a799e6d9       0.0         5.0     168.0   \n",
       "\n",
       "  offer_type  reward_y  web  email  mobile  social  \n",
       "0       bogo       5.0  1.0    1.0     1.0     0.0  "
      ]
     },
     "execution_count": 39,
     "metadata": {},
     "output_type": "execute_result"
    }
   ],
   "source": [
    "transcript_portfolio.head(1)"
   ]
  },
  {
   "cell_type": "code",
   "execution_count": 40,
   "metadata": {},
   "outputs": [],
   "source": [
    "final_df = transcript_portfolio.merge(profile, on='person_id', how='inner')"
   ]
  },
  {
   "cell_type": "code",
   "execution_count": 41,
   "metadata": {},
   "outputs": [
    {
     "data": {
      "text/html": [
       "<div>\n",
       "<style scoped>\n",
       "    .dataframe tbody tr th:only-of-type {\n",
       "        vertical-align: middle;\n",
       "    }\n",
       "\n",
       "    .dataframe tbody tr th {\n",
       "        vertical-align: top;\n",
       "    }\n",
       "\n",
       "    .dataframe thead th {\n",
       "        text-align: right;\n",
       "    }\n",
       "</style>\n",
       "<table border=\"1\" class=\"dataframe\">\n",
       "  <thead>\n",
       "    <tr style=\"text-align: right;\">\n",
       "      <th></th>\n",
       "      <th>event</th>\n",
       "      <th>person_id</th>\n",
       "      <th>time</th>\n",
       "      <th>amount</th>\n",
       "      <th>offer_id</th>\n",
       "      <th>reward_x</th>\n",
       "      <th>difficulty</th>\n",
       "      <th>duration</th>\n",
       "      <th>offer_type</th>\n",
       "      <th>reward_y</th>\n",
       "      <th>web</th>\n",
       "      <th>email</th>\n",
       "      <th>mobile</th>\n",
       "      <th>social</th>\n",
       "      <th>age</th>\n",
       "      <th>gender</th>\n",
       "      <th>income</th>\n",
       "      <th>member_since</th>\n",
       "      <th>age_range</th>\n",
       "      <th>income_range</th>\n",
       "    </tr>\n",
       "  </thead>\n",
       "  <tbody>\n",
       "    <tr>\n",
       "      <th>0</th>\n",
       "      <td>offer received</td>\n",
       "      <td>78afa995795e4d85b5d9ceeca43f5fef</td>\n",
       "      <td>0</td>\n",
       "      <td>0.0</td>\n",
       "      <td>9b98b8c7a33c4b65b9aebfe6a799e6d9</td>\n",
       "      <td>0.0</td>\n",
       "      <td>5.0</td>\n",
       "      <td>168.0</td>\n",
       "      <td>bogo</td>\n",
       "      <td>5.0</td>\n",
       "      <td>1.0</td>\n",
       "      <td>1.0</td>\n",
       "      <td>1.0</td>\n",
       "      <td>0.0</td>\n",
       "      <td>75</td>\n",
       "      <td>F</td>\n",
       "      <td>100000.0</td>\n",
       "      <td>2017</td>\n",
       "      <td>70-79</td>\n",
       "      <td>100-109K</td>\n",
       "    </tr>\n",
       "  </tbody>\n",
       "</table>\n",
       "</div>"
      ],
      "text/plain": [
       "            event                         person_id  time  amount  \\\n",
       "0  offer received  78afa995795e4d85b5d9ceeca43f5fef     0     0.0   \n",
       "\n",
       "                           offer_id  reward_x  difficulty  duration  \\\n",
       "0  9b98b8c7a33c4b65b9aebfe6a799e6d9       0.0         5.0     168.0   \n",
       "\n",
       "  offer_type  reward_y  web  email  mobile  social  age gender    income  \\\n",
       "0       bogo       5.0  1.0    1.0     1.0     0.0   75      F  100000.0   \n",
       "\n",
       "   member_since age_range income_range  \n",
       "0          2017     70-79     100-109K  "
      ]
     },
     "execution_count": 41,
     "metadata": {},
     "output_type": "execute_result"
    }
   ],
   "source": [
    "final_df.head(1)"
   ]
  },
  {
   "cell_type": "markdown",
   "metadata": {},
   "source": [
    "We have two columns: reward_x and reward_y. We remove reward_y and we rename the reward_x, to get one column."
   ]
  },
  {
   "cell_type": "code",
   "execution_count": 42,
   "metadata": {},
   "outputs": [],
   "source": [
    "final_df=final_df.drop(columns=['reward_y']).rename(columns={'reward_x':'reward'})"
   ]
  },
  {
   "cell_type": "code",
   "execution_count": 43,
   "metadata": {},
   "outputs": [
    {
     "data": {
      "text/html": [
       "<div>\n",
       "<style scoped>\n",
       "    .dataframe tbody tr th:only-of-type {\n",
       "        vertical-align: middle;\n",
       "    }\n",
       "\n",
       "    .dataframe tbody tr th {\n",
       "        vertical-align: top;\n",
       "    }\n",
       "\n",
       "    .dataframe thead th {\n",
       "        text-align: right;\n",
       "    }\n",
       "</style>\n",
       "<table border=\"1\" class=\"dataframe\">\n",
       "  <thead>\n",
       "    <tr style=\"text-align: right;\">\n",
       "      <th></th>\n",
       "      <th>event</th>\n",
       "      <th>person_id</th>\n",
       "      <th>time</th>\n",
       "      <th>amount</th>\n",
       "      <th>offer_id</th>\n",
       "      <th>reward</th>\n",
       "      <th>difficulty</th>\n",
       "      <th>duration</th>\n",
       "      <th>offer_type</th>\n",
       "      <th>web</th>\n",
       "      <th>email</th>\n",
       "      <th>mobile</th>\n",
       "      <th>social</th>\n",
       "      <th>age</th>\n",
       "      <th>gender</th>\n",
       "      <th>income</th>\n",
       "      <th>member_since</th>\n",
       "      <th>age_range</th>\n",
       "      <th>income_range</th>\n",
       "    </tr>\n",
       "  </thead>\n",
       "  <tbody>\n",
       "    <tr>\n",
       "      <th>0</th>\n",
       "      <td>offer received</td>\n",
       "      <td>78afa995795e4d85b5d9ceeca43f5fef</td>\n",
       "      <td>0</td>\n",
       "      <td>0.0</td>\n",
       "      <td>9b98b8c7a33c4b65b9aebfe6a799e6d9</td>\n",
       "      <td>0.0</td>\n",
       "      <td>5.0</td>\n",
       "      <td>168.0</td>\n",
       "      <td>bogo</td>\n",
       "      <td>1.0</td>\n",
       "      <td>1.0</td>\n",
       "      <td>1.0</td>\n",
       "      <td>0.0</td>\n",
       "      <td>75</td>\n",
       "      <td>F</td>\n",
       "      <td>100000.0</td>\n",
       "      <td>2017</td>\n",
       "      <td>70-79</td>\n",
       "      <td>100-109K</td>\n",
       "    </tr>\n",
       "    <tr>\n",
       "      <th>1</th>\n",
       "      <td>offer viewed</td>\n",
       "      <td>78afa995795e4d85b5d9ceeca43f5fef</td>\n",
       "      <td>6</td>\n",
       "      <td>0.0</td>\n",
       "      <td>9b98b8c7a33c4b65b9aebfe6a799e6d9</td>\n",
       "      <td>0.0</td>\n",
       "      <td>5.0</td>\n",
       "      <td>168.0</td>\n",
       "      <td>bogo</td>\n",
       "      <td>1.0</td>\n",
       "      <td>1.0</td>\n",
       "      <td>1.0</td>\n",
       "      <td>0.0</td>\n",
       "      <td>75</td>\n",
       "      <td>F</td>\n",
       "      <td>100000.0</td>\n",
       "      <td>2017</td>\n",
       "      <td>70-79</td>\n",
       "      <td>100-109K</td>\n",
       "    </tr>\n",
       "  </tbody>\n",
       "</table>\n",
       "</div>"
      ],
      "text/plain": [
       "            event                         person_id  time  amount  \\\n",
       "0  offer received  78afa995795e4d85b5d9ceeca43f5fef     0     0.0   \n",
       "1    offer viewed  78afa995795e4d85b5d9ceeca43f5fef     6     0.0   \n",
       "\n",
       "                           offer_id  reward  difficulty  duration offer_type  \\\n",
       "0  9b98b8c7a33c4b65b9aebfe6a799e6d9     0.0         5.0     168.0       bogo   \n",
       "1  9b98b8c7a33c4b65b9aebfe6a799e6d9     0.0         5.0     168.0       bogo   \n",
       "\n",
       "   web  email  mobile  social  age gender    income  member_since age_range  \\\n",
       "0  1.0    1.0     1.0     0.0   75      F  100000.0          2017     70-79   \n",
       "1  1.0    1.0     1.0     0.0   75      F  100000.0          2017     70-79   \n",
       "\n",
       "  income_range  \n",
       "0     100-109K  \n",
       "1     100-109K  "
      ]
     },
     "execution_count": 43,
     "metadata": {},
     "output_type": "execute_result"
    }
   ],
   "source": [
    "final_df.head(2)"
   ]
  },
  {
   "cell_type": "markdown",
   "metadata": {},
   "source": [
    "# Exploration"
   ]
  },
  {
   "cell_type": "markdown",
   "metadata": {},
   "source": [
    "We explore the **age** of the users:"
   ]
  },
  {
   "cell_type": "code",
   "execution_count": 44,
   "metadata": {},
   "outputs": [
    {
     "data": {
      "text/plain": [
       "count    272762.000000\n",
       "mean         53.840696\n",
       "std          17.551337\n",
       "min          18.000000\n",
       "25%          41.000000\n",
       "50%          55.000000\n",
       "75%          66.000000\n",
       "max         101.000000\n",
       "Name: age, dtype: float64"
      ]
     },
     "execution_count": 44,
     "metadata": {},
     "output_type": "execute_result"
    }
   ],
   "source": [
    "final_df.age.describe()"
   ]
  },
  {
   "cell_type": "code",
   "execution_count": 45,
   "metadata": {},
   "outputs": [
    {
     "data": {
      "text/plain": [
       "<matplotlib.axes._subplots.AxesSubplot at 0x7fdd19882240>"
      ]
     },
     "execution_count": 45,
     "metadata": {},
     "output_type": "execute_result"
    },
    {
     "data": {
      "image/png": "[encoded data removed]",
      "text/plain": [
       "<matplotlib.figure.Figure at 0x7fdd19882ac8>"
      ]
     },
     "metadata": {
      "needs_background": "light"
     },
     "output_type": "display_data"
    }
   ],
   "source": [
    "final_df.age.hist()"
   ]
  },
  {
   "cell_type": "markdown",
   "metadata": {},
   "source": [
    "**The average age of the users is: 50-60 years**"
   ]
  },
  {
   "cell_type": "markdown",
   "metadata": {},
   "source": [
    "We explore the **income** of the users:"
   ]
  },
  {
   "cell_type": "code",
   "execution_count": 46,
   "metadata": {},
   "outputs": [
    {
     "data": {
      "text/plain": [
       "count    272762.000000\n",
       "mean      64337.000755\n",
       "std       21243.762941\n",
       "min       30000.000000\n",
       "25%       48000.000000\n",
       "50%       62000.000000\n",
       "75%       78000.000000\n",
       "max      120000.000000\n",
       "Name: income, dtype: float64"
      ]
     },
     "execution_count": 46,
     "metadata": {},
     "output_type": "execute_result"
    }
   ],
   "source": [
    "final_df.income.describe()"
   ]
  },
  {
   "cell_type": "code",
   "execution_count": 47,
   "metadata": {},
   "outputs": [
    {
     "data": {
      "text/plain": [
       "<matplotlib.axes._subplots.AxesSubplot at 0x7fdd198a4f98>"
      ]
     },
     "execution_count": 47,
     "metadata": {},
     "output_type": "execute_result"
    },
    {
     "data": {
      "image/png": "[encoded data removed]",
      "text/plain": [
       "<matplotlib.figure.Figure at 0x7fdd19889198>"
      ]
     },
     "metadata": {
      "needs_background": "light"
     },
     "output_type": "display_data"
    }
   ],
   "source": [
    "final_df.income.hist()"
   ]
  },
  {
   "cell_type": "markdown",
   "metadata": {},
   "source": [
    "**The average of the incomes is: 60000-70000**"
   ]
  },
  {
   "cell_type": "markdown",
   "metadata": {},
   "source": [
    "We explore the **gender** of the users:"
   ]
  },
  {
   "cell_type": "code",
   "execution_count": 48,
   "metadata": {},
   "outputs": [
    {
     "data": {
      "text/plain": [
       "M    155690\n",
       "F    113101\n",
       "O      3971\n",
       "Name: gender, dtype: int64"
      ]
     },
     "execution_count": 48,
     "metadata": {},
     "output_type": "execute_result"
    }
   ],
   "source": [
    "final_df.gender.value_counts()"
   ]
  },
  {
   "cell_type": "markdown",
   "metadata": {},
   "source": [
    "We can plot it the distribution:"
   ]
  },
  {
   "cell_type": "code",
   "execution_count": 49,
   "metadata": {},
   "outputs": [
    {
     "data": {
      "text/plain": [
       "Text(0.5,0,'Gender')"
      ]
     },
     "execution_count": 49,
     "metadata": {},
     "output_type": "execute_result"
    },
    {
     "data": {
      "image/png": "[encoded data removed]",
      "text/plain": [
       "<matplotlib.figure.Figure at 0x7fdd19851908>"
      ]
     },
     "metadata": {
      "needs_background": "light"
     },
     "output_type": "display_data"
    }
   ],
   "source": [
    "ax = final_df.gender.value_counts()\n",
    "ax.plot(kind='bar')\n",
    "plt.ylabel('Number of People')\n",
    "plt.xlabel('Gender')"
   ]
  },
  {
   "cell_type": "markdown",
   "metadata": {},
   "source": [
    "We can see the percentage:"
   ]
  },
  {
   "cell_type": "code",
   "execution_count": 50,
   "metadata": {},
   "outputs": [
    {
     "name": "stdout",
     "output_type": "stream",
     "text": [
      "57.0790652657 % of Male\n",
      "41.465086779 % of Female\n",
      "1.45584795536 % of Others or Unknow\n"
     ]
    }
   ],
   "source": [
    "print(final_df.gender.value_counts()[0] / final_df.shape[0]*100, '% of Male')\n",
    "print(final_df.gender.value_counts()[1] / final_df.shape[0]*100, '% of Female')\n",
    "print(final_df.gender.value_counts()[2] / final_df.shape[0]*100, '% of Others or Unknow')"
   ]
  },
  {
   "cell_type": "markdown",
   "metadata": {},
   "source": [
    "**Males represent more than 50%**"
   ]
  },
  {
   "cell_type": "markdown",
   "metadata": {},
   "source": [
    "We explore the Offers:"
   ]
  },
  {
   "cell_type": "code",
   "execution_count": 51,
   "metadata": {},
   "outputs": [
    {
     "name": "stdout",
     "output_type": "stream",
     "text": [
      "offer received\n",
      "discount         26664\n",
      "bogo             26537\n",
      "informational    13300\n",
      "Name: offer_type, dtype: int64\n",
      "offer viewed\n",
      "bogo             22039\n",
      "discount         18461\n",
      "informational     9360\n",
      "Name: offer_type, dtype: int64\n",
      "offer completed\n",
      "discount    17186\n",
      "bogo        15258\n",
      "Name: offer_type, dtype: int64\n"
     ]
    }
   ],
   "source": [
    "print('offer received')\n",
    "print(final_df[final_df['event'] == 'offer received'].offer_type.value_counts())\n",
    "print('offer viewed')\n",
    "print(final_df[final_df['event'] == 'offer viewed'].offer_type.value_counts())\n",
    "print('offer completed')\n",
    "print(final_df[final_df['event'] == 'offer completed'].offer_type.value_counts())"
   ]
  },
  {
   "cell_type": "code",
   "execution_count": 52,
   "metadata": {},
   "outputs": [
    {
     "data": {
      "image/png": "[encoded data removed]",
      "text/plain": [
       "<matplotlib.figure.Figure at 0x7fdd195d4be0>"
      ]
     },
     "metadata": {
      "needs_background": "light"
     },
     "output_type": "display_data"
    }
   ],
   "source": [
    "plt.subplot(131)\n",
    "offer_received = final_df[final_df['event'] == 'offer received'].offer_type.value_counts()\n",
    "offer_received.plot(kind='bar', figsize=(20,3))\n",
    "plt.ylabel('counts')\n",
    "plt.xlabel('Offer Type')\n",
    "plt.title('Offer received');\n",
    "\n",
    "plt.subplot(132)\n",
    "offer_viewed = final_df[final_df['event'] == 'offer viewed'].offer_type.value_counts()\n",
    "offer_viewed.plot(kind='bar' , figsize=(20,3))\n",
    "plt.ylabel('counts')\n",
    "plt.xlabel('Offer Type')\n",
    "plt.title('Offer viewed');\n",
    "\n",
    "plt.subplot(133)\n",
    "offer_completed = final_df[final_df['event'] == 'offer completed'].offer_type.value_counts()\n",
    "offer_completed.plot(kind='bar' , figsize=(20,3))\n",
    "plt.ylabel('counts')\n",
    "plt.xlabel('Offer Type')\n",
    "plt.title('Offer completed');"
   ]
  },
  {
   "cell_type": "code",
   "execution_count": 53,
   "metadata": {},
   "outputs": [],
   "source": [
    "offer_received = final_df[final_df['event'] == 'offer received'].offer_type.value_counts()\n",
    "offer_viewed = final_df[final_df['event'] == 'offer viewed'].offer_type.value_counts()\n",
    "offer_completed = final_df[final_df['event'] == 'offer completed'].offer_type.value_counts()"
   ]
  },
  {
   "cell_type": "markdown",
   "metadata": {},
   "source": [
    "**BOGO**"
   ]
  },
  {
   "cell_type": "code",
   "execution_count": 54,
   "metadata": {},
   "outputs": [
    {
     "name": "stdout",
     "output_type": "stream",
     "text": [
      "offer_received =  26537\n",
      "offer_viewed =  22039\n",
      "offer_completed =  17186\n",
      "--------------------\n",
      "offer_viewed / offer_received =  83.050081019 %\n",
      "offer_completed / offer_received =  57.4970795493 %\n"
     ]
    }
   ],
   "source": [
    "print('offer_received = ', offer_received[1])\n",
    "print('offer_viewed = ', offer_viewed[0])\n",
    "print('offer_completed = ', offer_completed[0])\n",
    "print('--------------------')\n",
    "print('offer_viewed / offer_received = ', (offer_viewed[0] / offer_received[1])*100 ,'%')\n",
    "print('offer_completed / offer_received = ', (offer_completed[1] / offer_received[1])*100 ,'%')"
   ]
  },
  {
   "cell_type": "code",
   "execution_count": 55,
   "metadata": {},
   "outputs": [
    {
     "data": {
      "text/plain": [
       "(26537, 22039, 15258, 0.83050081018954669, 0.57497079549308516)"
      ]
     },
     "execution_count": 55,
     "metadata": {},
     "output_type": "execute_result"
    }
   ],
   "source": [
    "received = offer_received[1] \n",
    "viewed = offer_viewed[0] \n",
    "completed = offer_completed[1] \n",
    "\n",
    "viewed_perc = viewed/received\n",
    "completed_perc = completed/received\n",
    "received , viewed , completed , viewed_perc , completed_perc"
   ]
  },
  {
   "cell_type": "markdown",
   "metadata": {},
   "source": [
    "**DISCOUNT**"
   ]
  },
  {
   "cell_type": "code",
   "execution_count": 56,
   "metadata": {},
   "outputs": [
    {
     "name": "stdout",
     "output_type": "stream",
     "text": [
      "offer_received =  26664\n",
      "offer_viewed =  18461\n",
      "offer_completed =  17186\n",
      "--------------------\n",
      "offer_viewed / offer_received =  69.2356735674 %\n",
      "offer_completed / offer_received =  64.4539453945 %\n"
     ]
    }
   ],
   "source": [
    "print('offer_received = ', offer_received[0])\n",
    "print('offer_viewed = ', offer_viewed[1])\n",
    "print('offer_completed = ', offer_completed[0])\n",
    "print('--------------------')\n",
    "print('offer_viewed / offer_received = ', (offer_viewed[1] / offer_received[0])*100 ,'%')\n",
    "print('offer_completed / offer_received = ', (offer_completed[0] / offer_received[0])*100 ,'%')"
   ]
  },
  {
   "cell_type": "code",
   "execution_count": 57,
   "metadata": {},
   "outputs": [
    {
     "data": {
      "text/plain": [
       "(26664, 18461, 17186, 0.69235673567356737, 0.64453945394539458)"
      ]
     },
     "execution_count": 57,
     "metadata": {},
     "output_type": "execute_result"
    }
   ],
   "source": [
    "received = offer_received[0] \n",
    "viewed = offer_viewed[1] \n",
    "completed = offer_completed[0] \n",
    "\n",
    "viewed_perc = viewed/received\n",
    "completed_perc = completed/received\n",
    "received , viewed , completed , viewed_perc , completed_perc"
   ]
  },
  {
   "cell_type": "markdown",
   "metadata": {},
   "source": [
    "To sum up: \n",
    "    \n",
    "* Percentage of BOGO Offer viewer is 83%\n",
    "* Percentage of DISCOUNT Offer viewer is 70%"
   ]
  },
  {
   "cell_type": "markdown",
   "metadata": {},
   "source": [
    "We can check the offer_received, offer_viewed and offer_completed per offer_id"
   ]
  },
  {
   "cell_type": "code",
   "execution_count": 58,
   "metadata": {},
   "outputs": [],
   "source": [
    "offer_received = final_df[final_df['event'] == 'offer received'].offer_id.value_counts()\n",
    "offer_viewed = final_df[final_df['event'] == 'offer viewed'].offer_id.value_counts()\n",
    "offer_completed = final_df[final_df['event'] == 'offer completed'].offer_id.value_counts()"
   ]
  },
  {
   "cell_type": "code",
   "execution_count": 59,
   "metadata": {},
   "outputs": [
    {
     "data": {
      "text/plain": [
       "0b1e1539f2cc45b7b9fa7c272da2e1d7    6726\n",
       "9b98b8c7a33c4b65b9aebfe6a799e6d9    6685\n",
       "ae264e3637204a6fb9bb56bc8210ddfd    6683\n",
       "3f207df678b143eea3cee63160fa8bed    6657\n",
       "2298d6c36e964ae4a3e7e9706d1fb8c2    6655\n",
       "fafdcd668e3743c1bb461111dcafc2a4    6652\n",
       "5a8bc65990b245e5a138643cd4eb9837    6643\n",
       "2906b810c7d4411798c6938adc9daaa5    6631\n",
       "4d5c57ea9a6940dd891ad53e9dbe8da0    6593\n",
       "f19421c1d4aa40978ebb69ca19b0e20d    6576\n",
       "Name: offer_id, dtype: int64"
      ]
     },
     "execution_count": 59,
     "metadata": {},
     "output_type": "execute_result"
    }
   ],
   "source": [
    "offer_received"
   ]
  },
  {
   "cell_type": "code",
   "execution_count": 60,
   "metadata": {},
   "outputs": [
    {
     "data": {
      "text/plain": [
       "fafdcd668e3743c1bb461111dcafc2a4    6407\n",
       "2298d6c36e964ae4a3e7e9706d1fb8c2    6379\n",
       "4d5c57ea9a6940dd891ad53e9dbe8da0    6329\n",
       "f19421c1d4aa40978ebb69ca19b0e20d    6310\n",
       "ae264e3637204a6fb9bb56bc8210ddfd    5901\n",
       "5a8bc65990b245e5a138643cd4eb9837    5873\n",
       "9b98b8c7a33c4b65b9aebfe6a799e6d9    3499\n",
       "3f207df678b143eea3cee63160fa8bed    3487\n",
       "2906b810c7d4411798c6938adc9daaa5    3460\n",
       "0b1e1539f2cc45b7b9fa7c272da2e1d7    2215\n",
       "Name: offer_id, dtype: int64"
      ]
     },
     "execution_count": 60,
     "metadata": {},
     "output_type": "execute_result"
    }
   ],
   "source": [
    "offer_viewed"
   ]
  },
  {
   "cell_type": "code",
   "execution_count": 61,
   "metadata": {},
   "outputs": [
    {
     "data": {
      "text/plain": [
       "fafdcd668e3743c1bb461111dcafc2a4    5003\n",
       "2298d6c36e964ae4a3e7e9706d1fb8c2    4886\n",
       "9b98b8c7a33c4b65b9aebfe6a799e6d9    4188\n",
       "f19421c1d4aa40978ebb69ca19b0e20d    4103\n",
       "2906b810c7d4411798c6938adc9daaa5    3911\n",
       "ae264e3637204a6fb9bb56bc8210ddfd    3657\n",
       "0b1e1539f2cc45b7b9fa7c272da2e1d7    3386\n",
       "4d5c57ea9a6940dd891ad53e9dbe8da0    3310\n",
       "Name: offer_id, dtype: int64"
      ]
     },
     "execution_count": 61,
     "metadata": {},
     "output_type": "execute_result"
    }
   ],
   "source": [
    "offer_completed"
   ]
  },
  {
   "cell_type": "markdown",
   "metadata": {},
   "source": [
    "We plot it to have a better visualization"
   ]
  },
  {
   "cell_type": "code",
   "execution_count": 62,
   "metadata": {},
   "outputs": [
    {
     "data": {
      "image/png": "[encoded data removed]",
      "text/plain": [
       "<matplotlib.figure.Figure at 0x7fdd19558400>"
      ]
     },
     "metadata": {
      "needs_background": "light"
     },
     "output_type": "display_data"
    }
   ],
   "source": [
    "plt.subplot(131)\n",
    "offer_received \n",
    "offer_received.plot(kind='bar', figsize=(20,3))\n",
    "plt.ylabel('counts')\n",
    "plt.xlabel('Offer Id ')\n",
    "plt.title('Offer received');\n",
    "\n",
    "plt.subplot(132)\n",
    "offer_viewed \n",
    "offer_viewed.plot(kind='bar' , figsize=(20,3))\n",
    "plt.ylabel('counts')\n",
    "plt.xlabel('Offer Id')\n",
    "plt.title('Offer viewed');\n",
    "\n",
    "plt.subplot(133)\n",
    "offer_completed \n",
    "offer_completed.plot(kind='bar' , figsize=(20,3))\n",
    "plt.ylabel('counts')\n",
    "plt.xlabel('Offer Id')\n",
    "plt.title('Offer completed');"
   ]
  },
  {
   "cell_type": "markdown",
   "metadata": {},
   "source": [
    "We can see that \n",
    "* **offer received:** each Offer_id have the same number of offer received\n",
    "* **offer viewed:** the ratio decreased for some offer_ids\n",
    "* **Offer completed:** the ratio decreased for some offer_ids"
   ]
  },
  {
   "cell_type": "markdown",
   "metadata": {},
   "source": [
    "We check the **offer type per user:**"
   ]
  },
  {
   "cell_type": "markdown",
   "metadata": {},
   "source": [
    "**bogo offer_received per user:**"
   ]
  },
  {
   "cell_type": "code",
   "execution_count": 63,
   "metadata": {},
   "outputs": [
    {
     "data": {
      "text/plain": [
       "person_id\n",
       "0009655768c64bdeb2e877511632db8f     3\n",
       "0011e0d4e6b944f998e987f904e8c1e5     3\n",
       "0020c2b971eb4e9188eac86d93036a77     4\n",
       "0020ccbbb6d84e358d3414a3ff76cffd     6\n",
       "004b041fbfe44859945daa2c7f79ee64     3\n",
       "004c5799adbf42868b9cff0396190900     8\n",
       "005500a7188546ff8a767329a2f7c76a     8\n",
       "0056df74b63b4298809f0b375a304cf4     3\n",
       "00715b6e55c3431cb56ff7307eb19675     5\n",
       "0082fd87c18f45f2be70dbcbb0fb8aad     5\n",
       "00840a2ca5d2408e982d56544dc14ffd     2\n",
       "00857b24b13f4fe0ad17b605f00357f5     7\n",
       "008d7088107b468893889da0ede0df5c     6\n",
       "0091d2b6a5ea4defaa8393e4e816db60    11\n",
       "0099bf30e4cb4265875266eb3eb25eab     2\n",
       "00a794f62b9a48beb58f8f6c02c2f1a6     5\n",
       "00ae03011f9f49b8a4b3e6d416678b0b     5\n",
       "00aee28bbb3848dd8a31f0c91dc267dd     4\n",
       "00b18b535d6d4f779dea4dc9ac451478     2\n",
       "00b3400e4ff64ee68ce9ada1d0c222f0     2\n",
       "00b3c376db2a4115af3aef34a02f61d6     6\n",
       "00b901d68f8f4fd68075184cd0f772d2     6\n",
       "00bbce6533f44ddeaf4dd32bcab55441     3\n",
       "00bc42a62f884b41a13cc595856cf7c3     3\n",
       "00bc983061d3471e8c8e74d31b7c8b6f     4\n",
       "00c20a9202d5475190b31a24de6fb06d     6\n",
       "00c2f812f4604c8893152a5c6572030e     7\n",
       "00c32a104f0c4065b5b552895fb22e34     2\n",
       "00c5a385c71a4d3db5e9b4e31e430943     4\n",
       "00c6035df45840038a72766c6d27a0db     3\n",
       "                                    ..\n",
       "ff8bb9517a1e4ef18b63eb9f2ba67d9e     4\n",
       "ff8ff8e5d8bb449894bf708924020edc     6\n",
       "ff932c6f8bb641bd816955337d153676    12\n",
       "ff95e0a9cdfd4030958762dadcb11e1a     3\n",
       "ff992fbec53145bbae59a68d025e0458     7\n",
       "ff9beda564da4bab81633fca744037dc     5\n",
       "ff9f73ead16a4f9b9e1a53a27280af92     6\n",
       "ffa81afacde642a3a51a7cd99f8d2cd7     5\n",
       "ffac285a64714aca8efd8d61a5606e84     5\n",
       "ffaecba5bbb14cffb04c2490d18eee7e     7\n",
       "ffb62bee02c14583b9763f8613bcace7     2\n",
       "ffb7fc8ad0594248a49e210ff0217c2d     6\n",
       "ffc60f10c2444740bc2049712bbffe17     5\n",
       "ffc6c9fbe34b4578911dcdf6745b4c74     2\n",
       "ffc77312ccda49fca19506f1cdf44923     5\n",
       "ffc8a38e0972421785b00f80c92c8085     3\n",
       "ffd53e5ba61d41378b66efc00d9f9682     7\n",
       "ffd810f301ad42d6bfe98c4ba6ee4125     2\n",
       "ffda4545e7084ff6aaf01304fb1c1fa6     4\n",
       "ffdefcac307f4ca99ac1ebd51470f106     7\n",
       "ffe5257abf8840b395e1ee6b29894637     5\n",
       "ffeaa02452ef451082a0361c3ca62ef5     3\n",
       "ffed75d3abc64b488982f50ed12878b5     4\n",
       "fff0f0aac6c547b9b263080f09a5586a     2\n",
       "fff29fb549084123bd046dbc5ceb4faa    14\n",
       "fff3ba4757bd42088c044ca26d73817a     3\n",
       "fff7576017104bcc8677a8d63322b5e1     6\n",
       "fff8957ea8b240a6b5e634b6ee8eafcf     2\n",
       "fffad4f4828548d1b5583907f2e9906b     9\n",
       "ffff82501cea40309d5fdd7edcca4a07     3\n",
       "Name: event, Length: 13082, dtype: int64"
      ]
     },
     "execution_count": 63,
     "metadata": {},
     "output_type": "execute_result"
    }
   ],
   "source": [
    "final_df[final_df['offer_type']=='bogo'].groupby('person_id')['event'].count()"
   ]
  },
  {
   "cell_type": "code",
   "execution_count": 64,
   "metadata": {},
   "outputs": [
    {
     "data": {
      "text/plain": [
       "<matplotlib.axes._subplots.AxesSubplot at 0x7fdd194ff668>"
      ]
     },
     "execution_count": 64,
     "metadata": {},
     "output_type": "execute_result"
    },
    {
     "data": {
      "image/png": "[encoded data removed]",
      "text/plain": [
       "<matplotlib.figure.Figure at 0x7fdd195fb828>"
      ]
     },
     "metadata": {
      "needs_background": "light"
     },
     "output_type": "display_data"
    }
   ],
   "source": [
    "final_df[final_df['offer_type']=='bogo'].groupby('person_id')['event'].count().hist()"
   ]
  },
  {
   "cell_type": "markdown",
   "metadata": {},
   "source": [
    "**Informational offer_received per user:**"
   ]
  },
  {
   "cell_type": "code",
   "execution_count": 65,
   "metadata": {},
   "outputs": [
    {
     "data": {
      "text/plain": [
       "person_id\n",
       "0009655768c64bdeb2e877511632db8f    4\n",
       "0011e0d4e6b944f998e987f904e8c1e5    4\n",
       "0020c2b971eb4e9188eac86d93036a77    2\n",
       "0020ccbbb6d84e358d3414a3ff76cffd    2\n",
       "003d66b6608740288d6cc97a6903f4f0    4\n",
       "00426fe3ffde4c6b9cb9ad6d077a13ea    2\n",
       "004b041fbfe44859945daa2c7f79ee64    1\n",
       "0056df74b63b4298809f0b375a304cf4    2\n",
       "00715b6e55c3431cb56ff7307eb19675    1\n",
       "0082fd87c18f45f2be70dbcbb0fb8aad    6\n",
       "00840a2ca5d2408e982d56544dc14ffd    1\n",
       "008d7088107b468893889da0ede0df5c    4\n",
       "00a794f62b9a48beb58f8f6c02c2f1a6    6\n",
       "00ae03011f9f49b8a4b3e6d416678b0b    2\n",
       "00b18b535d6d4f779dea4dc9ac451478    2\n",
       "00b3400e4ff64ee68ce9ada1d0c222f0    3\n",
       "00bbce6533f44ddeaf4dd32bcab55441    2\n",
       "00c5a385c71a4d3db5e9b4e31e430943    2\n",
       "00c6035df45840038a72766c6d27a0db    2\n",
       "00c91f31f5f74e769fa7a359b63e1a9f    3\n",
       "00d6dc87be4146ceb47fcd4baaaf6477    1\n",
       "00d791e20c564add8056498e40eb56cc    2\n",
       "00d91c5919514448bc4f718e4e3f26ab    2\n",
       "00e52682848542c3a6f59b7824e9a5c5    2\n",
       "00e8d701c583461e81cc10053681a12b    2\n",
       "00e9f403afa641889cd034ee7c7ca6e9    4\n",
       "00ee2ca6421c4af0aeca60a1b3e00f6c    2\n",
       "00ee69db83964d6da32f8109b32a1ce7    2\n",
       "00fbb9b5edb94f02afbaf1eb49bb4d7d    2\n",
       "00fdd4416dec40b49180814c0a7c8d76    3\n",
       "                                   ..\n",
       "ff102dbad4c748ba9f476d29c45f7ed7    3\n",
       "ff138957836849ccadfb5b232a3dc1b4    4\n",
       "ff298e06fee240039dfd761a0a2ea25e    3\n",
       "ff35495df493403388a7373862bcf2d5    2\n",
       "ff48bf4b65cf41a29d7086e3f742a73e    2\n",
       "ff4e747db62441979fbbc18d871c42b1    2\n",
       "ff5a8471ac1b4809b190e38ba13a678a    2\n",
       "ff737c250d2343729ade04c4f6eb1001    1\n",
       "ff7fdf82996949ec82d158a02a1d9cca    4\n",
       "ff80a43ecb34439491bd9ae1cff7c5fc    2\n",
       "ff8b6918b14448dd8a80d0dc8154f2a0    2\n",
       "ff8bb9517a1e4ef18b63eb9f2ba67d9e    2\n",
       "ff8ff8e5d8bb449894bf708924020edc    2\n",
       "ff95e0a9cdfd4030958762dadcb11e1a    1\n",
       "ff9beda564da4bab81633fca744037dc    2\n",
       "ffa81afacde642a3a51a7cd99f8d2cd7    1\n",
       "ffaecba5bbb14cffb04c2490d18eee7e    2\n",
       "ffb62bee02c14583b9763f8613bcace7    4\n",
       "ffb7fc8ad0594248a49e210ff0217c2d    3\n",
       "ffc60f10c2444740bc2049712bbffe17    4\n",
       "ffc77312ccda49fca19506f1cdf44923    1\n",
       "ffc8a38e0972421785b00f80c92c8085    1\n",
       "ffd810f301ad42d6bfe98c4ba6ee4125    2\n",
       "ffda4545e7084ff6aaf01304fb1c1fa6    1\n",
       "ffe5257abf8840b395e1ee6b29894637    1\n",
       "ffeaa02452ef451082a0361c3ca62ef5    4\n",
       "fff0f0aac6c547b9b263080f09a5586a    4\n",
       "fff3ba4757bd42088c044ca26d73817a    3\n",
       "fff8957ea8b240a6b5e634b6ee8eafcf    1\n",
       "fffad4f4828548d1b5583907f2e9906b    2\n",
       "Name: event, Length: 9200, dtype: int64"
      ]
     },
     "execution_count": 65,
     "metadata": {},
     "output_type": "execute_result"
    }
   ],
   "source": [
    "final_df[final_df['offer_type']=='informational'].groupby('person_id')['event'].count()"
   ]
  },
  {
   "cell_type": "code",
   "execution_count": 66,
   "metadata": {},
   "outputs": [
    {
     "data": {
      "text/plain": [
       "<matplotlib.axes._subplots.AxesSubplot at 0x7fdd198bb518>"
      ]
     },
     "execution_count": 66,
     "metadata": {},
     "output_type": "execute_result"
    },
    {
     "data": {
      "image/png": "[encoded data removed]",
      "text/plain": [
       "<matplotlib.figure.Figure at 0x7fdd1948dd68>"
      ]
     },
     "metadata": {
      "needs_background": "light"
     },
     "output_type": "display_data"
    }
   ],
   "source": [
    "final_df[final_df['offer_type']=='informational'].groupby('person_id')['event'].count().hist()"
   ]
  },
  {
   "cell_type": "markdown",
   "metadata": {},
   "source": [
    "**Discount offer_received per user:**"
   ]
  },
  {
   "cell_type": "code",
   "execution_count": 67,
   "metadata": {},
   "outputs": [
    {
     "data": {
      "text/plain": [
       "person_id\n",
       "0009655768c64bdeb2e877511632db8f     5\n",
       "0011e0d4e6b944f998e987f904e8c1e5     6\n",
       "0020c2b971eb4e9188eac86d93036a77     5\n",
       "0020ccbbb6d84e358d3414a3ff76cffd     3\n",
       "003d66b6608740288d6cc97a6903f4f0     8\n",
       "00426fe3ffde4c6b9cb9ad6d077a13ea     6\n",
       "004b041fbfe44859945daa2c7f79ee64     3\n",
       "004c5799adbf42868b9cff0396190900     6\n",
       "005500a7188546ff8a767329a2f7c76a     1\n",
       "0056df74b63b4298809f0b375a304cf4     5\n",
       "00715b6e55c3431cb56ff7307eb19675     8\n",
       "00840a2ca5d2408e982d56544dc14ffd     8\n",
       "00857b24b13f4fe0ad17b605f00357f5     1\n",
       "008d7088107b468893889da0ede0df5c     1\n",
       "0091d2b6a5ea4defaa8393e4e816db60     3\n",
       "0099bf30e4cb4265875266eb3eb25eab     8\n",
       "00ae03011f9f49b8a4b3e6d416678b0b     8\n",
       "00aee28bbb3848dd8a31f0c91dc267dd     1\n",
       "00b18b535d6d4f779dea4dc9ac451478     9\n",
       "00b3400e4ff64ee68ce9ada1d0c222f0     5\n",
       "00b3c376db2a4115af3aef34a02f61d6     2\n",
       "00b901d68f8f4fd68075184cd0f772d2     2\n",
       "00bbce6533f44ddeaf4dd32bcab55441     6\n",
       "00bc42a62f884b41a13cc595856cf7c3    11\n",
       "00bc983061d3471e8c8e74d31b7c8b6f     3\n",
       "00c20a9202d5475190b31a24de6fb06d     6\n",
       "00c2f812f4604c8893152a5c6572030e     5\n",
       "00c32a104f0c4065b5b552895fb22e34     5\n",
       "00c5a385c71a4d3db5e9b4e31e430943     4\n",
       "00c6035df45840038a72766c6d27a0db     6\n",
       "                                    ..\n",
       "ff7cc9b97c7744cfbc31bb020ea8d07e     8\n",
       "ff7fdf82996949ec82d158a02a1d9cca     3\n",
       "ff80a43ecb34439491bd9ae1cff7c5fc     9\n",
       "ff8b6918b14448dd8a80d0dc8154f2a0     3\n",
       "ff8bb9517a1e4ef18b63eb9f2ba67d9e     4\n",
       "ff8bee9ba3754ac687d9af685b2981b7     6\n",
       "ff8ff8e5d8bb449894bf708924020edc     6\n",
       "ff932c6f8bb641bd816955337d153676     6\n",
       "ff95e0a9cdfd4030958762dadcb11e1a     4\n",
       "ff992fbec53145bbae59a68d025e0458     9\n",
       "ff9beda564da4bab81633fca744037dc     5\n",
       "ff9f73ead16a4f9b9e1a53a27280af92     5\n",
       "ffa81afacde642a3a51a7cd99f8d2cd7     5\n",
       "ffaecba5bbb14cffb04c2490d18eee7e     6\n",
       "ffb62bee02c14583b9763f8613bcace7     2\n",
       "ffb7fc8ad0594248a49e210ff0217c2d     5\n",
       "ffc6c9fbe34b4578911dcdf6745b4c74     3\n",
       "ffc77312ccda49fca19506f1cdf44923     1\n",
       "ffc8a38e0972421785b00f80c92c8085     3\n",
       "ffd53e5ba61d41378b66efc00d9f9682     5\n",
       "ffd810f301ad42d6bfe98c4ba6ee4125     2\n",
       "ffda4545e7084ff6aaf01304fb1c1fa6     5\n",
       "ffdefcac307f4ca99ac1ebd51470f106     5\n",
       "ffe5257abf8840b395e1ee6b29894637     5\n",
       "ffeaa02452ef451082a0361c3ca62ef5     6\n",
       "fff29fb549084123bd046dbc5ceb4faa     3\n",
       "fff3ba4757bd42088c044ca26d73817a     6\n",
       "fff7576017104bcc8677a8d63322b5e1     6\n",
       "fff8957ea8b240a6b5e634b6ee8eafcf     2\n",
       "ffff82501cea40309d5fdd7edcca4a07    15\n",
       "Name: event, Length: 13042, dtype: int64"
      ]
     },
     "execution_count": 67,
     "metadata": {},
     "output_type": "execute_result"
    }
   ],
   "source": [
    "final_df[final_df['offer_type']=='discount'].groupby('person_id')['event'].count()"
   ]
  },
  {
   "cell_type": "code",
   "execution_count": 68,
   "metadata": {},
   "outputs": [
    {
     "data": {
      "text/plain": [
       "<matplotlib.axes._subplots.AxesSubplot at 0x7fdd19477240>"
      ]
     },
     "execution_count": 68,
     "metadata": {},
     "output_type": "execute_result"
    },
    {
     "data": {
      "image/png": "[encoded data removed]",
      "text/plain": [
       "<matplotlib.figure.Figure at 0x7fdd1947b8d0>"
      ]
     },
     "metadata": {
      "needs_background": "light"
     },
     "output_type": "display_data"
    }
   ],
   "source": [
    "final_df[final_df['offer_type']=='discount'].groupby('person_id')['event'].count().hist()"
   ]
  },
  {
   "cell_type": "markdown",
   "metadata": {},
   "source": [
    "# PREDICTION"
   ]
  },
  {
   "cell_type": "markdown",
   "metadata": {},
   "source": [
    "We apply one-hot encode:"
   ]
  },
  {
   "cell_type": "markdown",
   "metadata": {},
   "source": [
    "**GENDER**"
   ]
  },
  {
   "cell_type": "code",
   "execution_count": 69,
   "metadata": {},
   "outputs": [],
   "source": [
    "genders = {'O': 0, 'M': 1, 'F': 2}"
   ]
  },
  {
   "cell_type": "code",
   "execution_count": 70,
   "metadata": {},
   "outputs": [],
   "source": [
    "final_df['gender'] = final_df['gender'].map(genders)"
   ]
  },
  {
   "cell_type": "markdown",
   "metadata": {},
   "source": [
    "**OFFER TYPE**"
   ]
  },
  {
   "cell_type": "code",
   "execution_count": 71,
   "metadata": {},
   "outputs": [
    {
     "data": {
      "text/plain": [
       "bogo             63834\n",
       "discount         62311\n",
       "informational    22660\n",
       "Name: offer_type, dtype: int64"
      ]
     },
     "execution_count": 71,
     "metadata": {},
     "output_type": "execute_result"
    }
   ],
   "source": [
    "final_df.offer_type.value_counts()"
   ]
  },
  {
   "cell_type": "code",
   "execution_count": 72,
   "metadata": {},
   "outputs": [],
   "source": [
    "offers = {'bogo': 0, 'discount': 1, 'informational': 2}"
   ]
  },
  {
   "cell_type": "code",
   "execution_count": 73,
   "metadata": {},
   "outputs": [],
   "source": [
    "final_df['offer_type'] = final_df['offer_type'].map(offers)"
   ]
  },
  {
   "cell_type": "code",
   "execution_count": 74,
   "metadata": {},
   "outputs": [
    {
     "data": {
      "text/html": [
       "<div>\n",
       "<style scoped>\n",
       "    .dataframe tbody tr th:only-of-type {\n",
       "        vertical-align: middle;\n",
       "    }\n",
       "\n",
       "    .dataframe tbody tr th {\n",
       "        vertical-align: top;\n",
       "    }\n",
       "\n",
       "    .dataframe thead th {\n",
       "        text-align: right;\n",
       "    }\n",
       "</style>\n",
       "<table border=\"1\" class=\"dataframe\">\n",
       "  <thead>\n",
       "    <tr style=\"text-align: right;\">\n",
       "      <th></th>\n",
       "      <th>event</th>\n",
       "      <th>person_id</th>\n",
       "      <th>time</th>\n",
       "      <th>amount</th>\n",
       "      <th>offer_id</th>\n",
       "      <th>reward</th>\n",
       "      <th>difficulty</th>\n",
       "      <th>duration</th>\n",
       "      <th>offer_type</th>\n",
       "      <th>web</th>\n",
       "      <th>email</th>\n",
       "      <th>mobile</th>\n",
       "      <th>social</th>\n",
       "      <th>age</th>\n",
       "      <th>gender</th>\n",
       "      <th>income</th>\n",
       "      <th>member_since</th>\n",
       "      <th>age_range</th>\n",
       "      <th>income_range</th>\n",
       "    </tr>\n",
       "  </thead>\n",
       "  <tbody>\n",
       "    <tr>\n",
       "      <th>0</th>\n",
       "      <td>offer received</td>\n",
       "      <td>78afa995795e4d85b5d9ceeca43f5fef</td>\n",
       "      <td>0</td>\n",
       "      <td>0.0</td>\n",
       "      <td>9b98b8c7a33c4b65b9aebfe6a799e6d9</td>\n",
       "      <td>0.0</td>\n",
       "      <td>5.0</td>\n",
       "      <td>168.0</td>\n",
       "      <td>0.0</td>\n",
       "      <td>1.0</td>\n",
       "      <td>1.0</td>\n",
       "      <td>1.0</td>\n",
       "      <td>0.0</td>\n",
       "      <td>75</td>\n",
       "      <td>2</td>\n",
       "      <td>100000.0</td>\n",
       "      <td>2017</td>\n",
       "      <td>70-79</td>\n",
       "      <td>100-109K</td>\n",
       "    </tr>\n",
       "  </tbody>\n",
       "</table>\n",
       "</div>"
      ],
      "text/plain": [
       "            event                         person_id  time  amount  \\\n",
       "0  offer received  78afa995795e4d85b5d9ceeca43f5fef     0     0.0   \n",
       "\n",
       "                           offer_id  reward  difficulty  duration  offer_type  \\\n",
       "0  9b98b8c7a33c4b65b9aebfe6a799e6d9     0.0         5.0     168.0         0.0   \n",
       "\n",
       "   web  email  mobile  social  age  gender    income  member_since age_range  \\\n",
       "0  1.0    1.0     1.0     0.0   75       2  100000.0          2017     70-79   \n",
       "\n",
       "  income_range  \n",
       "0     100-109K  "
      ]
     },
     "execution_count": 74,
     "metadata": {},
     "output_type": "execute_result"
    }
   ],
   "source": [
    "final_df.head(1)"
   ]
  },
  {
   "cell_type": "markdown",
   "metadata": {},
   "source": [
    "We need to drop the colums that we don´t need for the model:"
   ]
  },
  {
   "cell_type": "code",
   "execution_count": 75,
   "metadata": {},
   "outputs": [
    {
     "data": {
      "text/plain": [
       "Index(['event', 'person_id', 'time', 'amount', 'offer_id', 'reward',\n",
       "       'difficulty', 'duration', 'offer_type', 'web', 'email', 'mobile',\n",
       "       'social', 'age', 'gender', 'income', 'member_since', 'age_range',\n",
       "       'income_range'],\n",
       "      dtype='object')"
      ]
     },
     "execution_count": 75,
     "metadata": {},
     "output_type": "execute_result"
    }
   ],
   "source": [
    "final_df.columns"
   ]
  },
  {
   "cell_type": "markdown",
   "metadata": {},
   "source": [
    "We need to apply an id to the event:"
   ]
  },
  {
   "cell_type": "code",
   "execution_count": 76,
   "metadata": {},
   "outputs": [
    {
     "data": {
      "text/plain": [
       "array(['offer received', 'offer viewed', 'transaction', 'offer completed'], dtype=object)"
      ]
     },
     "execution_count": 76,
     "metadata": {},
     "output_type": "execute_result"
    }
   ],
   "source": [
    "event_id = final_df['event'].unique()\n",
    "event_id"
   ]
  },
  {
   "cell_type": "code",
   "execution_count": 77,
   "metadata": {},
   "outputs": [
    {
     "data": {
      "text/plain": [
       "{0: 'offer received',\n",
       " 1: 'offer viewed',\n",
       " 2: 'transaction',\n",
       " 3: 'offer completed'}"
      ]
     },
     "execution_count": 77,
     "metadata": {},
     "output_type": "execute_result"
    }
   ],
   "source": [
    "event_dictionary = pd.Series(event_id).to_dict()\n",
    "event_dictionary"
   ]
  },
  {
   "cell_type": "code",
   "execution_count": 78,
   "metadata": {},
   "outputs": [
    {
     "data": {
      "text/plain": [
       "{'offer received': 0,\n",
       " 'offer viewed': 1,\n",
       " 'transaction': 2,\n",
       " 'offer completed': 3}"
      ]
     },
     "execution_count": 78,
     "metadata": {},
     "output_type": "execute_result"
    }
   ],
   "source": [
    "event_dictionary = dict([(value, key) for key, value in event_dictionary.items()]) \n",
    "event_dictionary"
   ]
  },
  {
   "cell_type": "code",
   "execution_count": 79,
   "metadata": {},
   "outputs": [],
   "source": [
    "final_df['event_id'] = final_df['event'].map(event_dictionary)"
   ]
  },
  {
   "cell_type": "code",
   "execution_count": 80,
   "metadata": {},
   "outputs": [
    {
     "data": {
      "text/html": [
       "<div>\n",
       "<style scoped>\n",
       "    .dataframe tbody tr th:only-of-type {\n",
       "        vertical-align: middle;\n",
       "    }\n",
       "\n",
       "    .dataframe tbody tr th {\n",
       "        vertical-align: top;\n",
       "    }\n",
       "\n",
       "    .dataframe thead th {\n",
       "        text-align: right;\n",
       "    }\n",
       "</style>\n",
       "<table border=\"1\" class=\"dataframe\">\n",
       "  <thead>\n",
       "    <tr style=\"text-align: right;\">\n",
       "      <th></th>\n",
       "      <th>event</th>\n",
       "      <th>person_id</th>\n",
       "      <th>time</th>\n",
       "      <th>amount</th>\n",
       "      <th>offer_id</th>\n",
       "      <th>reward</th>\n",
       "      <th>difficulty</th>\n",
       "      <th>duration</th>\n",
       "      <th>offer_type</th>\n",
       "      <th>web</th>\n",
       "      <th>email</th>\n",
       "      <th>mobile</th>\n",
       "      <th>social</th>\n",
       "      <th>age</th>\n",
       "      <th>gender</th>\n",
       "      <th>income</th>\n",
       "      <th>member_since</th>\n",
       "      <th>age_range</th>\n",
       "      <th>income_range</th>\n",
       "      <th>event_id</th>\n",
       "    </tr>\n",
       "  </thead>\n",
       "  <tbody>\n",
       "    <tr>\n",
       "      <th>0</th>\n",
       "      <td>offer received</td>\n",
       "      <td>78afa995795e4d85b5d9ceeca43f5fef</td>\n",
       "      <td>0</td>\n",
       "      <td>0.00</td>\n",
       "      <td>9b98b8c7a33c4b65b9aebfe6a799e6d9</td>\n",
       "      <td>0.0</td>\n",
       "      <td>5.0</td>\n",
       "      <td>168.0</td>\n",
       "      <td>0.0</td>\n",
       "      <td>1.0</td>\n",
       "      <td>1.0</td>\n",
       "      <td>1.0</td>\n",
       "      <td>0.0</td>\n",
       "      <td>75</td>\n",
       "      <td>2</td>\n",
       "      <td>100000.0</td>\n",
       "      <td>2017</td>\n",
       "      <td>70-79</td>\n",
       "      <td>100-109K</td>\n",
       "      <td>0</td>\n",
       "    </tr>\n",
       "    <tr>\n",
       "      <th>1</th>\n",
       "      <td>offer viewed</td>\n",
       "      <td>78afa995795e4d85b5d9ceeca43f5fef</td>\n",
       "      <td>6</td>\n",
       "      <td>0.00</td>\n",
       "      <td>9b98b8c7a33c4b65b9aebfe6a799e6d9</td>\n",
       "      <td>0.0</td>\n",
       "      <td>5.0</td>\n",
       "      <td>168.0</td>\n",
       "      <td>0.0</td>\n",
       "      <td>1.0</td>\n",
       "      <td>1.0</td>\n",
       "      <td>1.0</td>\n",
       "      <td>0.0</td>\n",
       "      <td>75</td>\n",
       "      <td>2</td>\n",
       "      <td>100000.0</td>\n",
       "      <td>2017</td>\n",
       "      <td>70-79</td>\n",
       "      <td>100-109K</td>\n",
       "      <td>1</td>\n",
       "    </tr>\n",
       "    <tr>\n",
       "      <th>2</th>\n",
       "      <td>transaction</td>\n",
       "      <td>78afa995795e4d85b5d9ceeca43f5fef</td>\n",
       "      <td>132</td>\n",
       "      <td>19.89</td>\n",
       "      <td>none</td>\n",
       "      <td>0.0</td>\n",
       "      <td>NaN</td>\n",
       "      <td>NaN</td>\n",
       "      <td>NaN</td>\n",
       "      <td>NaN</td>\n",
       "      <td>NaN</td>\n",
       "      <td>NaN</td>\n",
       "      <td>NaN</td>\n",
       "      <td>75</td>\n",
       "      <td>2</td>\n",
       "      <td>100000.0</td>\n",
       "      <td>2017</td>\n",
       "      <td>70-79</td>\n",
       "      <td>100-109K</td>\n",
       "      <td>2</td>\n",
       "    </tr>\n",
       "    <tr>\n",
       "      <th>3</th>\n",
       "      <td>offer completed</td>\n",
       "      <td>78afa995795e4d85b5d9ceeca43f5fef</td>\n",
       "      <td>132</td>\n",
       "      <td>0.00</td>\n",
       "      <td>9b98b8c7a33c4b65b9aebfe6a799e6d9</td>\n",
       "      <td>5.0</td>\n",
       "      <td>5.0</td>\n",
       "      <td>168.0</td>\n",
       "      <td>0.0</td>\n",
       "      <td>1.0</td>\n",
       "      <td>1.0</td>\n",
       "      <td>1.0</td>\n",
       "      <td>0.0</td>\n",
       "      <td>75</td>\n",
       "      <td>2</td>\n",
       "      <td>100000.0</td>\n",
       "      <td>2017</td>\n",
       "      <td>70-79</td>\n",
       "      <td>100-109K</td>\n",
       "      <td>3</td>\n",
       "    </tr>\n",
       "    <tr>\n",
       "      <th>4</th>\n",
       "      <td>transaction</td>\n",
       "      <td>78afa995795e4d85b5d9ceeca43f5fef</td>\n",
       "      <td>144</td>\n",
       "      <td>17.78</td>\n",
       "      <td>none</td>\n",
       "      <td>0.0</td>\n",
       "      <td>NaN</td>\n",
       "      <td>NaN</td>\n",
       "      <td>NaN</td>\n",
       "      <td>NaN</td>\n",
       "      <td>NaN</td>\n",
       "      <td>NaN</td>\n",
       "      <td>NaN</td>\n",
       "      <td>75</td>\n",
       "      <td>2</td>\n",
       "      <td>100000.0</td>\n",
       "      <td>2017</td>\n",
       "      <td>70-79</td>\n",
       "      <td>100-109K</td>\n",
       "      <td>2</td>\n",
       "    </tr>\n",
       "    <tr>\n",
       "      <th>5</th>\n",
       "      <td>offer received</td>\n",
       "      <td>78afa995795e4d85b5d9ceeca43f5fef</td>\n",
       "      <td>168</td>\n",
       "      <td>0.00</td>\n",
       "      <td>5a8bc65990b245e5a138643cd4eb9837</td>\n",
       "      <td>0.0</td>\n",
       "      <td>0.0</td>\n",
       "      <td>72.0</td>\n",
       "      <td>2.0</td>\n",
       "      <td>0.0</td>\n",
       "      <td>1.0</td>\n",
       "      <td>1.0</td>\n",
       "      <td>1.0</td>\n",
       "      <td>75</td>\n",
       "      <td>2</td>\n",
       "      <td>100000.0</td>\n",
       "      <td>2017</td>\n",
       "      <td>70-79</td>\n",
       "      <td>100-109K</td>\n",
       "      <td>0</td>\n",
       "    </tr>\n",
       "    <tr>\n",
       "      <th>6</th>\n",
       "      <td>offer viewed</td>\n",
       "      <td>78afa995795e4d85b5d9ceeca43f5fef</td>\n",
       "      <td>216</td>\n",
       "      <td>0.00</td>\n",
       "      <td>5a8bc65990b245e5a138643cd4eb9837</td>\n",
       "      <td>0.0</td>\n",
       "      <td>0.0</td>\n",
       "      <td>72.0</td>\n",
       "      <td>2.0</td>\n",
       "      <td>0.0</td>\n",
       "      <td>1.0</td>\n",
       "      <td>1.0</td>\n",
       "      <td>1.0</td>\n",
       "      <td>75</td>\n",
       "      <td>2</td>\n",
       "      <td>100000.0</td>\n",
       "      <td>2017</td>\n",
       "      <td>70-79</td>\n",
       "      <td>100-109K</td>\n",
       "      <td>1</td>\n",
       "    </tr>\n",
       "    <tr>\n",
       "      <th>7</th>\n",
       "      <td>transaction</td>\n",
       "      <td>78afa995795e4d85b5d9ceeca43f5fef</td>\n",
       "      <td>222</td>\n",
       "      <td>19.67</td>\n",
       "      <td>none</td>\n",
       "      <td>0.0</td>\n",
       "      <td>NaN</td>\n",
       "      <td>NaN</td>\n",
       "      <td>NaN</td>\n",
       "      <td>NaN</td>\n",
       "      <td>NaN</td>\n",
       "      <td>NaN</td>\n",
       "      <td>NaN</td>\n",
       "      <td>75</td>\n",
       "      <td>2</td>\n",
       "      <td>100000.0</td>\n",
       "      <td>2017</td>\n",
       "      <td>70-79</td>\n",
       "      <td>100-109K</td>\n",
       "      <td>2</td>\n",
       "    </tr>\n",
       "    <tr>\n",
       "      <th>8</th>\n",
       "      <td>transaction</td>\n",
       "      <td>78afa995795e4d85b5d9ceeca43f5fef</td>\n",
       "      <td>240</td>\n",
       "      <td>29.72</td>\n",
       "      <td>none</td>\n",
       "      <td>0.0</td>\n",
       "      <td>NaN</td>\n",
       "      <td>NaN</td>\n",
       "      <td>NaN</td>\n",
       "      <td>NaN</td>\n",
       "      <td>NaN</td>\n",
       "      <td>NaN</td>\n",
       "      <td>NaN</td>\n",
       "      <td>75</td>\n",
       "      <td>2</td>\n",
       "      <td>100000.0</td>\n",
       "      <td>2017</td>\n",
       "      <td>70-79</td>\n",
       "      <td>100-109K</td>\n",
       "      <td>2</td>\n",
       "    </tr>\n",
       "    <tr>\n",
       "      <th>9</th>\n",
       "      <td>transaction</td>\n",
       "      <td>78afa995795e4d85b5d9ceeca43f5fef</td>\n",
       "      <td>378</td>\n",
       "      <td>23.93</td>\n",
       "      <td>none</td>\n",
       "      <td>0.0</td>\n",
       "      <td>NaN</td>\n",
       "      <td>NaN</td>\n",
       "      <td>NaN</td>\n",
       "      <td>NaN</td>\n",
       "      <td>NaN</td>\n",
       "      <td>NaN</td>\n",
       "      <td>NaN</td>\n",
       "      <td>75</td>\n",
       "      <td>2</td>\n",
       "      <td>100000.0</td>\n",
       "      <td>2017</td>\n",
       "      <td>70-79</td>\n",
       "      <td>100-109K</td>\n",
       "      <td>2</td>\n",
       "    </tr>\n",
       "    <tr>\n",
       "      <th>10</th>\n",
       "      <td>offer received</td>\n",
       "      <td>78afa995795e4d85b5d9ceeca43f5fef</td>\n",
       "      <td>408</td>\n",
       "      <td>0.00</td>\n",
       "      <td>ae264e3637204a6fb9bb56bc8210ddfd</td>\n",
       "      <td>0.0</td>\n",
       "      <td>10.0</td>\n",
       "      <td>168.0</td>\n",
       "      <td>0.0</td>\n",
       "      <td>0.0</td>\n",
       "      <td>1.0</td>\n",
       "      <td>1.0</td>\n",
       "      <td>1.0</td>\n",
       "      <td>75</td>\n",
       "      <td>2</td>\n",
       "      <td>100000.0</td>\n",
       "      <td>2017</td>\n",
       "      <td>70-79</td>\n",
       "      <td>100-109K</td>\n",
       "      <td>0</td>\n",
       "    </tr>\n",
       "    <tr>\n",
       "      <th>11</th>\n",
       "      <td>offer viewed</td>\n",
       "      <td>78afa995795e4d85b5d9ceeca43f5fef</td>\n",
       "      <td>408</td>\n",
       "      <td>0.00</td>\n",
       "      <td>ae264e3637204a6fb9bb56bc8210ddfd</td>\n",
       "      <td>0.0</td>\n",
       "      <td>10.0</td>\n",
       "      <td>168.0</td>\n",
       "      <td>0.0</td>\n",
       "      <td>0.0</td>\n",
       "      <td>1.0</td>\n",
       "      <td>1.0</td>\n",
       "      <td>1.0</td>\n",
       "      <td>75</td>\n",
       "      <td>2</td>\n",
       "      <td>100000.0</td>\n",
       "      <td>2017</td>\n",
       "      <td>70-79</td>\n",
       "      <td>100-109K</td>\n",
       "      <td>1</td>\n",
       "    </tr>\n",
       "    <tr>\n",
       "      <th>12</th>\n",
       "      <td>offer received</td>\n",
       "      <td>78afa995795e4d85b5d9ceeca43f5fef</td>\n",
       "      <td>504</td>\n",
       "      <td>0.00</td>\n",
       "      <td>f19421c1d4aa40978ebb69ca19b0e20d</td>\n",
       "      <td>0.0</td>\n",
       "      <td>5.0</td>\n",
       "      <td>120.0</td>\n",
       "      <td>0.0</td>\n",
       "      <td>1.0</td>\n",
       "      <td>1.0</td>\n",
       "      <td>1.0</td>\n",
       "      <td>1.0</td>\n",
       "      <td>75</td>\n",
       "      <td>2</td>\n",
       "      <td>100000.0</td>\n",
       "      <td>2017</td>\n",
       "      <td>70-79</td>\n",
       "      <td>100-109K</td>\n",
       "      <td>0</td>\n",
       "    </tr>\n",
       "    <tr>\n",
       "      <th>13</th>\n",
       "      <td>transaction</td>\n",
       "      <td>78afa995795e4d85b5d9ceeca43f5fef</td>\n",
       "      <td>510</td>\n",
       "      <td>21.72</td>\n",
       "      <td>none</td>\n",
       "      <td>0.0</td>\n",
       "      <td>NaN</td>\n",
       "      <td>NaN</td>\n",
       "      <td>NaN</td>\n",
       "      <td>NaN</td>\n",
       "      <td>NaN</td>\n",
       "      <td>NaN</td>\n",
       "      <td>NaN</td>\n",
       "      <td>75</td>\n",
       "      <td>2</td>\n",
       "      <td>100000.0</td>\n",
       "      <td>2017</td>\n",
       "      <td>70-79</td>\n",
       "      <td>100-109K</td>\n",
       "      <td>2</td>\n",
       "    </tr>\n",
       "    <tr>\n",
       "      <th>14</th>\n",
       "      <td>offer completed</td>\n",
       "      <td>78afa995795e4d85b5d9ceeca43f5fef</td>\n",
       "      <td>510</td>\n",
       "      <td>0.00</td>\n",
       "      <td>ae264e3637204a6fb9bb56bc8210ddfd</td>\n",
       "      <td>10.0</td>\n",
       "      <td>10.0</td>\n",
       "      <td>168.0</td>\n",
       "      <td>0.0</td>\n",
       "      <td>0.0</td>\n",
       "      <td>1.0</td>\n",
       "      <td>1.0</td>\n",
       "      <td>1.0</td>\n",
       "      <td>75</td>\n",
       "      <td>2</td>\n",
       "      <td>100000.0</td>\n",
       "      <td>2017</td>\n",
       "      <td>70-79</td>\n",
       "      <td>100-109K</td>\n",
       "      <td>3</td>\n",
       "    </tr>\n",
       "    <tr>\n",
       "      <th>15</th>\n",
       "      <td>offer completed</td>\n",
       "      <td>78afa995795e4d85b5d9ceeca43f5fef</td>\n",
       "      <td>510</td>\n",
       "      <td>0.00</td>\n",
       "      <td>f19421c1d4aa40978ebb69ca19b0e20d</td>\n",
       "      <td>5.0</td>\n",
       "      <td>5.0</td>\n",
       "      <td>120.0</td>\n",
       "      <td>0.0</td>\n",
       "      <td>1.0</td>\n",
       "      <td>1.0</td>\n",
       "      <td>1.0</td>\n",
       "      <td>1.0</td>\n",
       "      <td>75</td>\n",
       "      <td>2</td>\n",
       "      <td>100000.0</td>\n",
       "      <td>2017</td>\n",
       "      <td>70-79</td>\n",
       "      <td>100-109K</td>\n",
       "      <td>3</td>\n",
       "    </tr>\n",
       "    <tr>\n",
       "      <th>16</th>\n",
       "      <td>transaction</td>\n",
       "      <td>78afa995795e4d85b5d9ceeca43f5fef</td>\n",
       "      <td>534</td>\n",
       "      <td>26.56</td>\n",
       "      <td>none</td>\n",
       "      <td>0.0</td>\n",
       "      <td>NaN</td>\n",
       "      <td>NaN</td>\n",
       "      <td>NaN</td>\n",
       "      <td>NaN</td>\n",
       "      <td>NaN</td>\n",
       "      <td>NaN</td>\n",
       "      <td>NaN</td>\n",
       "      <td>75</td>\n",
       "      <td>2</td>\n",
       "      <td>100000.0</td>\n",
       "      <td>2017</td>\n",
       "      <td>70-79</td>\n",
       "      <td>100-109K</td>\n",
       "      <td>2</td>\n",
       "    </tr>\n",
       "    <tr>\n",
       "      <th>17</th>\n",
       "      <td>offer viewed</td>\n",
       "      <td>78afa995795e4d85b5d9ceeca43f5fef</td>\n",
       "      <td>582</td>\n",
       "      <td>0.00</td>\n",
       "      <td>f19421c1d4aa40978ebb69ca19b0e20d</td>\n",
       "      <td>0.0</td>\n",
       "      <td>5.0</td>\n",
       "      <td>120.0</td>\n",
       "      <td>0.0</td>\n",
       "      <td>1.0</td>\n",
       "      <td>1.0</td>\n",
       "      <td>1.0</td>\n",
       "      <td>1.0</td>\n",
       "      <td>75</td>\n",
       "      <td>2</td>\n",
       "      <td>100000.0</td>\n",
       "      <td>2017</td>\n",
       "      <td>70-79</td>\n",
       "      <td>100-109K</td>\n",
       "      <td>1</td>\n",
       "    </tr>\n",
       "    <tr>\n",
       "      <th>18</th>\n",
       "      <td>offer received</td>\n",
       "      <td>e2127556f4f64592b11af22de27a7932</td>\n",
       "      <td>0</td>\n",
       "      <td>0.00</td>\n",
       "      <td>2906b810c7d4411798c6938adc9daaa5</td>\n",
       "      <td>0.0</td>\n",
       "      <td>10.0</td>\n",
       "      <td>168.0</td>\n",
       "      <td>1.0</td>\n",
       "      <td>1.0</td>\n",
       "      <td>1.0</td>\n",
       "      <td>1.0</td>\n",
       "      <td>0.0</td>\n",
       "      <td>68</td>\n",
       "      <td>1</td>\n",
       "      <td>70000.0</td>\n",
       "      <td>2018</td>\n",
       "      <td>60-69</td>\n",
       "      <td>70-79K</td>\n",
       "      <td>0</td>\n",
       "    </tr>\n",
       "    <tr>\n",
       "      <th>19</th>\n",
       "      <td>offer viewed</td>\n",
       "      <td>e2127556f4f64592b11af22de27a7932</td>\n",
       "      <td>18</td>\n",
       "      <td>0.00</td>\n",
       "      <td>2906b810c7d4411798c6938adc9daaa5</td>\n",
       "      <td>0.0</td>\n",
       "      <td>10.0</td>\n",
       "      <td>168.0</td>\n",
       "      <td>1.0</td>\n",
       "      <td>1.0</td>\n",
       "      <td>1.0</td>\n",
       "      <td>1.0</td>\n",
       "      <td>0.0</td>\n",
       "      <td>68</td>\n",
       "      <td>1</td>\n",
       "      <td>70000.0</td>\n",
       "      <td>2018</td>\n",
       "      <td>60-69</td>\n",
       "      <td>70-79K</td>\n",
       "      <td>1</td>\n",
       "    </tr>\n",
       "    <tr>\n",
       "      <th>20</th>\n",
       "      <td>transaction</td>\n",
       "      <td>e2127556f4f64592b11af22de27a7932</td>\n",
       "      <td>288</td>\n",
       "      <td>17.88</td>\n",
       "      <td>none</td>\n",
       "      <td>0.0</td>\n",
       "      <td>NaN</td>\n",
       "      <td>NaN</td>\n",
       "      <td>NaN</td>\n",
       "      <td>NaN</td>\n",
       "      <td>NaN</td>\n",
       "      <td>NaN</td>\n",
       "      <td>NaN</td>\n",
       "      <td>68</td>\n",
       "      <td>1</td>\n",
       "      <td>70000.0</td>\n",
       "      <td>2018</td>\n",
       "      <td>60-69</td>\n",
       "      <td>70-79K</td>\n",
       "      <td>2</td>\n",
       "    </tr>\n",
       "    <tr>\n",
       "      <th>21</th>\n",
       "      <td>transaction</td>\n",
       "      <td>e2127556f4f64592b11af22de27a7932</td>\n",
       "      <td>294</td>\n",
       "      <td>21.43</td>\n",
       "      <td>none</td>\n",
       "      <td>0.0</td>\n",
       "      <td>NaN</td>\n",
       "      <td>NaN</td>\n",
       "      <td>NaN</td>\n",
       "      <td>NaN</td>\n",
       "      <td>NaN</td>\n",
       "      <td>NaN</td>\n",
       "      <td>NaN</td>\n",
       "      <td>68</td>\n",
       "      <td>1</td>\n",
       "      <td>70000.0</td>\n",
       "      <td>2018</td>\n",
       "      <td>60-69</td>\n",
       "      <td>70-79K</td>\n",
       "      <td>2</td>\n",
       "    </tr>\n",
       "    <tr>\n",
       "      <th>22</th>\n",
       "      <td>offer received</td>\n",
       "      <td>e2127556f4f64592b11af22de27a7932</td>\n",
       "      <td>336</td>\n",
       "      <td>0.00</td>\n",
       "      <td>3f207df678b143eea3cee63160fa8bed</td>\n",
       "      <td>0.0</td>\n",
       "      <td>0.0</td>\n",
       "      <td>96.0</td>\n",
       "      <td>2.0</td>\n",
       "      <td>1.0</td>\n",
       "      <td>1.0</td>\n",
       "      <td>1.0</td>\n",
       "      <td>0.0</td>\n",
       "      <td>68</td>\n",
       "      <td>1</td>\n",
       "      <td>70000.0</td>\n",
       "      <td>2018</td>\n",
       "      <td>60-69</td>\n",
       "      <td>70-79K</td>\n",
       "      <td>0</td>\n",
       "    </tr>\n",
       "    <tr>\n",
       "      <th>23</th>\n",
       "      <td>offer received</td>\n",
       "      <td>e2127556f4f64592b11af22de27a7932</td>\n",
       "      <td>408</td>\n",
       "      <td>0.00</td>\n",
       "      <td>9b98b8c7a33c4b65b9aebfe6a799e6d9</td>\n",
       "      <td>0.0</td>\n",
       "      <td>5.0</td>\n",
       "      <td>168.0</td>\n",
       "      <td>0.0</td>\n",
       "      <td>1.0</td>\n",
       "      <td>1.0</td>\n",
       "      <td>1.0</td>\n",
       "      <td>0.0</td>\n",
       "      <td>68</td>\n",
       "      <td>1</td>\n",
       "      <td>70000.0</td>\n",
       "      <td>2018</td>\n",
       "      <td>60-69</td>\n",
       "      <td>70-79K</td>\n",
       "      <td>0</td>\n",
       "    </tr>\n",
       "    <tr>\n",
       "      <th>24</th>\n",
       "      <td>offer viewed</td>\n",
       "      <td>e2127556f4f64592b11af22de27a7932</td>\n",
       "      <td>420</td>\n",
       "      <td>0.00</td>\n",
       "      <td>9b98b8c7a33c4b65b9aebfe6a799e6d9</td>\n",
       "      <td>0.0</td>\n",
       "      <td>5.0</td>\n",
       "      <td>168.0</td>\n",
       "      <td>0.0</td>\n",
       "      <td>1.0</td>\n",
       "      <td>1.0</td>\n",
       "      <td>1.0</td>\n",
       "      <td>0.0</td>\n",
       "      <td>68</td>\n",
       "      <td>1</td>\n",
       "      <td>70000.0</td>\n",
       "      <td>2018</td>\n",
       "      <td>60-69</td>\n",
       "      <td>70-79K</td>\n",
       "      <td>1</td>\n",
       "    </tr>\n",
       "    <tr>\n",
       "      <th>25</th>\n",
       "      <td>offer received</td>\n",
       "      <td>e2127556f4f64592b11af22de27a7932</td>\n",
       "      <td>504</td>\n",
       "      <td>0.00</td>\n",
       "      <td>fafdcd668e3743c1bb461111dcafc2a4</td>\n",
       "      <td>0.0</td>\n",
       "      <td>10.0</td>\n",
       "      <td>240.0</td>\n",
       "      <td>1.0</td>\n",
       "      <td>1.0</td>\n",
       "      <td>1.0</td>\n",
       "      <td>1.0</td>\n",
       "      <td>1.0</td>\n",
       "      <td>68</td>\n",
       "      <td>1</td>\n",
       "      <td>70000.0</td>\n",
       "      <td>2018</td>\n",
       "      <td>60-69</td>\n",
       "      <td>70-79K</td>\n",
       "      <td>0</td>\n",
       "    </tr>\n",
       "    <tr>\n",
       "      <th>26</th>\n",
       "      <td>offer viewed</td>\n",
       "      <td>e2127556f4f64592b11af22de27a7932</td>\n",
       "      <td>522</td>\n",
       "      <td>0.00</td>\n",
       "      <td>fafdcd668e3743c1bb461111dcafc2a4</td>\n",
       "      <td>0.0</td>\n",
       "      <td>10.0</td>\n",
       "      <td>240.0</td>\n",
       "      <td>1.0</td>\n",
       "      <td>1.0</td>\n",
       "      <td>1.0</td>\n",
       "      <td>1.0</td>\n",
       "      <td>1.0</td>\n",
       "      <td>68</td>\n",
       "      <td>1</td>\n",
       "      <td>70000.0</td>\n",
       "      <td>2018</td>\n",
       "      <td>60-69</td>\n",
       "      <td>70-79K</td>\n",
       "      <td>1</td>\n",
       "    </tr>\n",
       "    <tr>\n",
       "      <th>27</th>\n",
       "      <td>transaction</td>\n",
       "      <td>e2127556f4f64592b11af22de27a7932</td>\n",
       "      <td>522</td>\n",
       "      <td>18.42</td>\n",
       "      <td>none</td>\n",
       "      <td>0.0</td>\n",
       "      <td>NaN</td>\n",
       "      <td>NaN</td>\n",
       "      <td>NaN</td>\n",
       "      <td>NaN</td>\n",
       "      <td>NaN</td>\n",
       "      <td>NaN</td>\n",
       "      <td>NaN</td>\n",
       "      <td>68</td>\n",
       "      <td>1</td>\n",
       "      <td>70000.0</td>\n",
       "      <td>2018</td>\n",
       "      <td>60-69</td>\n",
       "      <td>70-79K</td>\n",
       "      <td>2</td>\n",
       "    </tr>\n",
       "    <tr>\n",
       "      <th>28</th>\n",
       "      <td>offer completed</td>\n",
       "      <td>e2127556f4f64592b11af22de27a7932</td>\n",
       "      <td>522</td>\n",
       "      <td>0.00</td>\n",
       "      <td>9b98b8c7a33c4b65b9aebfe6a799e6d9</td>\n",
       "      <td>5.0</td>\n",
       "      <td>5.0</td>\n",
       "      <td>168.0</td>\n",
       "      <td>0.0</td>\n",
       "      <td>1.0</td>\n",
       "      <td>1.0</td>\n",
       "      <td>1.0</td>\n",
       "      <td>0.0</td>\n",
       "      <td>68</td>\n",
       "      <td>1</td>\n",
       "      <td>70000.0</td>\n",
       "      <td>2018</td>\n",
       "      <td>60-69</td>\n",
       "      <td>70-79K</td>\n",
       "      <td>3</td>\n",
       "    </tr>\n",
       "    <tr>\n",
       "      <th>29</th>\n",
       "      <td>offer completed</td>\n",
       "      <td>e2127556f4f64592b11af22de27a7932</td>\n",
       "      <td>522</td>\n",
       "      <td>0.00</td>\n",
       "      <td>fafdcd668e3743c1bb461111dcafc2a4</td>\n",
       "      <td>2.0</td>\n",
       "      <td>10.0</td>\n",
       "      <td>240.0</td>\n",
       "      <td>1.0</td>\n",
       "      <td>1.0</td>\n",
       "      <td>1.0</td>\n",
       "      <td>1.0</td>\n",
       "      <td>1.0</td>\n",
       "      <td>68</td>\n",
       "      <td>1</td>\n",
       "      <td>70000.0</td>\n",
       "      <td>2018</td>\n",
       "      <td>60-69</td>\n",
       "      <td>70-79K</td>\n",
       "      <td>3</td>\n",
       "    </tr>\n",
       "    <tr>\n",
       "      <th>...</th>\n",
       "      <td>...</td>\n",
       "      <td>...</td>\n",
       "      <td>...</td>\n",
       "      <td>...</td>\n",
       "      <td>...</td>\n",
       "      <td>...</td>\n",
       "      <td>...</td>\n",
       "      <td>...</td>\n",
       "      <td>...</td>\n",
       "      <td>...</td>\n",
       "      <td>...</td>\n",
       "      <td>...</td>\n",
       "      <td>...</td>\n",
       "      <td>...</td>\n",
       "      <td>...</td>\n",
       "      <td>...</td>\n",
       "      <td>...</td>\n",
       "      <td>...</td>\n",
       "      <td>...</td>\n",
       "      <td>...</td>\n",
       "    </tr>\n",
       "    <tr>\n",
       "      <th>272732</th>\n",
       "      <td>offer viewed</td>\n",
       "      <td>fc966e9c3edc4578a1fb4c6a8c2659c2</td>\n",
       "      <td>516</td>\n",
       "      <td>0.00</td>\n",
       "      <td>f19421c1d4aa40978ebb69ca19b0e20d</td>\n",
       "      <td>0.0</td>\n",
       "      <td>5.0</td>\n",
       "      <td>120.0</td>\n",
       "      <td>0.0</td>\n",
       "      <td>1.0</td>\n",
       "      <td>1.0</td>\n",
       "      <td>1.0</td>\n",
       "      <td>1.0</td>\n",
       "      <td>60</td>\n",
       "      <td>2</td>\n",
       "      <td>94000.0</td>\n",
       "      <td>2016</td>\n",
       "      <td>60-69</td>\n",
       "      <td>90-99K</td>\n",
       "      <td>1</td>\n",
       "    </tr>\n",
       "    <tr>\n",
       "      <th>272733</th>\n",
       "      <td>transaction</td>\n",
       "      <td>fc966e9c3edc4578a1fb4c6a8c2659c2</td>\n",
       "      <td>528</td>\n",
       "      <td>15.70</td>\n",
       "      <td>none</td>\n",
       "      <td>0.0</td>\n",
       "      <td>NaN</td>\n",
       "      <td>NaN</td>\n",
       "      <td>NaN</td>\n",
       "      <td>NaN</td>\n",
       "      <td>NaN</td>\n",
       "      <td>NaN</td>\n",
       "      <td>NaN</td>\n",
       "      <td>60</td>\n",
       "      <td>2</td>\n",
       "      <td>94000.0</td>\n",
       "      <td>2016</td>\n",
       "      <td>60-69</td>\n",
       "      <td>90-99K</td>\n",
       "      <td>2</td>\n",
       "    </tr>\n",
       "    <tr>\n",
       "      <th>272734</th>\n",
       "      <td>offer completed</td>\n",
       "      <td>fc966e9c3edc4578a1fb4c6a8c2659c2</td>\n",
       "      <td>528</td>\n",
       "      <td>0.00</td>\n",
       "      <td>f19421c1d4aa40978ebb69ca19b0e20d</td>\n",
       "      <td>5.0</td>\n",
       "      <td>5.0</td>\n",
       "      <td>120.0</td>\n",
       "      <td>0.0</td>\n",
       "      <td>1.0</td>\n",
       "      <td>1.0</td>\n",
       "      <td>1.0</td>\n",
       "      <td>1.0</td>\n",
       "      <td>60</td>\n",
       "      <td>2</td>\n",
       "      <td>94000.0</td>\n",
       "      <td>2016</td>\n",
       "      <td>60-69</td>\n",
       "      <td>90-99K</td>\n",
       "      <td>3</td>\n",
       "    </tr>\n",
       "    <tr>\n",
       "      <th>272735</th>\n",
       "      <td>offer received</td>\n",
       "      <td>fc966e9c3edc4578a1fb4c6a8c2659c2</td>\n",
       "      <td>576</td>\n",
       "      <td>0.00</td>\n",
       "      <td>2298d6c36e964ae4a3e7e9706d1fb8c2</td>\n",
       "      <td>0.0</td>\n",
       "      <td>7.0</td>\n",
       "      <td>168.0</td>\n",
       "      <td>1.0</td>\n",
       "      <td>1.0</td>\n",
       "      <td>1.0</td>\n",
       "      <td>1.0</td>\n",
       "      <td>1.0</td>\n",
       "      <td>60</td>\n",
       "      <td>2</td>\n",
       "      <td>94000.0</td>\n",
       "      <td>2016</td>\n",
       "      <td>60-69</td>\n",
       "      <td>90-99K</td>\n",
       "      <td>0</td>\n",
       "    </tr>\n",
       "    <tr>\n",
       "      <th>272736</th>\n",
       "      <td>offer viewed</td>\n",
       "      <td>fc966e9c3edc4578a1fb4c6a8c2659c2</td>\n",
       "      <td>594</td>\n",
       "      <td>0.00</td>\n",
       "      <td>2298d6c36e964ae4a3e7e9706d1fb8c2</td>\n",
       "      <td>0.0</td>\n",
       "      <td>7.0</td>\n",
       "      <td>168.0</td>\n",
       "      <td>1.0</td>\n",
       "      <td>1.0</td>\n",
       "      <td>1.0</td>\n",
       "      <td>1.0</td>\n",
       "      <td>1.0</td>\n",
       "      <td>60</td>\n",
       "      <td>2</td>\n",
       "      <td>94000.0</td>\n",
       "      <td>2016</td>\n",
       "      <td>60-69</td>\n",
       "      <td>90-99K</td>\n",
       "      <td>1</td>\n",
       "    </tr>\n",
       "    <tr>\n",
       "      <th>272737</th>\n",
       "      <td>transaction</td>\n",
       "      <td>fc966e9c3edc4578a1fb4c6a8c2659c2</td>\n",
       "      <td>654</td>\n",
       "      <td>21.01</td>\n",
       "      <td>none</td>\n",
       "      <td>0.0</td>\n",
       "      <td>NaN</td>\n",
       "      <td>NaN</td>\n",
       "      <td>NaN</td>\n",
       "      <td>NaN</td>\n",
       "      <td>NaN</td>\n",
       "      <td>NaN</td>\n",
       "      <td>NaN</td>\n",
       "      <td>60</td>\n",
       "      <td>2</td>\n",
       "      <td>94000.0</td>\n",
       "      <td>2016</td>\n",
       "      <td>60-69</td>\n",
       "      <td>90-99K</td>\n",
       "      <td>2</td>\n",
       "    </tr>\n",
       "    <tr>\n",
       "      <th>272738</th>\n",
       "      <td>offer completed</td>\n",
       "      <td>fc966e9c3edc4578a1fb4c6a8c2659c2</td>\n",
       "      <td>654</td>\n",
       "      <td>0.00</td>\n",
       "      <td>2298d6c36e964ae4a3e7e9706d1fb8c2</td>\n",
       "      <td>3.0</td>\n",
       "      <td>7.0</td>\n",
       "      <td>168.0</td>\n",
       "      <td>1.0</td>\n",
       "      <td>1.0</td>\n",
       "      <td>1.0</td>\n",
       "      <td>1.0</td>\n",
       "      <td>1.0</td>\n",
       "      <td>60</td>\n",
       "      <td>2</td>\n",
       "      <td>94000.0</td>\n",
       "      <td>2016</td>\n",
       "      <td>60-69</td>\n",
       "      <td>90-99K</td>\n",
       "      <td>3</td>\n",
       "    </tr>\n",
       "    <tr>\n",
       "      <th>272739</th>\n",
       "      <td>transaction</td>\n",
       "      <td>fc966e9c3edc4578a1fb4c6a8c2659c2</td>\n",
       "      <td>696</td>\n",
       "      <td>24.59</td>\n",
       "      <td>none</td>\n",
       "      <td>0.0</td>\n",
       "      <td>NaN</td>\n",
       "      <td>NaN</td>\n",
       "      <td>NaN</td>\n",
       "      <td>NaN</td>\n",
       "      <td>NaN</td>\n",
       "      <td>NaN</td>\n",
       "      <td>NaN</td>\n",
       "      <td>60</td>\n",
       "      <td>2</td>\n",
       "      <td>94000.0</td>\n",
       "      <td>2016</td>\n",
       "      <td>60-69</td>\n",
       "      <td>90-99K</td>\n",
       "      <td>2</td>\n",
       "    </tr>\n",
       "    <tr>\n",
       "      <th>272740</th>\n",
       "      <td>offer received</td>\n",
       "      <td>47683732768a4f7db7abb710ca22e66e</td>\n",
       "      <td>504</td>\n",
       "      <td>0.00</td>\n",
       "      <td>ae264e3637204a6fb9bb56bc8210ddfd</td>\n",
       "      <td>0.0</td>\n",
       "      <td>10.0</td>\n",
       "      <td>168.0</td>\n",
       "      <td>0.0</td>\n",
       "      <td>0.0</td>\n",
       "      <td>1.0</td>\n",
       "      <td>1.0</td>\n",
       "      <td>1.0</td>\n",
       "      <td>24</td>\n",
       "      <td>1</td>\n",
       "      <td>56000.0</td>\n",
       "      <td>2017</td>\n",
       "      <td>20-29</td>\n",
       "      <td>50-59K</td>\n",
       "      <td>0</td>\n",
       "    </tr>\n",
       "    <tr>\n",
       "      <th>272741</th>\n",
       "      <td>offer viewed</td>\n",
       "      <td>47683732768a4f7db7abb710ca22e66e</td>\n",
       "      <td>540</td>\n",
       "      <td>0.00</td>\n",
       "      <td>ae264e3637204a6fb9bb56bc8210ddfd</td>\n",
       "      <td>0.0</td>\n",
       "      <td>10.0</td>\n",
       "      <td>168.0</td>\n",
       "      <td>0.0</td>\n",
       "      <td>0.0</td>\n",
       "      <td>1.0</td>\n",
       "      <td>1.0</td>\n",
       "      <td>1.0</td>\n",
       "      <td>24</td>\n",
       "      <td>1</td>\n",
       "      <td>56000.0</td>\n",
       "      <td>2017</td>\n",
       "      <td>20-29</td>\n",
       "      <td>50-59K</td>\n",
       "      <td>1</td>\n",
       "    </tr>\n",
       "    <tr>\n",
       "      <th>272742</th>\n",
       "      <td>offer received</td>\n",
       "      <td>47683732768a4f7db7abb710ca22e66e</td>\n",
       "      <td>576</td>\n",
       "      <td>0.00</td>\n",
       "      <td>ae264e3637204a6fb9bb56bc8210ddfd</td>\n",
       "      <td>0.0</td>\n",
       "      <td>10.0</td>\n",
       "      <td>168.0</td>\n",
       "      <td>0.0</td>\n",
       "      <td>0.0</td>\n",
       "      <td>1.0</td>\n",
       "      <td>1.0</td>\n",
       "      <td>1.0</td>\n",
       "      <td>24</td>\n",
       "      <td>1</td>\n",
       "      <td>56000.0</td>\n",
       "      <td>2017</td>\n",
       "      <td>20-29</td>\n",
       "      <td>50-59K</td>\n",
       "      <td>0</td>\n",
       "    </tr>\n",
       "    <tr>\n",
       "      <th>272743</th>\n",
       "      <td>offer viewed</td>\n",
       "      <td>47683732768a4f7db7abb710ca22e66e</td>\n",
       "      <td>630</td>\n",
       "      <td>0.00</td>\n",
       "      <td>ae264e3637204a6fb9bb56bc8210ddfd</td>\n",
       "      <td>0.0</td>\n",
       "      <td>10.0</td>\n",
       "      <td>168.0</td>\n",
       "      <td>0.0</td>\n",
       "      <td>0.0</td>\n",
       "      <td>1.0</td>\n",
       "      <td>1.0</td>\n",
       "      <td>1.0</td>\n",
       "      <td>24</td>\n",
       "      <td>1</td>\n",
       "      <td>56000.0</td>\n",
       "      <td>2017</td>\n",
       "      <td>20-29</td>\n",
       "      <td>50-59K</td>\n",
       "      <td>1</td>\n",
       "    </tr>\n",
       "    <tr>\n",
       "      <th>272744</th>\n",
       "      <td>transaction</td>\n",
       "      <td>47683732768a4f7db7abb710ca22e66e</td>\n",
       "      <td>684</td>\n",
       "      <td>7.10</td>\n",
       "      <td>none</td>\n",
       "      <td>0.0</td>\n",
       "      <td>NaN</td>\n",
       "      <td>NaN</td>\n",
       "      <td>NaN</td>\n",
       "      <td>NaN</td>\n",
       "      <td>NaN</td>\n",
       "      <td>NaN</td>\n",
       "      <td>NaN</td>\n",
       "      <td>24</td>\n",
       "      <td>1</td>\n",
       "      <td>56000.0</td>\n",
       "      <td>2017</td>\n",
       "      <td>20-29</td>\n",
       "      <td>50-59K</td>\n",
       "      <td>2</td>\n",
       "    </tr>\n",
       "    <tr>\n",
       "      <th>272745</th>\n",
       "      <td>offer received</td>\n",
       "      <td>3873fe915496482eb589fa316ae7b0db</td>\n",
       "      <td>504</td>\n",
       "      <td>0.00</td>\n",
       "      <td>ae264e3637204a6fb9bb56bc8210ddfd</td>\n",
       "      <td>0.0</td>\n",
       "      <td>10.0</td>\n",
       "      <td>168.0</td>\n",
       "      <td>0.0</td>\n",
       "      <td>0.0</td>\n",
       "      <td>1.0</td>\n",
       "      <td>1.0</td>\n",
       "      <td>1.0</td>\n",
       "      <td>58</td>\n",
       "      <td>1</td>\n",
       "      <td>57000.0</td>\n",
       "      <td>2017</td>\n",
       "      <td>50-59</td>\n",
       "      <td>50-59K</td>\n",
       "      <td>0</td>\n",
       "    </tr>\n",
       "    <tr>\n",
       "      <th>272746</th>\n",
       "      <td>offer viewed</td>\n",
       "      <td>3873fe915496482eb589fa316ae7b0db</td>\n",
       "      <td>510</td>\n",
       "      <td>0.00</td>\n",
       "      <td>ae264e3637204a6fb9bb56bc8210ddfd</td>\n",
       "      <td>0.0</td>\n",
       "      <td>10.0</td>\n",
       "      <td>168.0</td>\n",
       "      <td>0.0</td>\n",
       "      <td>0.0</td>\n",
       "      <td>1.0</td>\n",
       "      <td>1.0</td>\n",
       "      <td>1.0</td>\n",
       "      <td>58</td>\n",
       "      <td>1</td>\n",
       "      <td>57000.0</td>\n",
       "      <td>2017</td>\n",
       "      <td>50-59</td>\n",
       "      <td>50-59K</td>\n",
       "      <td>1</td>\n",
       "    </tr>\n",
       "    <tr>\n",
       "      <th>272747</th>\n",
       "      <td>transaction</td>\n",
       "      <td>3873fe915496482eb589fa316ae7b0db</td>\n",
       "      <td>510</td>\n",
       "      <td>1.57</td>\n",
       "      <td>none</td>\n",
       "      <td>0.0</td>\n",
       "      <td>NaN</td>\n",
       "      <td>NaN</td>\n",
       "      <td>NaN</td>\n",
       "      <td>NaN</td>\n",
       "      <td>NaN</td>\n",
       "      <td>NaN</td>\n",
       "      <td>NaN</td>\n",
       "      <td>58</td>\n",
       "      <td>1</td>\n",
       "      <td>57000.0</td>\n",
       "      <td>2017</td>\n",
       "      <td>50-59</td>\n",
       "      <td>50-59K</td>\n",
       "      <td>2</td>\n",
       "    </tr>\n",
       "    <tr>\n",
       "      <th>272748</th>\n",
       "      <td>offer received</td>\n",
       "      <td>3873fe915496482eb589fa316ae7b0db</td>\n",
       "      <td>576</td>\n",
       "      <td>0.00</td>\n",
       "      <td>f19421c1d4aa40978ebb69ca19b0e20d</td>\n",
       "      <td>0.0</td>\n",
       "      <td>5.0</td>\n",
       "      <td>120.0</td>\n",
       "      <td>0.0</td>\n",
       "      <td>1.0</td>\n",
       "      <td>1.0</td>\n",
       "      <td>1.0</td>\n",
       "      <td>1.0</td>\n",
       "      <td>58</td>\n",
       "      <td>1</td>\n",
       "      <td>57000.0</td>\n",
       "      <td>2017</td>\n",
       "      <td>50-59</td>\n",
       "      <td>50-59K</td>\n",
       "      <td>0</td>\n",
       "    </tr>\n",
       "    <tr>\n",
       "      <th>272749</th>\n",
       "      <td>offer viewed</td>\n",
       "      <td>3873fe915496482eb589fa316ae7b0db</td>\n",
       "      <td>582</td>\n",
       "      <td>0.00</td>\n",
       "      <td>f19421c1d4aa40978ebb69ca19b0e20d</td>\n",
       "      <td>0.0</td>\n",
       "      <td>5.0</td>\n",
       "      <td>120.0</td>\n",
       "      <td>0.0</td>\n",
       "      <td>1.0</td>\n",
       "      <td>1.0</td>\n",
       "      <td>1.0</td>\n",
       "      <td>1.0</td>\n",
       "      <td>58</td>\n",
       "      <td>1</td>\n",
       "      <td>57000.0</td>\n",
       "      <td>2017</td>\n",
       "      <td>50-59</td>\n",
       "      <td>50-59K</td>\n",
       "      <td>1</td>\n",
       "    </tr>\n",
       "    <tr>\n",
       "      <th>272750</th>\n",
       "      <td>transaction</td>\n",
       "      <td>3873fe915496482eb589fa316ae7b0db</td>\n",
       "      <td>588</td>\n",
       "      <td>1.21</td>\n",
       "      <td>none</td>\n",
       "      <td>0.0</td>\n",
       "      <td>NaN</td>\n",
       "      <td>NaN</td>\n",
       "      <td>NaN</td>\n",
       "      <td>NaN</td>\n",
       "      <td>NaN</td>\n",
       "      <td>NaN</td>\n",
       "      <td>NaN</td>\n",
       "      <td>58</td>\n",
       "      <td>1</td>\n",
       "      <td>57000.0</td>\n",
       "      <td>2017</td>\n",
       "      <td>50-59</td>\n",
       "      <td>50-59K</td>\n",
       "      <td>2</td>\n",
       "    </tr>\n",
       "    <tr>\n",
       "      <th>272751</th>\n",
       "      <td>transaction</td>\n",
       "      <td>3873fe915496482eb589fa316ae7b0db</td>\n",
       "      <td>612</td>\n",
       "      <td>2.65</td>\n",
       "      <td>none</td>\n",
       "      <td>0.0</td>\n",
       "      <td>NaN</td>\n",
       "      <td>NaN</td>\n",
       "      <td>NaN</td>\n",
       "      <td>NaN</td>\n",
       "      <td>NaN</td>\n",
       "      <td>NaN</td>\n",
       "      <td>NaN</td>\n",
       "      <td>58</td>\n",
       "      <td>1</td>\n",
       "      <td>57000.0</td>\n",
       "      <td>2017</td>\n",
       "      <td>50-59</td>\n",
       "      <td>50-59K</td>\n",
       "      <td>2</td>\n",
       "    </tr>\n",
       "    <tr>\n",
       "      <th>272752</th>\n",
       "      <td>offer received</td>\n",
       "      <td>8578196a074a4f328976e334fa9383a3</td>\n",
       "      <td>504</td>\n",
       "      <td>0.00</td>\n",
       "      <td>4d5c57ea9a6940dd891ad53e9dbe8da0</td>\n",
       "      <td>0.0</td>\n",
       "      <td>10.0</td>\n",
       "      <td>120.0</td>\n",
       "      <td>0.0</td>\n",
       "      <td>1.0</td>\n",
       "      <td>1.0</td>\n",
       "      <td>1.0</td>\n",
       "      <td>1.0</td>\n",
       "      <td>48</td>\n",
       "      <td>1</td>\n",
       "      <td>58000.0</td>\n",
       "      <td>2018</td>\n",
       "      <td>40-49</td>\n",
       "      <td>50-59K</td>\n",
       "      <td>0</td>\n",
       "    </tr>\n",
       "    <tr>\n",
       "      <th>272753</th>\n",
       "      <td>offer viewed</td>\n",
       "      <td>8578196a074a4f328976e334fa9383a3</td>\n",
       "      <td>504</td>\n",
       "      <td>0.00</td>\n",
       "      <td>4d5c57ea9a6940dd891ad53e9dbe8da0</td>\n",
       "      <td>0.0</td>\n",
       "      <td>10.0</td>\n",
       "      <td>120.0</td>\n",
       "      <td>0.0</td>\n",
       "      <td>1.0</td>\n",
       "      <td>1.0</td>\n",
       "      <td>1.0</td>\n",
       "      <td>1.0</td>\n",
       "      <td>48</td>\n",
       "      <td>1</td>\n",
       "      <td>58000.0</td>\n",
       "      <td>2018</td>\n",
       "      <td>40-49</td>\n",
       "      <td>50-59K</td>\n",
       "      <td>1</td>\n",
       "    </tr>\n",
       "    <tr>\n",
       "      <th>272754</th>\n",
       "      <td>offer received</td>\n",
       "      <td>8578196a074a4f328976e334fa9383a3</td>\n",
       "      <td>576</td>\n",
       "      <td>0.00</td>\n",
       "      <td>2906b810c7d4411798c6938adc9daaa5</td>\n",
       "      <td>0.0</td>\n",
       "      <td>10.0</td>\n",
       "      <td>168.0</td>\n",
       "      <td>1.0</td>\n",
       "      <td>1.0</td>\n",
       "      <td>1.0</td>\n",
       "      <td>1.0</td>\n",
       "      <td>0.0</td>\n",
       "      <td>48</td>\n",
       "      <td>1</td>\n",
       "      <td>58000.0</td>\n",
       "      <td>2018</td>\n",
       "      <td>40-49</td>\n",
       "      <td>50-59K</td>\n",
       "      <td>0</td>\n",
       "    </tr>\n",
       "    <tr>\n",
       "      <th>272755</th>\n",
       "      <td>transaction</td>\n",
       "      <td>8578196a074a4f328976e334fa9383a3</td>\n",
       "      <td>702</td>\n",
       "      <td>4.62</td>\n",
       "      <td>none</td>\n",
       "      <td>0.0</td>\n",
       "      <td>NaN</td>\n",
       "      <td>NaN</td>\n",
       "      <td>NaN</td>\n",
       "      <td>NaN</td>\n",
       "      <td>NaN</td>\n",
       "      <td>NaN</td>\n",
       "      <td>NaN</td>\n",
       "      <td>48</td>\n",
       "      <td>1</td>\n",
       "      <td>58000.0</td>\n",
       "      <td>2018</td>\n",
       "      <td>40-49</td>\n",
       "      <td>50-59K</td>\n",
       "      <td>2</td>\n",
       "    </tr>\n",
       "    <tr>\n",
       "      <th>272756</th>\n",
       "      <td>offer received</td>\n",
       "      <td>9fcbff4f8d7241faa4ab8a9d19c8a812</td>\n",
       "      <td>504</td>\n",
       "      <td>0.00</td>\n",
       "      <td>3f207df678b143eea3cee63160fa8bed</td>\n",
       "      <td>0.0</td>\n",
       "      <td>0.0</td>\n",
       "      <td>96.0</td>\n",
       "      <td>2.0</td>\n",
       "      <td>1.0</td>\n",
       "      <td>1.0</td>\n",
       "      <td>1.0</td>\n",
       "      <td>0.0</td>\n",
       "      <td>47</td>\n",
       "      <td>1</td>\n",
       "      <td>94000.0</td>\n",
       "      <td>2017</td>\n",
       "      <td>40-49</td>\n",
       "      <td>90-99K</td>\n",
       "      <td>0</td>\n",
       "    </tr>\n",
       "    <tr>\n",
       "      <th>272757</th>\n",
       "      <td>offer viewed</td>\n",
       "      <td>9fcbff4f8d7241faa4ab8a9d19c8a812</td>\n",
       "      <td>504</td>\n",
       "      <td>0.00</td>\n",
       "      <td>3f207df678b143eea3cee63160fa8bed</td>\n",
       "      <td>0.0</td>\n",
       "      <td>0.0</td>\n",
       "      <td>96.0</td>\n",
       "      <td>2.0</td>\n",
       "      <td>1.0</td>\n",
       "      <td>1.0</td>\n",
       "      <td>1.0</td>\n",
       "      <td>0.0</td>\n",
       "      <td>47</td>\n",
       "      <td>1</td>\n",
       "      <td>94000.0</td>\n",
       "      <td>2017</td>\n",
       "      <td>40-49</td>\n",
       "      <td>90-99K</td>\n",
       "      <td>1</td>\n",
       "    </tr>\n",
       "    <tr>\n",
       "      <th>272758</th>\n",
       "      <td>offer received</td>\n",
       "      <td>9fcbff4f8d7241faa4ab8a9d19c8a812</td>\n",
       "      <td>576</td>\n",
       "      <td>0.00</td>\n",
       "      <td>4d5c57ea9a6940dd891ad53e9dbe8da0</td>\n",
       "      <td>0.0</td>\n",
       "      <td>10.0</td>\n",
       "      <td>120.0</td>\n",
       "      <td>0.0</td>\n",
       "      <td>1.0</td>\n",
       "      <td>1.0</td>\n",
       "      <td>1.0</td>\n",
       "      <td>1.0</td>\n",
       "      <td>47</td>\n",
       "      <td>1</td>\n",
       "      <td>94000.0</td>\n",
       "      <td>2017</td>\n",
       "      <td>40-49</td>\n",
       "      <td>90-99K</td>\n",
       "      <td>0</td>\n",
       "    </tr>\n",
       "    <tr>\n",
       "      <th>272759</th>\n",
       "      <td>offer viewed</td>\n",
       "      <td>9fcbff4f8d7241faa4ab8a9d19c8a812</td>\n",
       "      <td>576</td>\n",
       "      <td>0.00</td>\n",
       "      <td>4d5c57ea9a6940dd891ad53e9dbe8da0</td>\n",
       "      <td>0.0</td>\n",
       "      <td>10.0</td>\n",
       "      <td>120.0</td>\n",
       "      <td>0.0</td>\n",
       "      <td>1.0</td>\n",
       "      <td>1.0</td>\n",
       "      <td>1.0</td>\n",
       "      <td>1.0</td>\n",
       "      <td>47</td>\n",
       "      <td>1</td>\n",
       "      <td>94000.0</td>\n",
       "      <td>2017</td>\n",
       "      <td>40-49</td>\n",
       "      <td>90-99K</td>\n",
       "      <td>1</td>\n",
       "    </tr>\n",
       "    <tr>\n",
       "      <th>272760</th>\n",
       "      <td>offer received</td>\n",
       "      <td>3045af4e98794a04a5542d3eac939b1f</td>\n",
       "      <td>576</td>\n",
       "      <td>0.00</td>\n",
       "      <td>4d5c57ea9a6940dd891ad53e9dbe8da0</td>\n",
       "      <td>0.0</td>\n",
       "      <td>10.0</td>\n",
       "      <td>120.0</td>\n",
       "      <td>0.0</td>\n",
       "      <td>1.0</td>\n",
       "      <td>1.0</td>\n",
       "      <td>1.0</td>\n",
       "      <td>1.0</td>\n",
       "      <td>58</td>\n",
       "      <td>2</td>\n",
       "      <td>78000.0</td>\n",
       "      <td>2016</td>\n",
       "      <td>50-59</td>\n",
       "      <td>70-79K</td>\n",
       "      <td>0</td>\n",
       "    </tr>\n",
       "    <tr>\n",
       "      <th>272761</th>\n",
       "      <td>offer viewed</td>\n",
       "      <td>3045af4e98794a04a5542d3eac939b1f</td>\n",
       "      <td>576</td>\n",
       "      <td>0.00</td>\n",
       "      <td>4d5c57ea9a6940dd891ad53e9dbe8da0</td>\n",
       "      <td>0.0</td>\n",
       "      <td>10.0</td>\n",
       "      <td>120.0</td>\n",
       "      <td>0.0</td>\n",
       "      <td>1.0</td>\n",
       "      <td>1.0</td>\n",
       "      <td>1.0</td>\n",
       "      <td>1.0</td>\n",
       "      <td>58</td>\n",
       "      <td>2</td>\n",
       "      <td>78000.0</td>\n",
       "      <td>2016</td>\n",
       "      <td>50-59</td>\n",
       "      <td>70-79K</td>\n",
       "      <td>1</td>\n",
       "    </tr>\n",
       "  </tbody>\n",
       "</table>\n",
       "<p>272762 rows × 20 columns</p>\n",
       "</div>"
      ],
      "text/plain": [
       "                  event                         person_id  time  amount  \\\n",
       "0        offer received  78afa995795e4d85b5d9ceeca43f5fef     0    0.00   \n",
       "1          offer viewed  78afa995795e4d85b5d9ceeca43f5fef     6    0.00   \n",
       "2           transaction  78afa995795e4d85b5d9ceeca43f5fef   132   19.89   \n",
       "3       offer completed  78afa995795e4d85b5d9ceeca43f5fef   132    0.00   \n",
       "4           transaction  78afa995795e4d85b5d9ceeca43f5fef   144   17.78   \n",
       "5        offer received  78afa995795e4d85b5d9ceeca43f5fef   168    0.00   \n",
       "6          offer viewed  78afa995795e4d85b5d9ceeca43f5fef   216    0.00   \n",
       "7           transaction  78afa995795e4d85b5d9ceeca43f5fef   222   19.67   \n",
       "8           transaction  78afa995795e4d85b5d9ceeca43f5fef   240   29.72   \n",
       "9           transaction  78afa995795e4d85b5d9ceeca43f5fef   378   23.93   \n",
       "10       offer received  78afa995795e4d85b5d9ceeca43f5fef   408    0.00   \n",
       "11         offer viewed  78afa995795e4d85b5d9ceeca43f5fef   408    0.00   \n",
       "12       offer received  78afa995795e4d85b5d9ceeca43f5fef   504    0.00   \n",
       "13          transaction  78afa995795e4d85b5d9ceeca43f5fef   510   21.72   \n",
       "14      offer completed  78afa995795e4d85b5d9ceeca43f5fef   510    0.00   \n",
       "15      offer completed  78afa995795e4d85b5d9ceeca43f5fef   510    0.00   \n",
       "16          transaction  78afa995795e4d85b5d9ceeca43f5fef   534   26.56   \n",
       "17         offer viewed  78afa995795e4d85b5d9ceeca43f5fef   582    0.00   \n",
       "18       offer received  e2127556f4f64592b11af22de27a7932     0    0.00   \n",
       "19         offer viewed  e2127556f4f64592b11af22de27a7932    18    0.00   \n",
       "20          transaction  e2127556f4f64592b11af22de27a7932   288   17.88   \n",
       "21          transaction  e2127556f4f64592b11af22de27a7932   294   21.43   \n",
       "22       offer received  e2127556f4f64592b11af22de27a7932   336    0.00   \n",
       "23       offer received  e2127556f4f64592b11af22de27a7932   408    0.00   \n",
       "24         offer viewed  e2127556f4f64592b11af22de27a7932   420    0.00   \n",
       "25       offer received  e2127556f4f64592b11af22de27a7932   504    0.00   \n",
       "26         offer viewed  e2127556f4f64592b11af22de27a7932   522    0.00   \n",
       "27          transaction  e2127556f4f64592b11af22de27a7932   522   18.42   \n",
       "28      offer completed  e2127556f4f64592b11af22de27a7932   522    0.00   \n",
       "29      offer completed  e2127556f4f64592b11af22de27a7932   522    0.00   \n",
       "...                 ...                               ...   ...     ...   \n",
       "272732     offer viewed  fc966e9c3edc4578a1fb4c6a8c2659c2   516    0.00   \n",
       "272733      transaction  fc966e9c3edc4578a1fb4c6a8c2659c2   528   15.70   \n",
       "272734  offer completed  fc966e9c3edc4578a1fb4c6a8c2659c2   528    0.00   \n",
       "272735   offer received  fc966e9c3edc4578a1fb4c6a8c2659c2   576    0.00   \n",
       "272736     offer viewed  fc966e9c3edc4578a1fb4c6a8c2659c2   594    0.00   \n",
       "272737      transaction  fc966e9c3edc4578a1fb4c6a8c2659c2   654   21.01   \n",
       "272738  offer completed  fc966e9c3edc4578a1fb4c6a8c2659c2   654    0.00   \n",
       "272739      transaction  fc966e9c3edc4578a1fb4c6a8c2659c2   696   24.59   \n",
       "272740   offer received  47683732768a4f7db7abb710ca22e66e   504    0.00   \n",
       "272741     offer viewed  47683732768a4f7db7abb710ca22e66e   540    0.00   \n",
       "272742   offer received  47683732768a4f7db7abb710ca22e66e   576    0.00   \n",
       "272743     offer viewed  47683732768a4f7db7abb710ca22e66e   630    0.00   \n",
       "272744      transaction  47683732768a4f7db7abb710ca22e66e   684    7.10   \n",
       "272745   offer received  3873fe915496482eb589fa316ae7b0db   504    0.00   \n",
       "272746     offer viewed  3873fe915496482eb589fa316ae7b0db   510    0.00   \n",
       "272747      transaction  3873fe915496482eb589fa316ae7b0db   510    1.57   \n",
       "272748   offer received  3873fe915496482eb589fa316ae7b0db   576    0.00   \n",
       "272749     offer viewed  3873fe915496482eb589fa316ae7b0db   582    0.00   \n",
       "272750      transaction  3873fe915496482eb589fa316ae7b0db   588    1.21   \n",
       "272751      transaction  3873fe915496482eb589fa316ae7b0db   612    2.65   \n",
       "272752   offer received  8578196a074a4f328976e334fa9383a3   504    0.00   \n",
       "272753     offer viewed  8578196a074a4f328976e334fa9383a3   504    0.00   \n",
       "272754   offer received  8578196a074a4f328976e334fa9383a3   576    0.00   \n",
       "272755      transaction  8578196a074a4f328976e334fa9383a3   702    4.62   \n",
       "272756   offer received  9fcbff4f8d7241faa4ab8a9d19c8a812   504    0.00   \n",
       "272757     offer viewed  9fcbff4f8d7241faa4ab8a9d19c8a812   504    0.00   \n",
       "272758   offer received  9fcbff4f8d7241faa4ab8a9d19c8a812   576    0.00   \n",
       "272759     offer viewed  9fcbff4f8d7241faa4ab8a9d19c8a812   576    0.00   \n",
       "272760   offer received  3045af4e98794a04a5542d3eac939b1f   576    0.00   \n",
       "272761     offer viewed  3045af4e98794a04a5542d3eac939b1f   576    0.00   \n",
       "\n",
       "                                offer_id  reward  difficulty  duration  \\\n",
       "0       9b98b8c7a33c4b65b9aebfe6a799e6d9     0.0         5.0     168.0   \n",
       "1       9b98b8c7a33c4b65b9aebfe6a799e6d9     0.0         5.0     168.0   \n",
       "2                                   none     0.0         NaN       NaN   \n",
       "3       9b98b8c7a33c4b65b9aebfe6a799e6d9     5.0         5.0     168.0   \n",
       "4                                   none     0.0         NaN       NaN   \n",
       "5       5a8bc65990b245e5a138643cd4eb9837     0.0         0.0      72.0   \n",
       "6       5a8bc65990b245e5a138643cd4eb9837     0.0         0.0      72.0   \n",
       "7                                   none     0.0         NaN       NaN   \n",
       "8                                   none     0.0         NaN       NaN   \n",
       "9                                   none     0.0         NaN       NaN   \n",
       "10      ae264e3637204a6fb9bb56bc8210ddfd     0.0        10.0     168.0   \n",
       "11      ae264e3637204a6fb9bb56bc8210ddfd     0.0        10.0     168.0   \n",
       "12      f19421c1d4aa40978ebb69ca19b0e20d     0.0         5.0     120.0   \n",
       "13                                  none     0.0         NaN       NaN   \n",
       "14      ae264e3637204a6fb9bb56bc8210ddfd    10.0        10.0     168.0   \n",
       "15      f19421c1d4aa40978ebb69ca19b0e20d     5.0         5.0     120.0   \n",
       "16                                  none     0.0         NaN       NaN   \n",
       "17      f19421c1d4aa40978ebb69ca19b0e20d     0.0         5.0     120.0   \n",
       "18      2906b810c7d4411798c6938adc9daaa5     0.0        10.0     168.0   \n",
       "19      2906b810c7d4411798c6938adc9daaa5     0.0        10.0     168.0   \n",
       "20                                  none     0.0         NaN       NaN   \n",
       "21                                  none     0.0         NaN       NaN   \n",
       "22      3f207df678b143eea3cee63160fa8bed     0.0         0.0      96.0   \n",
       "23      9b98b8c7a33c4b65b9aebfe6a799e6d9     0.0         5.0     168.0   \n",
       "24      9b98b8c7a33c4b65b9aebfe6a799e6d9     0.0         5.0     168.0   \n",
       "25      fafdcd668e3743c1bb461111dcafc2a4     0.0        10.0     240.0   \n",
       "26      fafdcd668e3743c1bb461111dcafc2a4     0.0        10.0     240.0   \n",
       "27                                  none     0.0         NaN       NaN   \n",
       "28      9b98b8c7a33c4b65b9aebfe6a799e6d9     5.0         5.0     168.0   \n",
       "29      fafdcd668e3743c1bb461111dcafc2a4     2.0        10.0     240.0   \n",
       "...                                  ...     ...         ...       ...   \n",
       "272732  f19421c1d4aa40978ebb69ca19b0e20d     0.0         5.0     120.0   \n",
       "272733                              none     0.0         NaN       NaN   \n",
       "272734  f19421c1d4aa40978ebb69ca19b0e20d     5.0         5.0     120.0   \n",
       "272735  2298d6c36e964ae4a3e7e9706d1fb8c2     0.0         7.0     168.0   \n",
       "272736  2298d6c36e964ae4a3e7e9706d1fb8c2     0.0         7.0     168.0   \n",
       "272737                              none     0.0         NaN       NaN   \n",
       "272738  2298d6c36e964ae4a3e7e9706d1fb8c2     3.0         7.0     168.0   \n",
       "272739                              none     0.0         NaN       NaN   \n",
       "272740  ae264e3637204a6fb9bb56bc8210ddfd     0.0        10.0     168.0   \n",
       "272741  ae264e3637204a6fb9bb56bc8210ddfd     0.0        10.0     168.0   \n",
       "272742  ae264e3637204a6fb9bb56bc8210ddfd     0.0        10.0     168.0   \n",
       "272743  ae264e3637204a6fb9bb56bc8210ddfd     0.0        10.0     168.0   \n",
       "272744                              none     0.0         NaN       NaN   \n",
       "272745  ae264e3637204a6fb9bb56bc8210ddfd     0.0        10.0     168.0   \n",
       "272746  ae264e3637204a6fb9bb56bc8210ddfd     0.0        10.0     168.0   \n",
       "272747                              none     0.0         NaN       NaN   \n",
       "272748  f19421c1d4aa40978ebb69ca19b0e20d     0.0         5.0     120.0   \n",
       "272749  f19421c1d4aa40978ebb69ca19b0e20d     0.0         5.0     120.0   \n",
       "272750                              none     0.0         NaN       NaN   \n",
       "272751                              none     0.0         NaN       NaN   \n",
       "272752  4d5c57ea9a6940dd891ad53e9dbe8da0     0.0        10.0     120.0   \n",
       "272753  4d5c57ea9a6940dd891ad53e9dbe8da0     0.0        10.0     120.0   \n",
       "272754  2906b810c7d4411798c6938adc9daaa5     0.0        10.0     168.0   \n",
       "272755                              none     0.0         NaN       NaN   \n",
       "272756  3f207df678b143eea3cee63160fa8bed     0.0         0.0      96.0   \n",
       "272757  3f207df678b143eea3cee63160fa8bed     0.0         0.0      96.0   \n",
       "272758  4d5c57ea9a6940dd891ad53e9dbe8da0     0.0        10.0     120.0   \n",
       "272759  4d5c57ea9a6940dd891ad53e9dbe8da0     0.0        10.0     120.0   \n",
       "272760  4d5c57ea9a6940dd891ad53e9dbe8da0     0.0        10.0     120.0   \n",
       "272761  4d5c57ea9a6940dd891ad53e9dbe8da0     0.0        10.0     120.0   \n",
       "\n",
       "        offer_type  web  email  mobile  social  age  gender    income  \\\n",
       "0              0.0  1.0    1.0     1.0     0.0   75       2  100000.0   \n",
       "1              0.0  1.0    1.0     1.0     0.0   75       2  100000.0   \n",
       "2              NaN  NaN    NaN     NaN     NaN   75       2  100000.0   \n",
       "3              0.0  1.0    1.0     1.0     0.0   75       2  100000.0   \n",
       "4              NaN  NaN    NaN     NaN     NaN   75       2  100000.0   \n",
       "5              2.0  0.0    1.0     1.0     1.0   75       2  100000.0   \n",
       "6              2.0  0.0    1.0     1.0     1.0   75       2  100000.0   \n",
       "7              NaN  NaN    NaN     NaN     NaN   75       2  100000.0   \n",
       "8              NaN  NaN    NaN     NaN     NaN   75       2  100000.0   \n",
       "9              NaN  NaN    NaN     NaN     NaN   75       2  100000.0   \n",
       "10             0.0  0.0    1.0     1.0     1.0   75       2  100000.0   \n",
       "11             0.0  0.0    1.0     1.0     1.0   75       2  100000.0   \n",
       "12             0.0  1.0    1.0     1.0     1.0   75       2  100000.0   \n",
       "13             NaN  NaN    NaN     NaN     NaN   75       2  100000.0   \n",
       "14             0.0  0.0    1.0     1.0     1.0   75       2  100000.0   \n",
       "15             0.0  1.0    1.0     1.0     1.0   75       2  100000.0   \n",
       "16             NaN  NaN    NaN     NaN     NaN   75       2  100000.0   \n",
       "17             0.0  1.0    1.0     1.0     1.0   75       2  100000.0   \n",
       "18             1.0  1.0    1.0     1.0     0.0   68       1   70000.0   \n",
       "19             1.0  1.0    1.0     1.0     0.0   68       1   70000.0   \n",
       "20             NaN  NaN    NaN     NaN     NaN   68       1   70000.0   \n",
       "21             NaN  NaN    NaN     NaN     NaN   68       1   70000.0   \n",
       "22             2.0  1.0    1.0     1.0     0.0   68       1   70000.0   \n",
       "23             0.0  1.0    1.0     1.0     0.0   68       1   70000.0   \n",
       "24             0.0  1.0    1.0     1.0     0.0   68       1   70000.0   \n",
       "25             1.0  1.0    1.0     1.0     1.0   68       1   70000.0   \n",
       "26             1.0  1.0    1.0     1.0     1.0   68       1   70000.0   \n",
       "27             NaN  NaN    NaN     NaN     NaN   68       1   70000.0   \n",
       "28             0.0  1.0    1.0     1.0     0.0   68       1   70000.0   \n",
       "29             1.0  1.0    1.0     1.0     1.0   68       1   70000.0   \n",
       "...            ...  ...    ...     ...     ...  ...     ...       ...   \n",
       "272732         0.0  1.0    1.0     1.0     1.0   60       2   94000.0   \n",
       "272733         NaN  NaN    NaN     NaN     NaN   60       2   94000.0   \n",
       "272734         0.0  1.0    1.0     1.0     1.0   60       2   94000.0   \n",
       "272735         1.0  1.0    1.0     1.0     1.0   60       2   94000.0   \n",
       "272736         1.0  1.0    1.0     1.0     1.0   60       2   94000.0   \n",
       "272737         NaN  NaN    NaN     NaN     NaN   60       2   94000.0   \n",
       "272738         1.0  1.0    1.0     1.0     1.0   60       2   94000.0   \n",
       "272739         NaN  NaN    NaN     NaN     NaN   60       2   94000.0   \n",
       "272740         0.0  0.0    1.0     1.0     1.0   24       1   56000.0   \n",
       "272741         0.0  0.0    1.0     1.0     1.0   24       1   56000.0   \n",
       "272742         0.0  0.0    1.0     1.0     1.0   24       1   56000.0   \n",
       "272743         0.0  0.0    1.0     1.0     1.0   24       1   56000.0   \n",
       "272744         NaN  NaN    NaN     NaN     NaN   24       1   56000.0   \n",
       "272745         0.0  0.0    1.0     1.0     1.0   58       1   57000.0   \n",
       "272746         0.0  0.0    1.0     1.0     1.0   58       1   57000.0   \n",
       "272747         NaN  NaN    NaN     NaN     NaN   58       1   57000.0   \n",
       "272748         0.0  1.0    1.0     1.0     1.0   58       1   57000.0   \n",
       "272749         0.0  1.0    1.0     1.0     1.0   58       1   57000.0   \n",
       "272750         NaN  NaN    NaN     NaN     NaN   58       1   57000.0   \n",
       "272751         NaN  NaN    NaN     NaN     NaN   58       1   57000.0   \n",
       "272752         0.0  1.0    1.0     1.0     1.0   48       1   58000.0   \n",
       "272753         0.0  1.0    1.0     1.0     1.0   48       1   58000.0   \n",
       "272754         1.0  1.0    1.0     1.0     0.0   48       1   58000.0   \n",
       "272755         NaN  NaN    NaN     NaN     NaN   48       1   58000.0   \n",
       "272756         2.0  1.0    1.0     1.0     0.0   47       1   94000.0   \n",
       "272757         2.0  1.0    1.0     1.0     0.0   47       1   94000.0   \n",
       "272758         0.0  1.0    1.0     1.0     1.0   47       1   94000.0   \n",
       "272759         0.0  1.0    1.0     1.0     1.0   47       1   94000.0   \n",
       "272760         0.0  1.0    1.0     1.0     1.0   58       2   78000.0   \n",
       "272761         0.0  1.0    1.0     1.0     1.0   58       2   78000.0   \n",
       "\n",
       "        member_since age_range income_range  event_id  \n",
       "0               2017     70-79     100-109K         0  \n",
       "1               2017     70-79     100-109K         1  \n",
       "2               2017     70-79     100-109K         2  \n",
       "3               2017     70-79     100-109K         3  \n",
       "4               2017     70-79     100-109K         2  \n",
       "5               2017     70-79     100-109K         0  \n",
       "6               2017     70-79     100-109K         1  \n",
       "7               2017     70-79     100-109K         2  \n",
       "8               2017     70-79     100-109K         2  \n",
       "9               2017     70-79     100-109K         2  \n",
       "10              2017     70-79     100-109K         0  \n",
       "11              2017     70-79     100-109K         1  \n",
       "12              2017     70-79     100-109K         0  \n",
       "13              2017     70-79     100-109K         2  \n",
       "14              2017     70-79     100-109K         3  \n",
       "15              2017     70-79     100-109K         3  \n",
       "16              2017     70-79     100-109K         2  \n",
       "17              2017     70-79     100-109K         1  \n",
       "18              2018     60-69       70-79K         0  \n",
       "19              2018     60-69       70-79K         1  \n",
       "20              2018     60-69       70-79K         2  \n",
       "21              2018     60-69       70-79K         2  \n",
       "22              2018     60-69       70-79K         0  \n",
       "23              2018     60-69       70-79K         0  \n",
       "24              2018     60-69       70-79K         1  \n",
       "25              2018     60-69       70-79K         0  \n",
       "26              2018     60-69       70-79K         1  \n",
       "27              2018     60-69       70-79K         2  \n",
       "28              2018     60-69       70-79K         3  \n",
       "29              2018     60-69       70-79K         3  \n",
       "...              ...       ...          ...       ...  \n",
       "272732          2016     60-69       90-99K         1  \n",
       "272733          2016     60-69       90-99K         2  \n",
       "272734          2016     60-69       90-99K         3  \n",
       "272735          2016     60-69       90-99K         0  \n",
       "272736          2016     60-69       90-99K         1  \n",
       "272737          2016     60-69       90-99K         2  \n",
       "272738          2016     60-69       90-99K         3  \n",
       "272739          2016     60-69       90-99K         2  \n",
       "272740          2017     20-29       50-59K         0  \n",
       "272741          2017     20-29       50-59K         1  \n",
       "272742          2017     20-29       50-59K         0  \n",
       "272743          2017     20-29       50-59K         1  \n",
       "272744          2017     20-29       50-59K         2  \n",
       "272745          2017     50-59       50-59K         0  \n",
       "272746          2017     50-59       50-59K         1  \n",
       "272747          2017     50-59       50-59K         2  \n",
       "272748          2017     50-59       50-59K         0  \n",
       "272749          2017     50-59       50-59K         1  \n",
       "272750          2017     50-59       50-59K         2  \n",
       "272751          2017     50-59       50-59K         2  \n",
       "272752          2018     40-49       50-59K         0  \n",
       "272753          2018     40-49       50-59K         1  \n",
       "272754          2018     40-49       50-59K         0  \n",
       "272755          2018     40-49       50-59K         2  \n",
       "272756          2017     40-49       90-99K         0  \n",
       "272757          2017     40-49       90-99K         1  \n",
       "272758          2017     40-49       90-99K         0  \n",
       "272759          2017     40-49       90-99K         1  \n",
       "272760          2016     50-59       70-79K         0  \n",
       "272761          2016     50-59       70-79K         1  \n",
       "\n",
       "[272762 rows x 20 columns]"
      ]
     },
     "execution_count": 80,
     "metadata": {},
     "output_type": "execute_result"
    }
   ],
   "source": [
    "final_df"
   ]
  },
  {
   "cell_type": "markdown",
   "metadata": {},
   "source": [
    "We have to map the offer_id "
   ]
  },
  {
   "cell_type": "code",
   "execution_count": 111,
   "metadata": {},
   "outputs": [
    {
     "data": {
      "text/plain": [
       "array(['9b98b8c7a33c4b65b9aebfe6a799e6d9', 'none',\n",
       "       '5a8bc65990b245e5a138643cd4eb9837',\n",
       "       'ae264e3637204a6fb9bb56bc8210ddfd',\n",
       "       'f19421c1d4aa40978ebb69ca19b0e20d',\n",
       "       '2906b810c7d4411798c6938adc9daaa5',\n",
       "       '3f207df678b143eea3cee63160fa8bed',\n",
       "       'fafdcd668e3743c1bb461111dcafc2a4',\n",
       "       '2298d6c36e964ae4a3e7e9706d1fb8c2',\n",
       "       '0b1e1539f2cc45b7b9fa7c272da2e1d7',\n",
       "       '4d5c57ea9a6940dd891ad53e9dbe8da0'], dtype=object)"
      ]
     },
     "execution_count": 111,
     "metadata": {},
     "output_type": "execute_result"
    }
   ],
   "source": [
    "offer_id = final_df['offer_id'].unique()\n",
    "offer_id"
   ]
  },
  {
   "cell_type": "code",
   "execution_count": 112,
   "metadata": {},
   "outputs": [
    {
     "data": {
      "text/plain": [
       "{0: '9b98b8c7a33c4b65b9aebfe6a799e6d9',\n",
       " 1: 'none',\n",
       " 2: '5a8bc65990b245e5a138643cd4eb9837',\n",
       " 3: 'ae264e3637204a6fb9bb56bc8210ddfd',\n",
       " 4: 'f19421c1d4aa40978ebb69ca19b0e20d',\n",
       " 5: '2906b810c7d4411798c6938adc9daaa5',\n",
       " 6: '3f207df678b143eea3cee63160fa8bed',\n",
       " 7: 'fafdcd668e3743c1bb461111dcafc2a4',\n",
       " 8: '2298d6c36e964ae4a3e7e9706d1fb8c2',\n",
       " 9: '0b1e1539f2cc45b7b9fa7c272da2e1d7',\n",
       " 10: '4d5c57ea9a6940dd891ad53e9dbe8da0'}"
      ]
     },
     "execution_count": 112,
     "metadata": {},
     "output_type": "execute_result"
    }
   ],
   "source": [
    "offer_dict = pd.Series(offer_id ).to_dict()\n",
    "offer_dict"
   ]
  },
  {
   "cell_type": "code",
   "execution_count": 113,
   "metadata": {},
   "outputs": [
    {
     "data": {
      "text/plain": [
       "{'9b98b8c7a33c4b65b9aebfe6a799e6d9': 0,\n",
       " 'none': 1,\n",
       " '5a8bc65990b245e5a138643cd4eb9837': 2,\n",
       " 'ae264e3637204a6fb9bb56bc8210ddfd': 3,\n",
       " 'f19421c1d4aa40978ebb69ca19b0e20d': 4,\n",
       " '2906b810c7d4411798c6938adc9daaa5': 5,\n",
       " '3f207df678b143eea3cee63160fa8bed': 6,\n",
       " 'fafdcd668e3743c1bb461111dcafc2a4': 7,\n",
       " '2298d6c36e964ae4a3e7e9706d1fb8c2': 8,\n",
       " '0b1e1539f2cc45b7b9fa7c272da2e1d7': 9,\n",
       " '4d5c57ea9a6940dd891ad53e9dbe8da0': 10}"
      ]
     },
     "execution_count": 113,
     "metadata": {},
     "output_type": "execute_result"
    }
   ],
   "source": [
    "offer_dict = dict([(value, key) for key, value in offer_dict.items()]) \n",
    "offer_dict"
   ]
  },
  {
   "cell_type": "code",
   "execution_count": 114,
   "metadata": {},
   "outputs": [
    {
     "data": {
      "text/html": [
       "<div>\n",
       "<style scoped>\n",
       "    .dataframe tbody tr th:only-of-type {\n",
       "        vertical-align: middle;\n",
       "    }\n",
       "\n",
       "    .dataframe tbody tr th {\n",
       "        vertical-align: top;\n",
       "    }\n",
       "\n",
       "    .dataframe thead th {\n",
       "        text-align: right;\n",
       "    }\n",
       "</style>\n",
       "<table border=\"1\" class=\"dataframe\">\n",
       "  <thead>\n",
       "    <tr style=\"text-align: right;\">\n",
       "      <th></th>\n",
       "      <th>event</th>\n",
       "      <th>person_id</th>\n",
       "      <th>time</th>\n",
       "      <th>amount</th>\n",
       "      <th>offer_id</th>\n",
       "      <th>reward</th>\n",
       "      <th>difficulty</th>\n",
       "      <th>duration</th>\n",
       "      <th>offer_type</th>\n",
       "      <th>web</th>\n",
       "      <th>email</th>\n",
       "      <th>mobile</th>\n",
       "      <th>social</th>\n",
       "      <th>age</th>\n",
       "      <th>gender</th>\n",
       "      <th>income</th>\n",
       "      <th>member_since</th>\n",
       "      <th>age_range</th>\n",
       "      <th>income_range</th>\n",
       "      <th>event_id</th>\n",
       "    </tr>\n",
       "  </thead>\n",
       "  <tbody>\n",
       "    <tr>\n",
       "      <th>0</th>\n",
       "      <td>offer received</td>\n",
       "      <td>78afa995795e4d85b5d9ceeca43f5fef</td>\n",
       "      <td>0</td>\n",
       "      <td>0.00</td>\n",
       "      <td>0</td>\n",
       "      <td>0.0</td>\n",
       "      <td>5.0</td>\n",
       "      <td>168.0</td>\n",
       "      <td>0.0</td>\n",
       "      <td>1.0</td>\n",
       "      <td>1.0</td>\n",
       "      <td>1.0</td>\n",
       "      <td>0.0</td>\n",
       "      <td>75</td>\n",
       "      <td>2</td>\n",
       "      <td>100000.0</td>\n",
       "      <td>2017</td>\n",
       "      <td>70-79</td>\n",
       "      <td>100-109K</td>\n",
       "      <td>0</td>\n",
       "    </tr>\n",
       "    <tr>\n",
       "      <th>1</th>\n",
       "      <td>offer viewed</td>\n",
       "      <td>78afa995795e4d85b5d9ceeca43f5fef</td>\n",
       "      <td>6</td>\n",
       "      <td>0.00</td>\n",
       "      <td>0</td>\n",
       "      <td>0.0</td>\n",
       "      <td>5.0</td>\n",
       "      <td>168.0</td>\n",
       "      <td>0.0</td>\n",
       "      <td>1.0</td>\n",
       "      <td>1.0</td>\n",
       "      <td>1.0</td>\n",
       "      <td>0.0</td>\n",
       "      <td>75</td>\n",
       "      <td>2</td>\n",
       "      <td>100000.0</td>\n",
       "      <td>2017</td>\n",
       "      <td>70-79</td>\n",
       "      <td>100-109K</td>\n",
       "      <td>1</td>\n",
       "    </tr>\n",
       "    <tr>\n",
       "      <th>2</th>\n",
       "      <td>transaction</td>\n",
       "      <td>78afa995795e4d85b5d9ceeca43f5fef</td>\n",
       "      <td>132</td>\n",
       "      <td>19.89</td>\n",
       "      <td>1</td>\n",
       "      <td>0.0</td>\n",
       "      <td>NaN</td>\n",
       "      <td>NaN</td>\n",
       "      <td>NaN</td>\n",
       "      <td>NaN</td>\n",
       "      <td>NaN</td>\n",
       "      <td>NaN</td>\n",
       "      <td>NaN</td>\n",
       "      <td>75</td>\n",
       "      <td>2</td>\n",
       "      <td>100000.0</td>\n",
       "      <td>2017</td>\n",
       "      <td>70-79</td>\n",
       "      <td>100-109K</td>\n",
       "      <td>2</td>\n",
       "    </tr>\n",
       "    <tr>\n",
       "      <th>3</th>\n",
       "      <td>offer completed</td>\n",
       "      <td>78afa995795e4d85b5d9ceeca43f5fef</td>\n",
       "      <td>132</td>\n",
       "      <td>0.00</td>\n",
       "      <td>0</td>\n",
       "      <td>5.0</td>\n",
       "      <td>5.0</td>\n",
       "      <td>168.0</td>\n",
       "      <td>0.0</td>\n",
       "      <td>1.0</td>\n",
       "      <td>1.0</td>\n",
       "      <td>1.0</td>\n",
       "      <td>0.0</td>\n",
       "      <td>75</td>\n",
       "      <td>2</td>\n",
       "      <td>100000.0</td>\n",
       "      <td>2017</td>\n",
       "      <td>70-79</td>\n",
       "      <td>100-109K</td>\n",
       "      <td>3</td>\n",
       "    </tr>\n",
       "    <tr>\n",
       "      <th>4</th>\n",
       "      <td>transaction</td>\n",
       "      <td>78afa995795e4d85b5d9ceeca43f5fef</td>\n",
       "      <td>144</td>\n",
       "      <td>17.78</td>\n",
       "      <td>1</td>\n",
       "      <td>0.0</td>\n",
       "      <td>NaN</td>\n",
       "      <td>NaN</td>\n",
       "      <td>NaN</td>\n",
       "      <td>NaN</td>\n",
       "      <td>NaN</td>\n",
       "      <td>NaN</td>\n",
       "      <td>NaN</td>\n",
       "      <td>75</td>\n",
       "      <td>2</td>\n",
       "      <td>100000.0</td>\n",
       "      <td>2017</td>\n",
       "      <td>70-79</td>\n",
       "      <td>100-109K</td>\n",
       "      <td>2</td>\n",
       "    </tr>\n",
       "  </tbody>\n",
       "</table>\n",
       "</div>"
      ],
      "text/plain": [
       "             event                         person_id  time  amount  offer_id  \\\n",
       "0   offer received  78afa995795e4d85b5d9ceeca43f5fef     0    0.00         0   \n",
       "1     offer viewed  78afa995795e4d85b5d9ceeca43f5fef     6    0.00         0   \n",
       "2      transaction  78afa995795e4d85b5d9ceeca43f5fef   132   19.89         1   \n",
       "3  offer completed  78afa995795e4d85b5d9ceeca43f5fef   132    0.00         0   \n",
       "4      transaction  78afa995795e4d85b5d9ceeca43f5fef   144   17.78         1   \n",
       "\n",
       "   reward  difficulty  duration  offer_type  web  email  mobile  social  age  \\\n",
       "0     0.0         5.0     168.0         0.0  1.0    1.0     1.0     0.0   75   \n",
       "1     0.0         5.0     168.0         0.0  1.0    1.0     1.0     0.0   75   \n",
       "2     0.0         NaN       NaN         NaN  NaN    NaN     NaN     NaN   75   \n",
       "3     5.0         5.0     168.0         0.0  1.0    1.0     1.0     0.0   75   \n",
       "4     0.0         NaN       NaN         NaN  NaN    NaN     NaN     NaN   75   \n",
       "\n",
       "   gender    income  member_since age_range income_range  event_id  \n",
       "0       2  100000.0          2017     70-79     100-109K         0  \n",
       "1       2  100000.0          2017     70-79     100-109K         1  \n",
       "2       2  100000.0          2017     70-79     100-109K         2  \n",
       "3       2  100000.0          2017     70-79     100-109K         3  \n",
       "4       2  100000.0          2017     70-79     100-109K         2  "
      ]
     },
     "execution_count": 114,
     "metadata": {},
     "output_type": "execute_result"
    }
   ],
   "source": [
    "final_df['offer_id'] = final_df['offer_id'].map(offer_dict)\n",
    "final_df.head()"
   ]
  },
  {
   "cell_type": "code",
   "execution_count": 81,
   "metadata": {},
   "outputs": [],
   "source": [
    "X = final_df.drop(['event_id','person_id'], axis=1)\n",
    "Y = final_df['event_id']"
   ]
  },
  {
   "cell_type": "code",
   "execution_count": 82,
   "metadata": {},
   "outputs": [
    {
     "data": {
      "text/html": [
       "<div>\n",
       "<style scoped>\n",
       "    .dataframe tbody tr th:only-of-type {\n",
       "        vertical-align: middle;\n",
       "    }\n",
       "\n",
       "    .dataframe tbody tr th {\n",
       "        vertical-align: top;\n",
       "    }\n",
       "\n",
       "    .dataframe thead th {\n",
       "        text-align: right;\n",
       "    }\n",
       "</style>\n",
       "<table border=\"1\" class=\"dataframe\">\n",
       "  <thead>\n",
       "    <tr style=\"text-align: right;\">\n",
       "      <th></th>\n",
       "      <th>event</th>\n",
       "      <th>time</th>\n",
       "      <th>amount</th>\n",
       "      <th>offer_id</th>\n",
       "      <th>reward</th>\n",
       "      <th>difficulty</th>\n",
       "      <th>duration</th>\n",
       "      <th>offer_type</th>\n",
       "      <th>web</th>\n",
       "      <th>email</th>\n",
       "      <th>mobile</th>\n",
       "      <th>social</th>\n",
       "      <th>age</th>\n",
       "      <th>gender</th>\n",
       "      <th>income</th>\n",
       "      <th>member_since</th>\n",
       "      <th>age_range</th>\n",
       "      <th>income_range</th>\n",
       "    </tr>\n",
       "  </thead>\n",
       "  <tbody>\n",
       "    <tr>\n",
       "      <th>0</th>\n",
       "      <td>offer received</td>\n",
       "      <td>0</td>\n",
       "      <td>0.0</td>\n",
       "      <td>9b98b8c7a33c4b65b9aebfe6a799e6d9</td>\n",
       "      <td>0.0</td>\n",
       "      <td>5.0</td>\n",
       "      <td>168.0</td>\n",
       "      <td>0.0</td>\n",
       "      <td>1.0</td>\n",
       "      <td>1.0</td>\n",
       "      <td>1.0</td>\n",
       "      <td>0.0</td>\n",
       "      <td>75</td>\n",
       "      <td>2</td>\n",
       "      <td>100000.0</td>\n",
       "      <td>2017</td>\n",
       "      <td>70-79</td>\n",
       "      <td>100-109K</td>\n",
       "    </tr>\n",
       "  </tbody>\n",
       "</table>\n",
       "</div>"
      ],
      "text/plain": [
       "            event  time  amount                          offer_id  reward  \\\n",
       "0  offer received     0     0.0  9b98b8c7a33c4b65b9aebfe6a799e6d9     0.0   \n",
       "\n",
       "   difficulty  duration  offer_type  web  email  mobile  social  age  gender  \\\n",
       "0         5.0     168.0         0.0  1.0    1.0     1.0     0.0   75       2   \n",
       "\n",
       "     income  member_since age_range income_range  \n",
       "0  100000.0          2017     70-79     100-109K  "
      ]
     },
     "execution_count": 82,
     "metadata": {},
     "output_type": "execute_result"
    }
   ],
   "source": [
    "X.head(1)"
   ]
  },
  {
   "cell_type": "code",
   "execution_count": 83,
   "metadata": {},
   "outputs": [
    {
     "data": {
      "text/plain": [
       "0    0\n",
       "1    1\n",
       "2    2\n",
       "3    3\n",
       "4    2\n",
       "Name: event_id, dtype: int64"
      ]
     },
     "execution_count": 83,
     "metadata": {},
     "output_type": "execute_result"
    }
   ],
   "source": [
    "Y.head()"
   ]
  },
  {
   "cell_type": "markdown",
   "metadata": {},
   "source": [
    "The shape is:"
   ]
  },
  {
   "cell_type": "code",
   "execution_count": 84,
   "metadata": {},
   "outputs": [
    {
     "data": {
      "text/plain": [
       "((272762, 18), (272762,))"
      ]
     },
     "execution_count": 84,
     "metadata": {},
     "output_type": "execute_result"
    }
   ],
   "source": [
    "X.shape , Y.shape"
   ]
  },
  {
   "cell_type": "markdown",
   "metadata": {},
   "source": [
    "# Scaling: normalization and standardization"
   ]
  },
  {
   "cell_type": "code",
   "execution_count": 85,
   "metadata": {},
   "outputs": [
    {
     "name": "stderr",
     "output_type": "stream",
     "text": [
      "Using TensorFlow backend.\n"
     ]
    }
   ],
   "source": [
    "import tensorflow as tf\n",
    "import keras\n",
    "from sklearn.preprocessing import StandardScaler\n",
    "from sklearn.model_selection import train_test_split\n",
    "from tensorflow import layers\n",
    "from keras.models import Sequential\n",
    "from keras.layers import Dense, Activation"
   ]
  },
  {
   "cell_type": "markdown",
   "metadata": {},
   "source": [
    "We define the name of the class. In thus case, the event:"
   ]
  },
  {
   "cell_type": "code",
   "execution_count": 86,
   "metadata": {},
   "outputs": [],
   "source": [
    "name_of_class =['offer recieved', 'offer viewed', 'offer completed','transaction']"
   ]
  },
  {
   "cell_type": "markdown",
   "metadata": {},
   "source": [
    "We need to dividethe data in test and train:"
   ]
  },
  {
   "cell_type": "code",
   "execution_count": 87,
   "metadata": {},
   "outputs": [],
   "source": [
    "X_train, X_test, y_train, y_test = train_test_split(X, Y, test_size=0.2, random_state=40)"
   ]
  },
  {
   "cell_type": "code",
   "execution_count": 88,
   "metadata": {},
   "outputs": [
    {
     "data": {
      "text/plain": [
       "((218209, 18), (54553, 18), (218209,), (54553,))"
      ]
     },
     "execution_count": 88,
     "metadata": {},
     "output_type": "execute_result"
    }
   ],
   "source": [
    "X_train.shape, X_test.shape, y_train.shape, y_test.shape"
   ]
  },
  {
   "cell_type": "markdown",
   "metadata": {},
   "source": [
    "**Standard**"
   ]
  },
  {
   "cell_type": "code",
   "execution_count": 89,
   "metadata": {},
   "outputs": [],
   "source": [
    "std = StandardScaler()"
   ]
  },
  {
   "cell_type": "code",
   "execution_count": 90,
   "metadata": {},
   "outputs": [
    {
     "name": "stderr",
     "output_type": "stream",
     "text": [
      "/opt/conda/lib/python3.6/site-packages/pandas/core/generic.py:4405: SettingWithCopyWarning: \n",
      "A value is trying to be set on a copy of a slice from a DataFrame.\n",
      "Try using .loc[row_indexer,col_indexer] = value instead\n",
      "\n",
      "See the caveats in the documentation: http://pandas.pydata.org/pandas-docs/stable/indexing.html#indexing-view-versus-copy\n",
      "  self[name] = value\n",
      "/opt/conda/lib/python3.6/site-packages/sklearn/utils/validation.py:475: DataConversionWarning: Data with input dtype int64 was converted to float64 by StandardScaler.\n",
      "  warnings.warn(msg, DataConversionWarning)\n"
     ]
    }
   ],
   "source": [
    "X_train.income = std.fit_transform(X_train.income.values.reshape(-1, 1))\n",
    "X_train.age = std.fit_transform(X_train.age.values.reshape(-1, 1))\n",
    "\n",
    "X_train.reset_index(inplace=True)\n",
    "X_train = X_train.drop(['index'], axis=1)"
   ]
  },
  {
   "cell_type": "code",
   "execution_count": 91,
   "metadata": {},
   "outputs": [
    {
     "name": "stderr",
     "output_type": "stream",
     "text": [
      "/opt/conda/lib/python3.6/site-packages/pandas/core/generic.py:4405: SettingWithCopyWarning: \n",
      "A value is trying to be set on a copy of a slice from a DataFrame.\n",
      "Try using .loc[row_indexer,col_indexer] = value instead\n",
      "\n",
      "See the caveats in the documentation: http://pandas.pydata.org/pandas-docs/stable/indexing.html#indexing-view-versus-copy\n",
      "  self[name] = value\n",
      "/opt/conda/lib/python3.6/site-packages/sklearn/utils/validation.py:475: DataConversionWarning: Data with input dtype int64 was converted to float64 by StandardScaler.\n",
      "  warnings.warn(msg, DataConversionWarning)\n"
     ]
    }
   ],
   "source": [
    "X_test.income = std.transform(X_test.income.values.reshape(-1, 1))\n",
    "X_test.age = std.fit_transform(X_test.age.values.reshape(-1, 1))\n",
    "\n",
    "X_test.reset_index(inplace=True)\n",
    "X_test = X_test.drop(['index'], axis=1)"
   ]
  },
  {
   "cell_type": "code",
   "execution_count": 92,
   "metadata": {},
   "outputs": [
    {
     "data": {
      "text/plain": [
       "((218209, 18), (54553, 18))"
      ]
     },
     "execution_count": 92,
     "metadata": {},
     "output_type": "execute_result"
    }
   ],
   "source": [
    "X_train.shape, X_test.shape"
   ]
  },
  {
   "cell_type": "markdown",
   "metadata": {},
   "source": [
    "After that, we need to converto into np array to do a model:"
   ]
  },
  {
   "cell_type": "code",
   "execution_count": 93,
   "metadata": {},
   "outputs": [],
   "source": [
    "X_train = X_train.values\n",
    "X_test = X_test.values\n",
    "y_train = y_train.values\n",
    "y_test = y_test.values"
   ]
  },
  {
   "cell_type": "markdown",
   "metadata": {},
   "source": [
    "# MODEL"
   ]
  },
  {
   "cell_type": "code",
   "execution_count": 94,
   "metadata": {},
   "outputs": [],
   "source": [
    "model = keras.models.Sequential()"
   ]
  },
  {
   "cell_type": "markdown",
   "metadata": {},
   "source": [
    "We increment via the add() method:"
   ]
  },
  {
   "attachments": {
    "image.png": {
     "image/png": "[encoded data removed]"
    }
   },
   "cell_type": "markdown",
   "metadata": {},
   "source": [
    "![image.png](attachment:image.png)"
   ]
  },
  {
   "cell_type": "code",
   "execution_count": 134,
   "metadata": {},
   "outputs": [],
   "source": [
    "model.add(keras.layers.Dense(6,input_dim=7, kernel_initializer = 'normal',activation='relu'))\n",
    "model.add(keras.layers.Dense(6,activation='relu'))\n",
    "model.add(keras.layers.Dense(4,activation='softmax'))"
   ]
  },
  {
   "attachments": {
    "image.png": {
     "image/png": "[encoded data removed]"
    }
   },
   "cell_type": "markdown",
   "metadata": {},
   "source": [
    "![image.png](attachment:image.png)"
   ]
  },
  {
   "cell_type": "code",
   "execution_count": 135,
   "metadata": {},
   "outputs": [],
   "source": [
    "model.compile(loss = 'sparse_categorical_crossentropy', \n",
    "            optimizer = 'adam',\n",
    "            metrics = ['accuracy'])"
   ]
  },
  {
   "cell_type": "code",
   "execution_count": 136,
   "metadata": {},
   "outputs": [
    {
     "name": "stdout",
     "output_type": "stream",
     "text": [
      "Train on 190933 samples, validate on 81829 samples\n",
      "Epoch 1/15\n",
      "190933/190933 [==============================] - 15s 78us/step - loss: nan - acc: 0.2434 - val_loss: nan - val_acc: 0.2448\n",
      "Epoch 2/15\n",
      "190933/190933 [==============================] - 15s 77us/step - loss: nan - acc: 0.2434 - val_loss: nan - val_acc: 0.2448\n",
      "Epoch 3/15\n",
      "190933/190933 [==============================] - 13s 67us/step - loss: nan - acc: 0.2434 - val_loss: nan - val_acc: 0.2448\n",
      "Epoch 4/15\n",
      "190933/190933 [==============================] - 16s 85us/step - loss: nan - acc: 0.2434 - val_loss: nan - val_acc: 0.2448\n",
      "Epoch 5/15\n",
      "190933/190933 [==============================] - 14s 76us/step - loss: nan - acc: 0.2434 - val_loss: nan - val_acc: 0.2448\n",
      "Epoch 6/15\n",
      "190933/190933 [==============================] - 16s 84us/step - loss: nan - acc: 0.2434 - val_loss: nan - val_acc: 0.2448\n",
      "Epoch 7/15\n",
      "190933/190933 [==============================] - 15s 78us/step - loss: nan - acc: 0.2434 - val_loss: nan - val_acc: 0.2448s: nan - ETA: 1s - loss: nan - acc: 0. - ETA: 1s\n",
      "Epoch 8/15\n",
      "190933/190933 [==============================] - 16s 83us/step - loss: nan - acc: 0.2434 - val_loss: nan - val_acc: 0.2448\n",
      "Epoch 9/15\n",
      "190933/190933 [==============================] - 14s 75us/step - loss: nan - acc: 0.2434 - val_loss: nan - val_acc: 0.2448\n",
      "Epoch 10/15\n",
      "190933/190933 [==============================] - 14s 71us/step - loss: nan - acc: 0.2434 - val_loss: nan - val_acc: 0.2448\n",
      "Epoch 11/15\n",
      "190933/190933 [==============================] - 12s 63us/step - loss: nan - acc: 0.2434 - val_loss: nan - val_acc: 0.2448\n",
      "Epoch 12/15\n",
      "190933/190933 [==============================] - 12s 64us/step - loss: nan - acc: 0.2434 - val_loss: nan - val_acc: 0.2448\n",
      "Epoch 13/15\n",
      "190933/190933 [==============================] - 13s 69us/step - loss: nan - acc: 0.2434 - val_loss: nan - val_acc: 0.2448\n",
      "Epoch 14/15\n",
      "190933/190933 [==============================] - 13s 69us/step - loss: nan - acc: 0.2434 - val_loss: nan - val_acc: 0.2448\n",
      "Epoch 15/15\n",
      "190933/190933 [==============================] - 13s 67us/step - loss: nan - acc: 0.2434 - val_loss: nan - val_acc: 0.2448\n"
     ]
    }
   ],
   "source": [
    "model_hist = model.fit(X_train, y_train, validation_data=(X_test, y_test), epochs=15, batch_size=100)"
   ]
  },
  {
   "cell_type": "code",
   "execution_count": 137,
   "metadata": {},
   "outputs": [
    {
     "name": "stdout",
     "output_type": "stream",
     "text": [
      "_________________________________________________________________\n",
      "Layer (type)                 Output Shape              Param #   \n",
      "=================================================================\n",
      "dense_7 (Dense)              (None, 32)                256       \n",
      "_________________________________________________________________\n",
      "dense_8 (Dense)              (None, 15)                495       \n",
      "_________________________________________________________________\n",
      "dense_9 (Dense)              (None, 10)                160       \n",
      "_________________________________________________________________\n",
      "dense_10 (Dense)             (None, 6)                 66        \n",
      "_________________________________________________________________\n",
      "dense_11 (Dense)             (None, 4)                 28        \n",
      "_________________________________________________________________\n",
      "dense_12 (Dense)             (None, 6)                 30        \n",
      "_________________________________________________________________\n",
      "dense_13 (Dense)             (None, 6)                 42        \n",
      "_________________________________________________________________\n",
      "dense_14 (Dense)             (None, 4)                 28        \n",
      "=================================================================\n",
      "Total params: 1,105\n",
      "Trainable params: 1,105\n",
      "Non-trainable params: 0\n",
      "_________________________________________________________________\n"
     ]
    }
   ],
   "source": [
    "model.summary()       "
   ]
  },
  {
   "cell_type": "code",
   "execution_count": 138,
   "metadata": {},
   "outputs": [
    {
     "data": {
      "text/plain": [
       "{'batch_size': 100,\n",
       " 'epochs': 15,\n",
       " 'steps': None,\n",
       " 'samples': 190933,\n",
       " 'verbose': 1,\n",
       " 'do_validation': True,\n",
       " 'metrics': ['loss', 'acc', 'val_loss', 'val_acc']}"
      ]
     },
     "execution_count": 138,
     "metadata": {},
     "output_type": "execute_result"
    }
   ],
   "source": [
    "model_hist.params"
   ]
  },
  {
   "cell_type": "code",
   "execution_count": 139,
   "metadata": {
    "scrolled": true
   },
   "outputs": [
    {
     "data": {
      "image/png": "[encoded data removed]",
      "text/plain": [
       "<matplotlib.figure.Figure at 0x7fdd17df1b38>"
      ]
     },
     "metadata": {
      "needs_background": "light"
     },
     "output_type": "display_data"
    }
   ],
   "source": [
    "pd.DataFrame(model_hist.history).plot(figsize=(8,5))\n",
    "plt.grid(True)\n",
    "plt.gca().set_ylim(0,1)\n",
    "plt.show()"
   ]
  },
  {
   "cell_type": "markdown",
   "metadata": {},
   "source": [
    "# MATRIX EVALUATION"
   ]
  },
  {
   "cell_type": "code",
   "execution_count": 140,
   "metadata": {},
   "outputs": [
    {
     "name": "stdout",
     "output_type": "stream",
     "text": [
      "81829/81829 [==============================] - 5s 57us/step\n"
     ]
    },
    {
     "data": {
      "text/plain": [
       "[nan, 0.2448154077419889]"
      ]
     },
     "execution_count": 140,
     "metadata": {},
     "output_type": "execute_result"
    }
   ],
   "source": [
    "model.evaluate(X_test , y_test)"
   ]
  },
  {
   "cell_type": "markdown",
   "metadata": {},
   "source": [
    "Conclusion"
   ]
  },
  {
   "cell_type": "markdown",
   "metadata": {},
   "source": [
    "the test accuracy is 24.4% and the rate keep constant during the process. We can do some improvement:"
   ]
  },
  {
   "cell_type": "markdown",
   "metadata": {},
   "source": [
    "# IMPROVE THE MODEL"
   ]
  },
  {
   "cell_type": "markdown",
   "metadata": {},
   "source": [
    "New dataframe with highly recommended features and dependent features, more layers and hidden units"
   ]
  },
  {
   "cell_type": "code",
   "execution_count": 115,
   "metadata": {},
   "outputs": [
    {
     "data": {
      "text/plain": [
       "Index(['event', 'person_id', 'time', 'amount', 'offer_id', 'reward',\n",
       "       'difficulty', 'duration', 'offer_type', 'web', 'email', 'mobile',\n",
       "       'social', 'age', 'gender', 'income', 'member_since', 'age_range',\n",
       "       'income_range', 'event_id'],\n",
       "      dtype='object')"
      ]
     },
     "execution_count": 115,
     "metadata": {},
     "output_type": "execute_result"
    }
   ],
   "source": [
    "final_df.columns"
   ]
  },
  {
   "cell_type": "code",
   "execution_count": 116,
   "metadata": {},
   "outputs": [],
   "source": [
    "X = final_df.drop(['event_id' ,  'amount','event' , 'email', 'mobile', 'social', 'web', 'time','duration','person_id','member_since','age_range','income_range'], axis=1)\n",
    "Y = final_df['event_id']"
   ]
  },
  {
   "cell_type": "code",
   "execution_count": 117,
   "metadata": {},
   "outputs": [
    {
     "data": {
      "text/html": [
       "<div>\n",
       "<style scoped>\n",
       "    .dataframe tbody tr th:only-of-type {\n",
       "        vertical-align: middle;\n",
       "    }\n",
       "\n",
       "    .dataframe tbody tr th {\n",
       "        vertical-align: top;\n",
       "    }\n",
       "\n",
       "    .dataframe thead th {\n",
       "        text-align: right;\n",
       "    }\n",
       "</style>\n",
       "<table border=\"1\" class=\"dataframe\">\n",
       "  <thead>\n",
       "    <tr style=\"text-align: right;\">\n",
       "      <th></th>\n",
       "      <th>offer_id</th>\n",
       "      <th>reward</th>\n",
       "      <th>difficulty</th>\n",
       "      <th>offer_type</th>\n",
       "      <th>age</th>\n",
       "      <th>gender</th>\n",
       "      <th>income</th>\n",
       "    </tr>\n",
       "  </thead>\n",
       "  <tbody>\n",
       "    <tr>\n",
       "      <th>0</th>\n",
       "      <td>0</td>\n",
       "      <td>0.0</td>\n",
       "      <td>5.0</td>\n",
       "      <td>0.0</td>\n",
       "      <td>75</td>\n",
       "      <td>2</td>\n",
       "      <td>100000.0</td>\n",
       "    </tr>\n",
       "    <tr>\n",
       "      <th>1</th>\n",
       "      <td>0</td>\n",
       "      <td>0.0</td>\n",
       "      <td>5.0</td>\n",
       "      <td>0.0</td>\n",
       "      <td>75</td>\n",
       "      <td>2</td>\n",
       "      <td>100000.0</td>\n",
       "    </tr>\n",
       "    <tr>\n",
       "      <th>2</th>\n",
       "      <td>1</td>\n",
       "      <td>0.0</td>\n",
       "      <td>NaN</td>\n",
       "      <td>NaN</td>\n",
       "      <td>75</td>\n",
       "      <td>2</td>\n",
       "      <td>100000.0</td>\n",
       "    </tr>\n",
       "    <tr>\n",
       "      <th>3</th>\n",
       "      <td>0</td>\n",
       "      <td>5.0</td>\n",
       "      <td>5.0</td>\n",
       "      <td>0.0</td>\n",
       "      <td>75</td>\n",
       "      <td>2</td>\n",
       "      <td>100000.0</td>\n",
       "    </tr>\n",
       "    <tr>\n",
       "      <th>4</th>\n",
       "      <td>1</td>\n",
       "      <td>0.0</td>\n",
       "      <td>NaN</td>\n",
       "      <td>NaN</td>\n",
       "      <td>75</td>\n",
       "      <td>2</td>\n",
       "      <td>100000.0</td>\n",
       "    </tr>\n",
       "  </tbody>\n",
       "</table>\n",
       "</div>"
      ],
      "text/plain": [
       "   offer_id  reward  difficulty  offer_type  age  gender    income\n",
       "0         0     0.0         5.0         0.0   75       2  100000.0\n",
       "1         0     0.0         5.0         0.0   75       2  100000.0\n",
       "2         1     0.0         NaN         NaN   75       2  100000.0\n",
       "3         0     5.0         5.0         0.0   75       2  100000.0\n",
       "4         1     0.0         NaN         NaN   75       2  100000.0"
      ]
     },
     "execution_count": 117,
     "metadata": {},
     "output_type": "execute_result"
    }
   ],
   "source": [
    "X.head()"
   ]
  },
  {
   "cell_type": "code",
   "execution_count": 118,
   "metadata": {},
   "outputs": [
    {
     "data": {
      "text/plain": [
       "((272762, 7), (272762,))"
      ]
     },
     "execution_count": 118,
     "metadata": {},
     "output_type": "execute_result"
    }
   ],
   "source": [
    "X.shape , Y.shape"
   ]
  },
  {
   "cell_type": "code",
   "execution_count": 119,
   "metadata": {},
   "outputs": [],
   "source": [
    "X_train, X_test, y_train, y_test = train_test_split(X, Y, test_size=0.3, random_state=42)"
   ]
  },
  {
   "cell_type": "code",
   "execution_count": 120,
   "metadata": {},
   "outputs": [
    {
     "data": {
      "text/plain": [
       "((190933, 7), (81829, 7), (190933,), (81829,))"
      ]
     },
     "execution_count": 120,
     "metadata": {},
     "output_type": "execute_result"
    }
   ],
   "source": [
    "X_train.shape, X_test.shape, y_train.shape, y_test.shape"
   ]
  },
  {
   "cell_type": "code",
   "execution_count": 121,
   "metadata": {},
   "outputs": [
    {
     "name": "stderr",
     "output_type": "stream",
     "text": [
      "/opt/conda/lib/python3.6/site-packages/pandas/core/generic.py:4405: SettingWithCopyWarning: \n",
      "A value is trying to be set on a copy of a slice from a DataFrame.\n",
      "Try using .loc[row_indexer,col_indexer] = value instead\n",
      "\n",
      "See the caveats in the documentation: http://pandas.pydata.org/pandas-docs/stable/indexing.html#indexing-view-versus-copy\n",
      "  self[name] = value\n",
      "/opt/conda/lib/python3.6/site-packages/sklearn/utils/validation.py:475: DataConversionWarning: Data with input dtype int64 was converted to float64 by StandardScaler.\n",
      "  warnings.warn(msg, DataConversionWarning)\n"
     ]
    }
   ],
   "source": [
    "X_train.income = std.fit_transform(X_train.income.values.reshape(-1, 1))\n",
    "X_train.age = std.fit_transform(X_train.age.values.reshape(-1, 1))\n",
    "\n",
    "X_train.reset_index(inplace=True)\n",
    "X_train = X_train.drop(['index'], axis=1)"
   ]
  },
  {
   "cell_type": "code",
   "execution_count": 122,
   "metadata": {},
   "outputs": [
    {
     "name": "stderr",
     "output_type": "stream",
     "text": [
      "/opt/conda/lib/python3.6/site-packages/pandas/core/generic.py:4405: SettingWithCopyWarning: \n",
      "A value is trying to be set on a copy of a slice from a DataFrame.\n",
      "Try using .loc[row_indexer,col_indexer] = value instead\n",
      "\n",
      "See the caveats in the documentation: http://pandas.pydata.org/pandas-docs/stable/indexing.html#indexing-view-versus-copy\n",
      "  self[name] = value\n",
      "/opt/conda/lib/python3.6/site-packages/sklearn/utils/validation.py:475: DataConversionWarning: Data with input dtype int64 was converted to float64 by StandardScaler.\n",
      "  warnings.warn(msg, DataConversionWarning)\n"
     ]
    }
   ],
   "source": [
    "X_test.income = std.transform(X_test.income.values.reshape(-1, 1))\n",
    "X_test.age = std.fit_transform(X_test.age.values.reshape(-1, 1))\n",
    "\n",
    "X_test.reset_index(inplace=True)\n",
    "X_test = X_test.drop(['index'], axis=1)"
   ]
  },
  {
   "cell_type": "code",
   "execution_count": 123,
   "metadata": {},
   "outputs": [],
   "source": [
    "X_train = X_train.values\n",
    "X_test = X_test.values\n",
    "y_train = y_train.values\n",
    "y_test = y_test.values"
   ]
  },
  {
   "cell_type": "code",
   "execution_count": 124,
   "metadata": {},
   "outputs": [],
   "source": [
    "# MODEL"
   ]
  },
  {
   "cell_type": "code",
   "execution_count": 125,
   "metadata": {},
   "outputs": [],
   "source": [
    "model = keras.models.Sequential()"
   ]
  },
  {
   "cell_type": "code",
   "execution_count": 126,
   "metadata": {},
   "outputs": [],
   "source": [
    "model.add(keras.layers.Dense(32, input_dim=7, kernel_initializer = 'normal' ,activation='relu'))\n",
    "model.add(keras.layers.Dense(15, kernel_initializer = 'normal' ,activation='relu'))\n",
    "model.add(keras.layers.Dense(10, kernel_initializer = 'normal' ,activation='relu'))\n",
    "model.add(keras.layers.Dense(6, kernel_initializer = 'normal' ,activation='relu'))\n",
    "model.add(keras.layers.Dense(4, kernel_initializer = 'normal' ,activation = 'softmax'))"
   ]
  },
  {
   "cell_type": "code",
   "execution_count": 127,
   "metadata": {},
   "outputs": [],
   "source": [
    "model.compile(optimizer = 'adam', \n",
    "            loss = 'sparse_categorical_crossentropy', \n",
    "            metrics = ['accuracy'])"
   ]
  },
  {
   "cell_type": "code",
   "execution_count": 128,
   "metadata": {},
   "outputs": [
    {
     "name": "stdout",
     "output_type": "stream",
     "text": [
      "Train on 190933 samples, validate on 81829 samples\n",
      "Epoch 1/15\n",
      " - 9s - loss: nan - acc: 0.2434 - val_loss: nan - val_acc: 0.2448\n",
      "Epoch 2/15\n",
      " - 8s - loss: nan - acc: 0.2434 - val_loss: nan - val_acc: 0.2448\n",
      "Epoch 3/15\n",
      " - 8s - loss: nan - acc: 0.2434 - val_loss: nan - val_acc: 0.2448\n",
      "Epoch 4/15\n",
      " - 8s - loss: nan - acc: 0.2434 - val_loss: nan - val_acc: 0.2448\n",
      "Epoch 5/15\n",
      " - 9s - loss: nan - acc: 0.2434 - val_loss: nan - val_acc: 0.2448\n",
      "Epoch 6/15\n",
      " - 8s - loss: nan - acc: 0.2434 - val_loss: nan - val_acc: 0.2448\n",
      "Epoch 7/15\n",
      " - 8s - loss: nan - acc: 0.2434 - val_loss: nan - val_acc: 0.2448\n",
      "Epoch 8/15\n",
      " - 8s - loss: nan - acc: 0.2434 - val_loss: nan - val_acc: 0.2448\n",
      "Epoch 9/15\n",
      " - 8s - loss: nan - acc: 0.2434 - val_loss: nan - val_acc: 0.2448\n",
      "Epoch 10/15\n",
      " - 8s - loss: nan - acc: 0.2434 - val_loss: nan - val_acc: 0.2448\n",
      "Epoch 11/15\n",
      " - 9s - loss: nan - acc: 0.2434 - val_loss: nan - val_acc: 0.2448\n",
      "Epoch 12/15\n",
      " - 9s - loss: nan - acc: 0.2434 - val_loss: nan - val_acc: 0.2448\n",
      "Epoch 13/15\n",
      " - 8s - loss: nan - acc: 0.2434 - val_loss: nan - val_acc: 0.2448\n",
      "Epoch 14/15\n",
      " - 8s - loss: nan - acc: 0.2434 - val_loss: nan - val_acc: 0.2448\n",
      "Epoch 15/15\n",
      " - 8s - loss: nan - acc: 0.2434 - val_loss: nan - val_acc: 0.2448\n"
     ]
    }
   ],
   "source": [
    "model_history = model.fit(X_train, y_train, validation_data=(X_test, y_test), epochs=15, batch_size=100 , verbose = 2)"
   ]
  },
  {
   "cell_type": "code",
   "execution_count": 129,
   "metadata": {},
   "outputs": [
    {
     "name": "stdout",
     "output_type": "stream",
     "text": [
      "_________________________________________________________________\n",
      "Layer (type)                 Output Shape              Param #   \n",
      "=================================================================\n",
      "dense_7 (Dense)              (None, 32)                256       \n",
      "_________________________________________________________________\n",
      "dense_8 (Dense)              (None, 15)                495       \n",
      "_________________________________________________________________\n",
      "dense_9 (Dense)              (None, 10)                160       \n",
      "_________________________________________________________________\n",
      "dense_10 (Dense)             (None, 6)                 66        \n",
      "_________________________________________________________________\n",
      "dense_11 (Dense)             (None, 4)                 28        \n",
      "=================================================================\n",
      "Total params: 1,005\n",
      "Trainable params: 1,005\n",
      "Non-trainable params: 0\n",
      "_________________________________________________________________\n"
     ]
    }
   ],
   "source": [
    "model.summary()"
   ]
  },
  {
   "cell_type": "code",
   "execution_count": 130,
   "metadata": {},
   "outputs": [
    {
     "data": {
      "text/plain": [
       "{'batch_size': 100,\n",
       " 'epochs': 15,\n",
       " 'steps': None,\n",
       " 'samples': 190933,\n",
       " 'verbose': 2,\n",
       " 'do_validation': True,\n",
       " 'metrics': ['loss', 'acc', 'val_loss', 'val_acc']}"
      ]
     },
     "execution_count": 130,
     "metadata": {},
     "output_type": "execute_result"
    }
   ],
   "source": [
    "model_history.params"
   ]
  },
  {
   "cell_type": "code",
   "execution_count": 133,
   "metadata": {},
   "outputs": [
    {
     "data": {
      "image/png": "[encoded data removed]",
      "text/plain": [
       "<matplotlib.figure.Figure at 0x7fdd18057c50>"
      ]
     },
     "metadata": {
      "needs_background": "light"
     },
     "output_type": "display_data"
    }
   ],
   "source": [
    "pd.DataFrame(model_history.history).plot(figsize=(8,5))\n",
    "plt.grid(True)\n",
    "plt.gca().set_ylim(0,1)\n",
    "plt.show()"
   ]
  },
  {
   "cell_type": "markdown",
   "metadata": {},
   "source": [
    "# MATRIX EVALUATION"
   ]
  },
  {
   "cell_type": "code",
   "execution_count": 132,
   "metadata": {},
   "outputs": [
    {
     "name": "stdout",
     "output_type": "stream",
     "text": [
      "81829/81829 [==============================] - 4s 52us/step\n"
     ]
    },
    {
     "data": {
      "text/plain": [
       "[nan, 0.2448154077419889]"
      ]
     },
     "execution_count": 132,
     "metadata": {},
     "output_type": "execute_result"
    }
   ],
   "source": [
    "model.evaluate(X_test , y_test)"
   ]
  },
  {
   "cell_type": "code",
   "execution_count": null,
   "metadata": {},
   "outputs": [],
   "source": [
    "from subprocess import call\n",
    "call(['python', '-m', 'nbconvert', 'Starbucks_Capstone_notebook.ipynb'])"
   ]
  },
  {
   "cell_type": "markdown",
   "metadata": {},
   "source": [
    "# CONCLUSION"
   ]
  },
  {
   "cell_type": "markdown",
   "metadata": {},
   "source": [
    "The most occuring event is 'offer_received', so I tried to do a model with that, but the results of the model seems like not so good. \n",
    "\n",
    "There is no change in rate of accuracy it keep constant.\n",
    "\n",
    "Major classes perform well but not minorities classes. This is because an imbalance dataset.\n",
    "\n",
    "**Potential improvement**: Design, analysis and build deep learning model"
   ]
  }
 ],
 "metadata": {
  "kernelspec": {
   "display_name": "Python 3",
   "language": "python",
   "name": "python3"
  },
  "language_info": {
   "codemirror_mode": {
    "name": "ipython",
    "version": 3
   },
   "file_extension": ".py",
   "mimetype": "text/x-python",
   "name": "python",
   "nbconvert_exporter": "python",
   "pygments_lexer": "ipython3",
   "version": "3.6.3"
  }
 },
 "nbformat": 4,
 "nbformat_minor": 2
}
